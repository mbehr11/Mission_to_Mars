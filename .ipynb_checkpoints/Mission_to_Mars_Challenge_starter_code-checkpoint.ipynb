{
 "cells": [
  {
   "cell_type": "code",
   "execution_count": 1,
   "metadata": {},
   "outputs": [],
   "source": [
    "# Import Splinter, BeautifulSoup, and Pandas\n",
    "from splinter import Browser\n",
    "from bs4 import BeautifulSoup as soup\n",
    "import pandas as pd\n",
    "from webdriver_manager.chrome import ChromeDriverManager"
   ]
  },
  {
   "cell_type": "code",
   "execution_count": 2,
   "metadata": {},
   "outputs": [
    {
     "name": "stderr",
     "output_type": "stream",
     "text": [
      "\n",
      "\n",
      "====== WebDriver manager ======\n",
      "Current google-chrome version is 92.0.4515\n",
      "Get LATEST driver version for 92.0.4515\n",
      "Driver [C:\\Users\\morga\\.wdm\\drivers\\chromedriver\\win32\\92.0.4515.107\\chromedriver.exe] found in cache\n"
     ]
    }
   ],
   "source": [
    "# Set the executable path and initialize Splinter\n",
    "executable_path = {'executable_path': ChromeDriverManager().install()}\n",
    "browser = Browser('chrome', **executable_path, headless=False)"
   ]
  },
  {
   "cell_type": "markdown",
   "metadata": {},
   "source": [
    "### Visit the NASA Mars News Site"
   ]
  },
  {
   "cell_type": "code",
   "execution_count": 3,
   "metadata": {},
   "outputs": [
    {
     "data": {
      "text/plain": [
       "True"
      ]
     },
     "execution_count": 3,
     "metadata": {},
     "output_type": "execute_result"
    }
   ],
   "source": [
    "# Visit the mars nasa news site\n",
    "url = 'https://redplanetscience.com/'\n",
    "browser.visit(url)\n",
    "\n",
    "# Optional delay for loading the page\n",
    "browser.is_element_present_by_css('div.list_text', wait_time=1)"
   ]
  },
  {
   "cell_type": "code",
   "execution_count": 4,
   "metadata": {},
   "outputs": [
    {
     "data": {
      "text/plain": [
       "'<html><head>\\n      <meta charset=\"utf-8\">\\n      <meta name=\"viewport\" content=\"width=device-width, initial-scale=1\">\\n      <link href=\"https://cdn.jsdelivr.net/npm/bootstrap@5.0.0-beta1/dist/css/bootstrap.min.css\" rel=\"stylesheet\" integrity=\"sha384-giJF6kkoqNQ00vy+HMDP7azOuL0xtbfIcaT9wjKHr8RbDVddVHyTfAAsrekwKmP1\" crossorigin=\"anonymous\">\\n      <link rel=\"stylesheet\" type=\"text/css\" href=\"css/font.css\">\\n      <link rel=\"stylesheet\" type=\"text/css\" href=\"css/app.css\">\\n      <link rel=\"stylesheet\" href=\"https://pro.fontawesome.com/releases/v5.10.0/css/all.css\" integrity=\"sha384-AYmEC3Yw5cVb3ZcuHtOA93w35dYTsvhLPVnYs9eStHfGJvOvKxVfELGroGkvsg+p\" crossorigin=\"anonymous\">\\n      <title>News - Mars Exploration Program</title>\\n   </head>\\n   <body>\\n      <div class=\"col-md-12\">\\n      <div class=\"row\">\\n      <nav class=\"navbar navbar-expand-lg navbar-light fixed-top\">\\n         <div class=\"container-fluid\">\\n            <a class=\"navbar-brand\" href=\"#\"> \\n            <img src=\"image/nasa.png\" width=\"80\"><span class=\"logo\">MARS Planet Science</span>\\n            <span class=\"logo1\">Exploration Program</span>\\n            </a>\\n            <button class=\"navbar-toggler\" type=\"button\" data-bs-toggle=\"collapse\" data-bs-target=\"#navbarNav\" aria-controls=\"navbarNav\" aria-expanded=\"false\" aria-label=\"Toggle navigation\">\\n            <span class=\"navbar-toggler-icon\"></span>\\n            </button>\\n            <div class=\"collapse navbar-collapse justify-content-end\" id=\"navbarNav\">\\n               <ul class=\"navbar-nav\">\\n                  <li class=\"nav-item\">\\n                     <a class=\"nav-link active\" aria-current=\"page\" href=\"#\">The Red Planet</a>\\n                  </li>\\n                  <li class=\"nav-item\">\\n                     <a class=\"nav-link\" href=\"#\">The Program</a>\\n                  </li>\\n                  <li class=\"nav-item\">\\n                     <a class=\"nav-link\" href=\"#\">News &amp; Events</a>\\n                  </li>\\n                  <li class=\"nav-item\">\\n                     <a class=\"nav-link\" href=\"#\">Multimedia</a>\\n                  </li>\\n                  <li class=\"nav-item\">\\n                     <a class=\"nav-link\" href=\"#\">Missions</a>\\n                  </li>\\n                  <li class=\"nav-item\">\\n                     <a class=\"nav-link\" href=\"#\">More</a>\\n                  </li>\\n                  <li class=\"nav-item nav_search\">\\n                     <a class=\"nav-link \" href=\"#\"></a>\\n                  </li>\\n               </ul>\\n            </div>\\n         </div>\\n      </nav>\\n      <section class=\"search\">\\n         <div class=\"container\">\\n            <h1>News</h1>\\n            <div class=\"col-md-12 filter\">\\n               <div class=\"row\">\\n                  <div class=\"col-md-3 search_binder\">\\n                     <input type=\"text\" name=\"search\" class=\"search_field\">\\n                     <input type=\"text\" name=\"search\" class=\"search_submit\">\\n                  </div>\\n                  <div class=\"col-md-3\">\\n                     <select id=\"year\" class=\"form-select \" aria-label=\"Default select example\">\\n                        <option selected=\"\">Latest</option>\\n\\n                     <option>2020</option><option>2019</option></select>\\n                  </div>\\n                  <div class=\"col-md-3\">\\n                     <select id=\"cat\" class=\"form-select \" aria-label=\"Default select example\">\\n                        <option selected=\"\">All Categories</option>\\n\\n                     <option>Feature Stories</option><option>Press Releases</option><option>Status Reports</option></select>\\n                  </div>\\n                  <div class=\"col-md-3\">\\t\\t\\t\\t\\t\\t\\n                  </div>\\n               </div>\\n            </div>\\n         </div>\\n      </section>\\n      <section class=\"image_and_description_container\">\\n         <div id=\"news\" class=\"container \">\\n\\n         \\n\\t\\t\\t\\t\\t\\t\\t\\t<div class=\"col-md-12\">\\n\\t\\t\\t\\t\\t\\t\\t\\t\\t   <hr>\\n\\t\\t\\t\\t\\t\\t\\t\\t\\t   <div class=\"row\">\\n\\t\\t\\t\\t\\t\\t\\t\\t\\t\\t  <div class=\"col-md-4\">\\n\\t\\t\\t\\t\\t\\t\\t\\t\\t\\t\\t <div class=\"list_image\">\\n\\t\\t\\t\\t\\t\\t\\t\\t\\t\\t\\t\\t<img src=\"https://mars.nasa.gov/system/news_items/list_view_images/8721_24759_PIA23491-320x240.jpg\">\\n\\t\\t\\t\\t\\t\\t\\t\\t\\t\\t\\t </div>\\n\\t\\t\\t\\t\\t\\t\\t\\t\\t\\t  </div>\\n\\t\\t\\t\\t\\t\\t\\t\\t\\t\\t  <div class=\"col-md-8\">\\n\\t\\t\\t\\t\\t\\t\\t\\t\\t\\t  \\t<div class=\"list_text\">\\n\\t\\t\\t\\t\\t\\t\\t\\t\\t\\t\\t <div class=\"list_date\">August 18, 2021</div>\\n\\t\\t\\t\\t\\t\\t\\t\\t\\t\\t\\t <div class=\"content_title\">A New Video Captures the Science of NASA\\'s Perseverance Mars Rover</div>\\n\\t\\t\\t\\t\\t\\t\\t\\t\\t\\t\\t <div class=\"article_teaser_body\">With a targeted launch date of July 30, the next robotic scientist NASA is sending to the to the Red Planet has big ambitions.</div>\\n\\t\\t\\t\\t\\t\\t\\t\\t\\t\\t\\t </div>\\n\\t\\t\\t\\t\\t\\t\\t\\t\\t\\t  </div>\\n\\t\\t\\t\\t\\t\\t\\t\\t\\t   </div>\\n\\t\\t\\t\\t\\t\\t\\t\\t\\t</div>\\n\\t\\t\\t\\t\\t\\t\\n\\t\\t\\t\\t\\t\\t\\t\\t<div class=\"col-md-12\">\\n\\t\\t\\t\\t\\t\\t\\t\\t\\t   <hr>\\n\\t\\t\\t\\t\\t\\t\\t\\t\\t   <div class=\"row\">\\n\\t\\t\\t\\t\\t\\t\\t\\t\\t\\t  <div class=\"col-md-4\">\\n\\t\\t\\t\\t\\t\\t\\t\\t\\t\\t\\t <div class=\"list_image\">\\n\\t\\t\\t\\t\\t\\t\\t\\t\\t\\t\\t\\t<img src=\"https://mars.nasa.gov/system/news_items/list_view_images/8815_C1-bill-allen-Mars-Yard-2020-320.jpg\">\\n\\t\\t\\t\\t\\t\\t\\t\\t\\t\\t\\t </div>\\n\\t\\t\\t\\t\\t\\t\\t\\t\\t\\t  </div>\\n\\t\\t\\t\\t\\t\\t\\t\\t\\t\\t  <div class=\"col-md-8\">\\n\\t\\t\\t\\t\\t\\t\\t\\t\\t\\t  \\t<div class=\"list_text\">\\n\\t\\t\\t\\t\\t\\t\\t\\t\\t\\t\\t <div class=\"list_date\">August 17, 2021</div>\\n\\t\\t\\t\\t\\t\\t\\t\\t\\t\\t\\t <div class=\"content_title\">From JPL\\'s Mailroom to Mars and Beyond</div>\\n\\t\\t\\t\\t\\t\\t\\t\\t\\t\\t\\t <div class=\"article_teaser_body\">Bill Allen has thrived as the mechanical systems design lead for three Mars rover missions, but he got his start as a teenager sorting letters for the NASA center.</div>\\n\\t\\t\\t\\t\\t\\t\\t\\t\\t\\t\\t </div>\\n\\t\\t\\t\\t\\t\\t\\t\\t\\t\\t  </div>\\n\\t\\t\\t\\t\\t\\t\\t\\t\\t   </div>\\n\\t\\t\\t\\t\\t\\t\\t\\t\\t</div>\\n\\t\\t\\t\\t\\t\\t\\n\\t\\t\\t\\t\\t\\t\\t\\t<div class=\"col-md-12\">\\n\\t\\t\\t\\t\\t\\t\\t\\t\\t   <hr>\\n\\t\\t\\t\\t\\t\\t\\t\\t\\t   <div class=\"row\">\\n\\t\\t\\t\\t\\t\\t\\t\\t\\t\\t  <div class=\"col-md-4\">\\n\\t\\t\\t\\t\\t\\t\\t\\t\\t\\t\\t <div class=\"list_image\">\\n\\t\\t\\t\\t\\t\\t\\t\\t\\t\\t\\t\\t<img src=\"https://mars.nasa.gov/system/news_items/list_view_images/8776_PIA24098-320.gif\">\\n\\t\\t\\t\\t\\t\\t\\t\\t\\t\\t\\t </div>\\n\\t\\t\\t\\t\\t\\t\\t\\t\\t\\t  </div>\\n\\t\\t\\t\\t\\t\\t\\t\\t\\t\\t  <div class=\"col-md-8\">\\n\\t\\t\\t\\t\\t\\t\\t\\t\\t\\t  \\t<div class=\"list_text\">\\n\\t\\t\\t\\t\\t\\t\\t\\t\\t\\t\\t <div class=\"list_date\">August 8, 2021</div>\\n\\t\\t\\t\\t\\t\\t\\t\\t\\t\\t\\t <div class=\"content_title\">NASA InSight\\'s \\'Mole\\' Is Out of Sight</div>\\n\\t\\t\\t\\t\\t\\t\\t\\t\\t\\t\\t <div class=\"article_teaser_body\">Now that the heat probe is just below the Martian surface, InSight\\'s arm will scoop some additional soil on top to help it keep digging so it can take Mars\\' temperature.</div>\\n\\t\\t\\t\\t\\t\\t\\t\\t\\t\\t\\t </div>\\n\\t\\t\\t\\t\\t\\t\\t\\t\\t\\t  </div>\\n\\t\\t\\t\\t\\t\\t\\t\\t\\t   </div>\\n\\t\\t\\t\\t\\t\\t\\t\\t\\t</div>\\n\\t\\t\\t\\t\\t\\t\\n\\t\\t\\t\\t\\t\\t\\t\\t<div class=\"col-md-12\">\\n\\t\\t\\t\\t\\t\\t\\t\\t\\t   <hr>\\n\\t\\t\\t\\t\\t\\t\\t\\t\\t   <div class=\"row\">\\n\\t\\t\\t\\t\\t\\t\\t\\t\\t\\t  <div class=\"col-md-4\">\\n\\t\\t\\t\\t\\t\\t\\t\\t\\t\\t\\t <div class=\"list_image\">\\n\\t\\t\\t\\t\\t\\t\\t\\t\\t\\t\\t\\t<img src=\"https://mars.nasa.gov/system/news_items/list_view_images/8601_PIA23316-320x240.jpg\">\\n\\t\\t\\t\\t\\t\\t\\t\\t\\t\\t\\t </div>\\n\\t\\t\\t\\t\\t\\t\\t\\t\\t\\t  </div>\\n\\t\\t\\t\\t\\t\\t\\t\\t\\t\\t  <div class=\"col-md-8\">\\n\\t\\t\\t\\t\\t\\t\\t\\t\\t\\t  \\t<div class=\"list_text\">\\n\\t\\t\\t\\t\\t\\t\\t\\t\\t\\t\\t <div class=\"list_date\">August 2, 2021</div>\\n\\t\\t\\t\\t\\t\\t\\t\\t\\t\\t\\t <div class=\"content_title\">All About the Laser (and Microphone) Atop Mars 2020, NASA\\'s Next Rover</div>\\n\\t\\t\\t\\t\\t\\t\\t\\t\\t\\t\\t <div class=\"article_teaser_body\">SuperCam is a rock-vaporizing instrument that will help scientists hunt for Mars fossils.</div>\\n\\t\\t\\t\\t\\t\\t\\t\\t\\t\\t\\t </div>\\n\\t\\t\\t\\t\\t\\t\\t\\t\\t\\t  </div>\\n\\t\\t\\t\\t\\t\\t\\t\\t\\t   </div>\\n\\t\\t\\t\\t\\t\\t\\t\\t\\t</div>\\n\\t\\t\\t\\t\\t\\t\\n\\t\\t\\t\\t\\t\\t\\t\\t<div class=\"col-md-12\">\\n\\t\\t\\t\\t\\t\\t\\t\\t\\t   <hr>\\n\\t\\t\\t\\t\\t\\t\\t\\t\\t   <div class=\"row\">\\n\\t\\t\\t\\t\\t\\t\\t\\t\\t\\t  <div class=\"col-md-4\">\\n\\t\\t\\t\\t\\t\\t\\t\\t\\t\\t\\t <div class=\"list_image\">\\n\\t\\t\\t\\t\\t\\t\\t\\t\\t\\t\\t\\t<img src=\"https://mars.nasa.gov/system/news_items/list_view_images/8659_1-PIA23883-MAIN-320x240.jpg\">\\n\\t\\t\\t\\t\\t\\t\\t\\t\\t\\t\\t </div>\\n\\t\\t\\t\\t\\t\\t\\t\\t\\t\\t  </div>\\n\\t\\t\\t\\t\\t\\t\\t\\t\\t\\t  <div class=\"col-md-8\">\\n\\t\\t\\t\\t\\t\\t\\t\\t\\t\\t  \\t<div class=\"list_text\">\\n\\t\\t\\t\\t\\t\\t\\t\\t\\t\\t\\t <div class=\"list_date\">August 1, 2021</div>\\n\\t\\t\\t\\t\\t\\t\\t\\t\\t\\t\\t <div class=\"content_title\">Alabama High School Student Names NASA\\'s Mars Helicopter</div>\\n\\t\\t\\t\\t\\t\\t\\t\\t\\t\\t\\t <div class=\"article_teaser_body\">Vaneeza Rupani\\'s essay was chosen as the name for the small spacecraft, which will mark NASA\\'s first attempt at powered flight on another planet.</div>\\n\\t\\t\\t\\t\\t\\t\\t\\t\\t\\t\\t </div>\\n\\t\\t\\t\\t\\t\\t\\t\\t\\t\\t  </div>\\n\\t\\t\\t\\t\\t\\t\\t\\t\\t   </div>\\n\\t\\t\\t\\t\\t\\t\\t\\t\\t</div>\\n\\t\\t\\t\\t\\t\\t\\n\\t\\t\\t\\t\\t\\t\\t\\t<div class=\"col-md-12\">\\n\\t\\t\\t\\t\\t\\t\\t\\t\\t   <hr>\\n\\t\\t\\t\\t\\t\\t\\t\\t\\t   <div class=\"row\">\\n\\t\\t\\t\\t\\t\\t\\t\\t\\t\\t  <div class=\"col-md-4\">\\n\\t\\t\\t\\t\\t\\t\\t\\t\\t\\t\\t <div class=\"list_image\">\\n\\t\\t\\t\\t\\t\\t\\t\\t\\t\\t\\t\\t<img src=\"https://mars.nasa.gov/system/news_items/list_view_images/8785_PIA24231-320.jpg\">\\n\\t\\t\\t\\t\\t\\t\\t\\t\\t\\t\\t </div>\\n\\t\\t\\t\\t\\t\\t\\t\\t\\t\\t  </div>\\n\\t\\t\\t\\t\\t\\t\\t\\t\\t\\t  <div class=\"col-md-8\">\\n\\t\\t\\t\\t\\t\\t\\t\\t\\t\\t  \\t<div class=\"list_text\">\\n\\t\\t\\t\\t\\t\\t\\t\\t\\t\\t\\t <div class=\"list_date\">August 1, 2021</div>\\n\\t\\t\\t\\t\\t\\t\\t\\t\\t\\t\\t <div class=\"content_title\">NASA\\'s Perseverance Rover Is Midway to Mars </div>\\n\\t\\t\\t\\t\\t\\t\\t\\t\\t\\t\\t <div class=\"article_teaser_body\">Sometimes half measures can be a good thing – especially on a journey this long. The agency\\'s latest rover only has about 146 million miles left to reach its destination.</div>\\n\\t\\t\\t\\t\\t\\t\\t\\t\\t\\t\\t </div>\\n\\t\\t\\t\\t\\t\\t\\t\\t\\t\\t  </div>\\n\\t\\t\\t\\t\\t\\t\\t\\t\\t   </div>\\n\\t\\t\\t\\t\\t\\t\\t\\t\\t</div>\\n\\t\\t\\t\\t\\t\\t\\n\\t\\t\\t\\t\\t\\t\\t\\t<div class=\"col-md-12\">\\n\\t\\t\\t\\t\\t\\t\\t\\t\\t   <hr>\\n\\t\\t\\t\\t\\t\\t\\t\\t\\t   <div class=\"row\">\\n\\t\\t\\t\\t\\t\\t\\t\\t\\t\\t  <div class=\"col-md-4\">\\n\\t\\t\\t\\t\\t\\t\\t\\t\\t\\t\\t <div class=\"list_image\">\\n\\t\\t\\t\\t\\t\\t\\t\\t\\t\\t\\t\\t<img src=\"https://mars.nasa.gov/system/news_items/list_view_images/8619_8588_name20190625-320x240.jpg\">\\n\\t\\t\\t\\t\\t\\t\\t\\t\\t\\t\\t </div>\\n\\t\\t\\t\\t\\t\\t\\t\\t\\t\\t  </div>\\n\\t\\t\\t\\t\\t\\t\\t\\t\\t\\t  <div class=\"col-md-8\">\\n\\t\\t\\t\\t\\t\\t\\t\\t\\t\\t  \\t<div class=\"list_text\">\\n\\t\\t\\t\\t\\t\\t\\t\\t\\t\\t\\t <div class=\"list_date\">July 31, 2021</div>\\n\\t\\t\\t\\t\\t\\t\\t\\t\\t\\t\\t <div class=\"content_title\">NASA to Reveal Name of Its Next Mars Rover</div>\\n\\t\\t\\t\\t\\t\\t\\t\\t\\t\\t\\t <div class=\"article_teaser_body\">After a months-long contest among students to name NASA\\'s newest Mars rover, the agency will reveal the winning name — and the winning student — this Thursday. </div>\\n\\t\\t\\t\\t\\t\\t\\t\\t\\t\\t\\t </div>\\n\\t\\t\\t\\t\\t\\t\\t\\t\\t\\t  </div>\\n\\t\\t\\t\\t\\t\\t\\t\\t\\t   </div>\\n\\t\\t\\t\\t\\t\\t\\t\\t\\t</div>\\n\\t\\t\\t\\t\\t\\t\\n\\t\\t\\t\\t\\t\\t\\t\\t<div class=\"col-md-12\">\\n\\t\\t\\t\\t\\t\\t\\t\\t\\t   <hr>\\n\\t\\t\\t\\t\\t\\t\\t\\t\\t   <div class=\"row\">\\n\\t\\t\\t\\t\\t\\t\\t\\t\\t\\t  <div class=\"col-md-4\">\\n\\t\\t\\t\\t\\t\\t\\t\\t\\t\\t\\t <div class=\"list_image\">\\n\\t\\t\\t\\t\\t\\t\\t\\t\\t\\t\\t\\t<img src=\"https://mars.nasa.gov/system/news_items/list_view_images/8510_emmy20190916-32x24.jpg\">\\n\\t\\t\\t\\t\\t\\t\\t\\t\\t\\t\\t </div>\\n\\t\\t\\t\\t\\t\\t\\t\\t\\t\\t  </div>\\n\\t\\t\\t\\t\\t\\t\\t\\t\\t\\t  <div class=\"col-md-8\">\\n\\t\\t\\t\\t\\t\\t\\t\\t\\t\\t  \\t<div class=\"list_text\">\\n\\t\\t\\t\\t\\t\\t\\t\\t\\t\\t\\t <div class=\"list_date\">July 30, 2021</div>\\n\\t\\t\\t\\t\\t\\t\\t\\t\\t\\t\\t <div class=\"content_title\">NASA Wins Two Emmy Awards for Interactive Mission Coverage</div>\\n\\t\\t\\t\\t\\t\\t\\t\\t\\t\\t\\t <div class=\"article_teaser_body\">NASA-JPL\\'s coverage of the Mars InSight landing earns one of the two wins, making this the NASA center\\'s second Emmy.</div>\\n\\t\\t\\t\\t\\t\\t\\t\\t\\t\\t\\t </div>\\n\\t\\t\\t\\t\\t\\t\\t\\t\\t\\t  </div>\\n\\t\\t\\t\\t\\t\\t\\t\\t\\t   </div>\\n\\t\\t\\t\\t\\t\\t\\t\\t\\t</div>\\n\\t\\t\\t\\t\\t\\t\\n\\t\\t\\t\\t\\t\\t\\t\\t<div class=\"col-md-12\">\\n\\t\\t\\t\\t\\t\\t\\t\\t\\t   <hr>\\n\\t\\t\\t\\t\\t\\t\\t\\t\\t   <div class=\"row\">\\n\\t\\t\\t\\t\\t\\t\\t\\t\\t\\t  <div class=\"col-md-4\">\\n\\t\\t\\t\\t\\t\\t\\t\\t\\t\\t\\t <div class=\"list_image\">\\n\\t\\t\\t\\t\\t\\t\\t\\t\\t\\t\\t\\t<img src=\"https://mars.nasa.gov/system/news_items/list_view_images/8444_Sol427-437_backcap_push_positioning-320x240.gif\">\\n\\t\\t\\t\\t\\t\\t\\t\\t\\t\\t\\t </div>\\n\\t\\t\\t\\t\\t\\t\\t\\t\\t\\t  </div>\\n\\t\\t\\t\\t\\t\\t\\t\\t\\t\\t  <div class=\"col-md-8\">\\n\\t\\t\\t\\t\\t\\t\\t\\t\\t\\t  \\t<div class=\"list_text\">\\n\\t\\t\\t\\t\\t\\t\\t\\t\\t\\t\\t <div class=\"list_date\">July 29, 2021</div>\\n\\t\\t\\t\\t\\t\\t\\t\\t\\t\\t\\t <div class=\"content_title\">Common Questions about InSight\\'s \\'Mole\\'</div>\\n\\t\\t\\t\\t\\t\\t\\t\\t\\t\\t\\t <div class=\"article_teaser_body\">The following Q&amp;As with members of the team answer some of the most common questions about the burrowing device, part of a science instrument called the Heat Flow and Physical Properties Package (HP3).</div>\\n\\t\\t\\t\\t\\t\\t\\t\\t\\t\\t\\t </div>\\n\\t\\t\\t\\t\\t\\t\\t\\t\\t\\t  </div>\\n\\t\\t\\t\\t\\t\\t\\t\\t\\t   </div>\\n\\t\\t\\t\\t\\t\\t\\t\\t\\t</div>\\n\\t\\t\\t\\t\\t\\t\\n\\t\\t\\t\\t\\t\\t\\t\\t<div class=\"col-md-12\">\\n\\t\\t\\t\\t\\t\\t\\t\\t\\t   <hr>\\n\\t\\t\\t\\t\\t\\t\\t\\t\\t   <div class=\"row\">\\n\\t\\t\\t\\t\\t\\t\\t\\t\\t\\t  <div class=\"col-md-4\">\\n\\t\\t\\t\\t\\t\\t\\t\\t\\t\\t\\t <div class=\"list_image\">\\n\\t\\t\\t\\t\\t\\t\\t\\t\\t\\t\\t\\t<img src=\"https://mars.nasa.gov/system/news_items/list_view_images/8612_Sol427-437_backcap_push_positioning-320x240.gif\">\\n\\t\\t\\t\\t\\t\\t\\t\\t\\t\\t\\t </div>\\n\\t\\t\\t\\t\\t\\t\\t\\t\\t\\t  </div>\\n\\t\\t\\t\\t\\t\\t\\t\\t\\t\\t  <div class=\"col-md-8\">\\n\\t\\t\\t\\t\\t\\t\\t\\t\\t\\t  \\t<div class=\"list_text\">\\n\\t\\t\\t\\t\\t\\t\\t\\t\\t\\t\\t <div class=\"list_date\">July 25, 2021</div>\\n\\t\\t\\t\\t\\t\\t\\t\\t\\t\\t\\t <div class=\"content_title\">Mars InSight Lander to Push on Top of the \\'Mole\\'</div>\\n\\t\\t\\t\\t\\t\\t\\t\\t\\t\\t\\t <div class=\"article_teaser_body\">Engineers have a plan for pushing down on the heat probe, which has been stuck at the Martian surface for a year.</div>\\n\\t\\t\\t\\t\\t\\t\\t\\t\\t\\t\\t </div>\\n\\t\\t\\t\\t\\t\\t\\t\\t\\t\\t  </div>\\n\\t\\t\\t\\t\\t\\t\\t\\t\\t   </div>\\n\\t\\t\\t\\t\\t\\t\\t\\t\\t</div>\\n\\t\\t\\t\\t\\t\\t\\n\\t\\t\\t\\t\\t\\t\\t\\t<div class=\"col-md-12\">\\n\\t\\t\\t\\t\\t\\t\\t\\t\\t   <hr>\\n\\t\\t\\t\\t\\t\\t\\t\\t\\t   <div class=\"row\">\\n\\t\\t\\t\\t\\t\\t\\t\\t\\t\\t  <div class=\"col-md-4\">\\n\\t\\t\\t\\t\\t\\t\\t\\t\\t\\t\\t <div class=\"list_image\">\\n\\t\\t\\t\\t\\t\\t\\t\\t\\t\\t\\t\\t<img src=\"https://mars.nasa.gov/system/news_items/list_view_images/8680_mavenmarselectriccurrents-320x240.jpg\">\\n\\t\\t\\t\\t\\t\\t\\t\\t\\t\\t\\t </div>\\n\\t\\t\\t\\t\\t\\t\\t\\t\\t\\t  </div>\\n\\t\\t\\t\\t\\t\\t\\t\\t\\t\\t  <div class=\"col-md-8\">\\n\\t\\t\\t\\t\\t\\t\\t\\t\\t\\t  \\t<div class=\"list_text\">\\n\\t\\t\\t\\t\\t\\t\\t\\t\\t\\t\\t <div class=\"list_date\">July 25, 2021</div>\\n\\t\\t\\t\\t\\t\\t\\t\\t\\t\\t\\t <div class=\"content_title\">MAVEN Maps Electric Currents around Mars that are Fundamental to Atmospheric Loss</div>\\n\\t\\t\\t\\t\\t\\t\\t\\t\\t\\t\\t <div class=\"article_teaser_body\">Five years after NASA’s MAVEN spacecraft entered into orbit around Mars, data from the mission has led to the creation of a map of electric current systems in the Martian atmosphere.</div>\\n\\t\\t\\t\\t\\t\\t\\t\\t\\t\\t\\t </div>\\n\\t\\t\\t\\t\\t\\t\\t\\t\\t\\t  </div>\\n\\t\\t\\t\\t\\t\\t\\t\\t\\t   </div>\\n\\t\\t\\t\\t\\t\\t\\t\\t\\t</div>\\n\\t\\t\\t\\t\\t\\t\\n\\t\\t\\t\\t\\t\\t\\t\\t<div class=\"col-md-12\">\\n\\t\\t\\t\\t\\t\\t\\t\\t\\t   <hr>\\n\\t\\t\\t\\t\\t\\t\\t\\t\\t   <div class=\"row\">\\n\\t\\t\\t\\t\\t\\t\\t\\t\\t\\t  <div class=\"col-md-4\">\\n\\t\\t\\t\\t\\t\\t\\t\\t\\t\\t\\t <div class=\"list_image\">\\n\\t\\t\\t\\t\\t\\t\\t\\t\\t\\t\\t\\t<img src=\"https://mars.nasa.gov/system/news_items/list_view_images/8528_PIA23376-320x240.jpg\">\\n\\t\\t\\t\\t\\t\\t\\t\\t\\t\\t\\t </div>\\n\\t\\t\\t\\t\\t\\t\\t\\t\\t\\t  </div>\\n\\t\\t\\t\\t\\t\\t\\t\\t\\t\\t  <div class=\"col-md-8\">\\n\\t\\t\\t\\t\\t\\t\\t\\t\\t\\t  \\t<div class=\"list_text\">\\n\\t\\t\\t\\t\\t\\t\\t\\t\\t\\t\\t <div class=\"list_date\">July 24, 2021</div>\\n\\t\\t\\t\\t\\t\\t\\t\\t\\t\\t\\t <div class=\"content_title\">HiRISE Views NASA\\'s InSight and Curiosity on Mars</div>\\n\\t\\t\\t\\t\\t\\t\\t\\t\\t\\t\\t <div class=\"article_teaser_body\">New images taken from space offer the clearest orbital glimpse yet of InSight as well as a view of Curiosity rolling along.</div>\\n\\t\\t\\t\\t\\t\\t\\t\\t\\t\\t\\t </div>\\n\\t\\t\\t\\t\\t\\t\\t\\t\\t\\t  </div>\\n\\t\\t\\t\\t\\t\\t\\t\\t\\t   </div>\\n\\t\\t\\t\\t\\t\\t\\t\\t\\t</div>\\n\\t\\t\\t\\t\\t\\t\\n\\t\\t\\t\\t\\t\\t\\t\\t<div class=\"col-md-12\">\\n\\t\\t\\t\\t\\t\\t\\t\\t\\t   <hr>\\n\\t\\t\\t\\t\\t\\t\\t\\t\\t   <div class=\"row\">\\n\\t\\t\\t\\t\\t\\t\\t\\t\\t\\t  <div class=\"col-md-4\">\\n\\t\\t\\t\\t\\t\\t\\t\\t\\t\\t\\t <div class=\"list_image\">\\n\\t\\t\\t\\t\\t\\t\\t\\t\\t\\t\\t\\t<img src=\"https://mars.nasa.gov/system/news_items/list_view_images/8549_PIA23511-320x240.jpg\">\\n\\t\\t\\t\\t\\t\\t\\t\\t\\t\\t\\t </div>\\n\\t\\t\\t\\t\\t\\t\\t\\t\\t\\t  </div>\\n\\t\\t\\t\\t\\t\\t\\t\\t\\t\\t  <div class=\"col-md-8\">\\n\\t\\t\\t\\t\\t\\t\\t\\t\\t\\t  \\t<div class=\"list_text\">\\n\\t\\t\\t\\t\\t\\t\\t\\t\\t\\t\\t <div class=\"list_date\">July 21, 2021</div>\\n\\t\\t\\t\\t\\t\\t\\t\\t\\t\\t\\t <div class=\"content_title\">NASA\\'s Mars 2020 Will Hunt for Microscopic Fossils</div>\\n\\t\\t\\t\\t\\t\\t\\t\\t\\t\\t\\t <div class=\"article_teaser_body\">A new paper identifies a ring of minerals at the rover\\'s landing site that are ideal for fossilizing microbial life.</div>\\n\\t\\t\\t\\t\\t\\t\\t\\t\\t\\t\\t </div>\\n\\t\\t\\t\\t\\t\\t\\t\\t\\t\\t  </div>\\n\\t\\t\\t\\t\\t\\t\\t\\t\\t   </div>\\n\\t\\t\\t\\t\\t\\t\\t\\t\\t</div>\\n\\t\\t\\t\\t\\t\\t\\n\\t\\t\\t\\t\\t\\t\\t\\t<div class=\"col-md-12\">\\n\\t\\t\\t\\t\\t\\t\\t\\t\\t   <hr>\\n\\t\\t\\t\\t\\t\\t\\t\\t\\t   <div class=\"row\">\\n\\t\\t\\t\\t\\t\\t\\t\\t\\t\\t  <div class=\"col-md-4\">\\n\\t\\t\\t\\t\\t\\t\\t\\t\\t\\t\\t <div class=\"list_image\">\\n\\t\\t\\t\\t\\t\\t\\t\\t\\t\\t\\t\\t<img src=\"https://mars.nasa.gov/system/news_items/list_view_images/8520_PIA23466-226.jpg\">\\n\\t\\t\\t\\t\\t\\t\\t\\t\\t\\t\\t </div>\\n\\t\\t\\t\\t\\t\\t\\t\\t\\t\\t  </div>\\n\\t\\t\\t\\t\\t\\t\\t\\t\\t\\t  <div class=\"col-md-8\">\\n\\t\\t\\t\\t\\t\\t\\t\\t\\t\\t  \\t<div class=\"list_text\">\\n\\t\\t\\t\\t\\t\\t\\t\\t\\t\\t\\t <div class=\"list_date\">July 20, 2021</div>\\n\\t\\t\\t\\t\\t\\t\\t\\t\\t\\t\\t <div class=\"content_title\">NASA\\'s Mars 2020 Rover Tests Descent-Stage Separation</div>\\n\\t\\t\\t\\t\\t\\t\\t\\t\\t\\t\\t <div class=\"article_teaser_body\">A crane lifts the rocket-powered descent stage away from NASA\\'s Mars 2020 rover after technicians tested the pyrotechnic charges that separate the two spacecraft.</div>\\n\\t\\t\\t\\t\\t\\t\\t\\t\\t\\t\\t </div>\\n\\t\\t\\t\\t\\t\\t\\t\\t\\t\\t  </div>\\n\\t\\t\\t\\t\\t\\t\\t\\t\\t   </div>\\n\\t\\t\\t\\t\\t\\t\\t\\t\\t</div>\\n\\t\\t\\t\\t\\t\\t\\n\\t\\t\\t\\t\\t\\t\\t\\t<div class=\"col-md-12\">\\n\\t\\t\\t\\t\\t\\t\\t\\t\\t   <hr>\\n\\t\\t\\t\\t\\t\\t\\t\\t\\t   <div class=\"row\">\\n\\t\\t\\t\\t\\t\\t\\t\\t\\t\\t  <div class=\"col-md-4\">\\n\\t\\t\\t\\t\\t\\t\\t\\t\\t\\t\\t <div class=\"list_image\">\\n\\t\\t\\t\\t\\t\\t\\t\\t\\t\\t\\t\\t<img src=\"https://mars.nasa.gov/system/news_items/list_view_images/8567_PIA23517-320x240.jpg\">\\n\\t\\t\\t\\t\\t\\t\\t\\t\\t\\t\\t </div>\\n\\t\\t\\t\\t\\t\\t\\t\\t\\t\\t  </div>\\n\\t\\t\\t\\t\\t\\t\\t\\t\\t\\t  <div class=\"col-md-8\">\\n\\t\\t\\t\\t\\t\\t\\t\\t\\t\\t  \\t<div class=\"list_text\">\\n\\t\\t\\t\\t\\t\\t\\t\\t\\t\\t\\t <div class=\"list_date\">July 18, 2021</div>\\n\\t\\t\\t\\t\\t\\t\\t\\t\\t\\t\\t <div class=\"content_title\">Two Rovers to Roll on Mars Again: Curiosity and Mars 2020</div>\\n\\t\\t\\t\\t\\t\\t\\t\\t\\t\\t\\t <div class=\"article_teaser_body\">They look like twins. But under the hood, the rover currently exploring the Red Planet and the one launching there this summer have distinct science tools and roles to play.</div>\\n\\t\\t\\t\\t\\t\\t\\t\\t\\t\\t\\t </div>\\n\\t\\t\\t\\t\\t\\t\\t\\t\\t\\t  </div>\\n\\t\\t\\t\\t\\t\\t\\t\\t\\t   </div>\\n\\t\\t\\t\\t\\t\\t\\t\\t\\t</div>\\n\\t\\t\\t\\t\\t\\t</div>\\n         <hr class=\"container\" style=\"margin: 25px auto;width: 83%;\">\\n         <button id=\"more\" class=\"btn disable\" onclick=\"populateContent()\">More</button>\\n      </section>\\n      <section class=\"last_news\">\\n         <div class=\"container\">\\n            <div class=\"row\">\\n               <div class=\"col-12\">\\n                  <h2>You Might Also Like</h2>\\n               </div>\\n               <!--  <a class=\" prev\" href=\"#carouselExampleIndicators2\" role=\"button\" data-slide=\"prev\">\\n                  <i class=\"fas fa-angle-left\"></i>\\n                  </a>\\n                  <a class=\" next\" href=\"#carouselExampleIndicators2\" role=\"button\" data-slide=\"next\">\\n                  <i class=\"fas fa-angle-right\"></i>\\n                  </a> -->\\n               <div class=\"col-12\">\\n                  <div id=\"carouselExampleIndicators2\" class=\"carousel slide\" data-ride=\"carousel\">\\n                     <div class=\"carousel-inner\">\\n                        <div class=\"carousel-item active\">\\n                           <div class=\"row\">\\n                              <div class=\"col-md-4 mb-3\">\\n                                 <div class=\"card\">\\n                                    <img class=\"img-fluid\" alt=\"100%x280\" src=\"https://mars.nasa.gov/system/news_items/main_images/8716_PIA23499-16.jpg\">\\n                                    <div class=\"card-body\">\\n                                       <p class=\"card-text\">NASA to Broadcast Mars 2020 Perseverance Launch, Prelaunch Activities</p>\\n                                    </div>\\n                                 </div>\\n                              </div>\\n                              <div class=\"col-md-4 mb-3\">\\n                                 <div class=\"card\">\\n                                    <img class=\"img-fluid\" alt=\"100%x280\" src=\"https://mars.nasa.gov/system/news_items/main_images/8716_PIA23499-16.jpg\">\\n                                    <div class=\"card-body\">\\n                                       <p class=\"card-text\">The Launch Is Approaching for NASA\\'s Next Mars Rover, Perseverance</p>\\n                                    </div>\\n                                 </div>\\n                              </div>\\n                              <div class=\"col-md-4 mb-3\">\\n                                 <div class=\"card\">\\n                                    <img class=\"img-fluid\" alt=\"100%x280\" src=\"https://mars.nasa.gov/system/news_items/main_images/8692_PIA23920-web.jpg\">\\n                                    <div class=\"card-body\">\\n                                       <p class=\"card-text\">NASA to Hold Mars 2020 Perseverance Rover Launch Briefing</p>\\n                                    </div>\\n                                 </div>\\n                              </div>\\n                           </div>\\n                        </div>\\n                        <div class=\"carousel-item\">\\n                           <div class=\"row\">\\n                              <div class=\"col-md-4 mb-3\">\\n                                 <div class=\"card\">\\n                                    <img class=\"img-fluid\" alt=\"100%x280\" src=\"https://images.unsplash.com/photo-1532771098148-525cefe10c23?ixlib=rb-0.3.5&amp;q=80&amp;fm=jpg&amp;crop=entropy&amp;cs=tinysrgb&amp;w=1080&amp;fit=max&amp;ixid=eyJhcHBfaWQiOjMyMDc0fQ&amp;s=3f317c1f7a16116dec454fbc267dd8e4\">\\n                                    <div class=\"card-body\">\\n                                       <p class=\"card-text\">With supporting text below as a natural lead-in to additional content.</p>\\n                                    </div>\\n                                 </div>\\n                              </div>\\n                              <div class=\"col-md-4 mb-3\">\\n                                 <div class=\"card\">\\n                                    <img class=\"img-fluid\" alt=\"100%x280\" src=\"https://images.unsplash.com/photo-1532715088550-62f09305f765?ixlib=rb-0.3.5&amp;q=80&amp;fm=jpg&amp;crop=entropy&amp;cs=tinysrgb&amp;w=1080&amp;fit=max&amp;ixid=eyJhcHBfaWQiOjMyMDc0fQ&amp;s=ebadb044b374504ef8e81bdec4d0e840\">\\n                                    <div class=\"card-body\">\\n                                       <p class=\"card-text\">With supporting text below as a natural lead-in to additional content.</p>\\n                                    </div>\\n                                 </div>\\n                              </div>\\n                              <div class=\"col-md-4 mb-3\">\\n                                 <div class=\"card\">\\n                                    <img class=\"img-fluid\" alt=\"100%x280\" src=\"https://images.unsplash.com/photo-1506197603052-3cc9c3a201bd?ixlib=rb-0.3.5&amp;q=80&amp;fm=jpg&amp;crop=entropy&amp;cs=tinysrgb&amp;w=1080&amp;fit=max&amp;ixid=eyJhcHBfaWQiOjMyMDc0fQ&amp;s=0754ab085804ae8a3b562548e6b4aa2e\">\\n                                    <div class=\"card-body\">\\n                                       <p class=\"card-text\">With supporting text below as a natural lead-in to additional content.</p>\\n                                    </div>\\n                                 </div>\\n                              </div>\\n                           </div>\\n                        </div>\\n                        <div class=\"carousel-item\">\\n                           <div class=\"row\">\\n                              <div class=\"col-md-4 mb-3\">\\n                                 <div class=\"card\">\\n                                    <img class=\"img-fluid\" alt=\"100%x280\" src=\"https://images.unsplash.com/photo-1507525428034-b723cf961d3e?ixlib=rb-0.3.5&amp;q=80&amp;fm=jpg&amp;crop=entropy&amp;cs=tinysrgb&amp;w=1080&amp;fit=max&amp;ixid=eyJhcHBfaWQiOjMyMDc0fQ&amp;s=ee8417f0ea2a50d53a12665820b54e23\">\\n                                    <div class=\"card-body\">\\n                                       <p class=\"card-text\">With supporting text below as a natural lead-in to additional content.</p>\\n                                    </div>\\n                                 </div>\\n                              </div>\\n                              <div class=\"col-md-4 mb-3\">\\n                                 <div class=\"card\">\\n                                    <img class=\"img-fluid\" alt=\"100%x280\" src=\"https://images.unsplash.com/photo-1532777946373-b6783242f211?ixlib=rb-0.3.5&amp;q=80&amp;fm=jpg&amp;crop=entropy&amp;cs=tinysrgb&amp;w=1080&amp;fit=max&amp;ixid=eyJhcHBfaWQiOjMyMDc0fQ&amp;s=8ac55cf3a68785643998730839663129\">\\n                                    <div class=\"card-body\">\\n                                       <p class=\"card-text\">With supporting text below as a natural lead-in to additional content.</p>\\n                                    </div>\\n                                 </div>\\n                              </div>\\n                              <div class=\"col-md-4 mb-3\">\\n                                 <div class=\"card\">\\n                                    <img class=\"img-fluid\" alt=\"100%x280\" src=\"https://images.unsplash.com/photo-1532763303805-529d595877c5?ixlib=rb-0.3.5&amp;q=80&amp;fm=jpg&amp;crop=entropy&amp;cs=tinysrgb&amp;w=1080&amp;fit=max&amp;ixid=eyJhcHBfaWQiOjMyMDc0fQ&amp;s=5ee4fd5d19b40f93eadb21871757eda6\">\\n                                    <div class=\"card-body\">\\n                                       <p class=\"card-text\">With supporting text below as a natural lead-in to additional content.</p>\\n                                    </div>\\n                                 </div>\\n                              </div>\\n                           </div>\\n                        </div>\\n                     </div>\\n                  </div>\\n               </div>\\n            </div>\\n         </div>\\n      </section>\\n      <section class=\"footer\">\\n         <div class=\"container\">\\n            <div class=\"col-md-12\">\\n               <div class=\"row\">\\n                  <div class=\"col-md-3\">\\n                     <h5>The Red Planet</h5>\\n                     <ul>\\n                        <li>Dashboard</li>\\n                        <li>Science Goals</li>\\n                        <li>The Planet</li>\\n                     </ul>\\n                  </div>\\n                  <div class=\"col-md-3\">\\n                     <h5>The Program</h5>\\n                     <ul>\\n                        <li>Mission Statement</li>\\n                        <li>About the Program</li>\\n                        <li>Organization Why Mars?</li>\\n                     </ul>\\n                  </div>\\n                  <div class=\"col-md-3\">\\n                     <h5>Multimedia</h5>\\n                     <ul>\\n                        <li>Images</li>\\n                        <li>Videos</li>\\n                        <li>More Resources</li>\\n                     </ul>\\n                  </div>\\n                  <div class=\"col-md-3\">\\n                     <h5>Missions</h5>\\n                     <ul>\\n                        <li>Past</li>\\n                        <li>Present</li>\\n                        <li>Future</li>\\n                     </ul>\\n                  </div>\\n               </div>\\n            </div>\\n         </div>\\n      </section>\\n      <script type=\"text/javascript\" src=\"https://code.jquery.com/jquery-1.12.4.min.js\"></script>\\n      <script src=\"https://cdn.jsdelivr.net/npm/@popperjs/core@2.5.4/dist/umd/popper.min.js\"></script>\\n      <script src=\"https://cdn.jsdelivr.net/npm/bootstrap@5.0.0-beta1/dist/js/bootstrap.min.js\"></script>\\n      <script src=\"js/app.js\"></script>\\n   \\n</div></div></body></html>'"
      ]
     },
     "execution_count": 4,
     "metadata": {},
     "output_type": "execute_result"
    }
   ],
   "source": [
    "html = browser.html\n",
    "html"
   ]
  },
  {
   "cell_type": "code",
   "execution_count": 6,
   "metadata": {},
   "outputs": [],
   "source": [
    "# Convert the browser html to a soup object and then quit the browser\n",
    "html = browser.html\n",
    "news_soup = soup(html, 'html.parser')\n",
    "\n",
    "slide_elem = news_soup.select_one('div.list_text')\n"
   ]
  },
  {
   "cell_type": "code",
   "execution_count": 7,
   "metadata": {},
   "outputs": [
    {
     "data": {
      "text/plain": [
       "<div class=\"list_text\">\n",
       "<div class=\"list_date\">August 18, 2021</div>\n",
       "<div class=\"content_title\">A New Video Captures the Science of NASA's Perseverance Mars Rover</div>\n",
       "<div class=\"article_teaser_body\">With a targeted launch date of July 30, the next robotic scientist NASA is sending to the to the Red Planet has big ambitions.</div>\n",
       "</div>"
      ]
     },
     "execution_count": 7,
     "metadata": {},
     "output_type": "execute_result"
    }
   ],
   "source": [
    "slide_elem = news_soup.find('div', class_='list_text')\n",
    "slide_elem"
   ]
  },
  {
   "cell_type": "code",
   "execution_count": 8,
   "metadata": {},
   "outputs": [
    {
     "data": {
      "text/plain": [
       "<div class=\"content_title\">A New Video Captures the Science of NASA's Perseverance Mars Rover</div>"
      ]
     },
     "execution_count": 8,
     "metadata": {},
     "output_type": "execute_result"
    }
   ],
   "source": [
    "slide_elem.find('div', class_='content_title')"
   ]
  },
  {
   "cell_type": "code",
   "execution_count": 9,
   "metadata": {},
   "outputs": [
    {
     "data": {
      "text/plain": [
       "\"A New Video Captures the Science of NASA's Perseverance Mars Rover\""
      ]
     },
     "execution_count": 9,
     "metadata": {},
     "output_type": "execute_result"
    }
   ],
   "source": [
    "# Use the parent element to find the first a tag and save it as `news_title`\n",
    "news_title = slide_elem.find('div', class_='content_title').get_text()\n",
    "news_title"
   ]
  },
  {
   "cell_type": "code",
   "execution_count": 10,
   "metadata": {},
   "outputs": [
    {
     "data": {
      "text/plain": [
       "'With a targeted launch date of July 30, the next robotic scientist NASA is sending to the to the Red Planet has big ambitions.'"
      ]
     },
     "execution_count": 10,
     "metadata": {},
     "output_type": "execute_result"
    }
   ],
   "source": [
    "# Use the parent element to find the paragraph text\n",
    "news_p = slide_elem.find('div', class_='article_teaser_body').get_text()\n",
    "news_p"
   ]
  },
  {
   "cell_type": "markdown",
   "metadata": {},
   "source": [
    "### JPL Space Images Featured Image"
   ]
  },
  {
   "cell_type": "code",
   "execution_count": 11,
   "metadata": {},
   "outputs": [],
   "source": [
    "# Visit URL\n",
    "url = 'https://spaceimages-mars.com'\n",
    "browser.visit(url)"
   ]
  },
  {
   "cell_type": "code",
   "execution_count": 12,
   "metadata": {},
   "outputs": [
    {
     "data": {
      "text/plain": [
       "<splinter.driver.webdriver.WebDriverElement at 0x14ebcc05af0>"
      ]
     },
     "execution_count": 12,
     "metadata": {},
     "output_type": "execute_result"
    }
   ],
   "source": [
    "full_image_elem = browser.find_by_tag('button')\n",
    "full_image_elem[0]"
   ]
  },
  {
   "cell_type": "code",
   "execution_count": 13,
   "metadata": {},
   "outputs": [],
   "source": [
    "# Find and click the full image button\n",
    "full_image_elem = browser.find_by_tag('button')[1]\n",
    "full_image_elem.click()"
   ]
  },
  {
   "cell_type": "code",
   "execution_count": 14,
   "metadata": {
    "scrolled": true
   },
   "outputs": [
    {
     "data": {
      "text/plain": [
       "<html class=\"fancybox-margin fancybox-lock\"><head>\n",
       "<meta charset=\"utf-8\"/>\n",
       "<meta content=\"width=device-width, initial-scale=1\" name=\"viewport\"/>\n",
       "<link href=\"https://maxcdn.bootstrapcdn.com/bootstrap/4.0.0/css/bootstrap.min.css\" rel=\"stylesheet\"/>\n",
       "<!-- <link rel=\"stylesheet\" type=\"text/css\" href=\"css/font.css\"> -->\n",
       "<link href=\"css/app.css\" rel=\"stylesheet\" type=\"text/css\"/>\n",
       "<link href=\"https://stackpath.bootstrapcdn.com/font-awesome/4.7.0/css/font-awesome.min.css\" rel=\"stylesheet\" type=\"text/css\"/>\n",
       "<title>Space Image</title>\n",
       "<style type=\"text/css\">.fancybox-margin{margin-right:17px;}</style></head>\n",
       "<body>\n",
       "<div class=\"header\">\n",
       "<nav class=\"navbar navbar-expand-lg\">\n",
       "<a class=\"navbar-brand\" href=\"#\"><img id=\"logo\" src=\"image/nasa.png\"/><span class=\"logo\">Jet Propulsion Laboratory</span>\n",
       "<span class=\"logo1\">California Institute of Technology</span></a>\n",
       "<button aria-controls=\"navbarNav\" aria-expanded=\"false\" aria-label=\"Toggle navigation\" class=\"navbar-toggler\" data-target=\"#navbarNav\" data-toggle=\"collapse\" type=\"button\">\n",
       "<span class=\"navbar-toggler-icon\"></span>\n",
       "</button>\n",
       "<div class=\"collapse navbar-collapse justify-content-end\" id=\"navbarNav\">\n",
       "<ul class=\"navbar-nav\">\n",
       "<li class=\"nav-item active\">\n",
       "<a class=\"nav-link\" href=\"#\"><i aria-hidden=\"true\" class=\"fa fa-bars\"></i>   MENU   <i aria-hidden=\"true\" class=\"fa fa-search\"></i></a>\n",
       "</li>\n",
       "</ul>\n",
       "</div>\n",
       "</nav>\n",
       "<div class=\"floating_text_area\">\n",
       "<h2 class=\"brand_title\">FEATURED IMAGE</h2>\n",
       "<h1 class=\"media_feature_title\">Dusty Space Cloud</h1>\n",
       "<br/>\n",
       "<a class=\"showimg fancybox-thumbs\" href=\"image/featured/mars3.jpg\" target=\"_blank\"> <button class=\"btn btn-outline-light\"> FULL IMAGE</button></a>\n",
       "</div>\n",
       "<img class=\"headerimage fade-in\" src=\"image/featured/mars3.jpg\"/></div>\n",
       "<div class=\"search sticky\">\n",
       "<div class=\"col-md-12\">\n",
       "<div class=\"row\">\n",
       "<div class=\"col-md-6\">\n",
       "<input name=\"Search\" placeholder=\"Search\" type=\"text\"/>\n",
       "</div>\n",
       "<div class=\"col-md-6\">\n",
       "<select aria-label=\"Default select example\" class=\"form-select\" id=\"options\">\n",
       "<option onchange=\"0\" selected=\"\">Mars</option>\n",
       "<!-- <option data-filter=\"sun\" class=\"button\">Mars</option> -->\n",
       "<option class=\"button\" data-filter=\"Sun\">Sun</option>\n",
       "<option class=\"button\" data-filter=\"earth\">Earth</option>\n",
       "<option class=\"button\" data-filter=\"ida\">Ida</option>\n",
       "<option class=\"button\" data-filter=\"jupiter\">Jupiter</option>\n",
       "<option class=\"button\" data-filter=\"venus\">Venus</option>\n",
       "</select>\n",
       "</div>\n",
       "</div>\n",
       "</div>\n",
       "</div>\n",
       "<div class=\"container mt-5\">\n",
       "<div class=\"col-md-12\">\n",
       "<div class=\"row\">\n",
       "<div class=\"col-md-6\">\n",
       "<h1>Images</h1>\n",
       "</div>\n",
       "<div class=\"col-md-6\" id=\"icon\">\n",
       "<div class=\"icon2\"></div>\n",
       "<div class=\"icon1\"></div>\n",
       "</div>\n",
       "</div>\n",
       "</div>\n",
       "<!-- first div -->\n",
       "<div class=\"div1\" id=\"filter\">\n",
       "<div class=\"thmbgroup\"><a class=\"fancybox-thumbs\" data-fancybox-group=\"thumb\" href=\"image/mars/Icaria Fossae7.jpg\"><div class=\"thmb\"><img alt=\"\" class=\"thumbimg\" src=\"image/mars/Icaria Fossae7.jpg\"/><p class=\"thumbcontent\">January 1, 2020<br/>Icaria Fossae7</p></div></a><a class=\"fancybox-thumbs\" data-fancybox-group=\"thumb\" href=\"image/mars/Proctor Crater Dunes 7.jpg\"><div class=\"thmb\"><img alt=\"\" class=\"thumbimg\" src=\"image/mars/Proctor Crater Dunes 7.jpg\"/><p class=\"thumbcontent\">December 31, 2020<br/>Proctor Crater Dunes</p></div></a><a class=\"fancybox-thumbs\" data-fancybox-group=\"thumb\" href=\"image/mars/Icaria Fossae7.jpg\"><div class=\"thmb\"><img alt=\"\" class=\"thumbimg\" src=\"image/mars/Icaria Fossae7.jpg\"/><p class=\"thumbcontent\">December 31, 2020<br/>Icaria Fossae</p></div></a><a class=\"fancybox-thumbs\" data-fancybox-group=\"thumb\" href=\"image/mars/Proctor Crater Dunes 7.jpg\"><div class=\"thmb\"><img alt=\"\" class=\"thumbimg\" src=\"image/mars/Proctor Crater Dunes 7.jpg\"/><p class=\"thumbcontent\">December 29, 2020<br/>Proctor Crater Dunes</p></div></a><a class=\"fancybox-thumbs\" data-fancybox-group=\"thumb\" href=\"image/mars/Proctor Crater Dunes 7.jpg\"><div class=\"thmb\"><img alt=\"\" class=\"thumbimg\" src=\"image/mars/Proctor Crater Dunes 7.jpg\"/><p class=\"thumbcontent\">December 28, 2020<br/>roctor Crater Dunes</p></div></a><a class=\"fancybox-thumbs\" data-fancybox-group=\"thumb\" href=\"image/mars/Icaria Fossae7.jpg\"><div class=\"thmb\"><img alt=\"\" class=\"thumbimg\" src=\"image/mars/Icaria Fossae7.jpg\"/><p class=\"thumbcontent\">December 22, 2020<br/>Icaria Fossae</p></div></a><a class=\"fancybox-thumbs\" data-fancybox-group=\"thumb\" href=\"image/mars/Icaria Fossae.jpg\"><div class=\"thmb\"><img alt=\"\" class=\"thumbimg\" src=\"image/mars/Icaria Fossae.jpg\"/><p class=\"thumbcontent\">December 21, 2020<br/>Icaria Fossae</p></div></a><a class=\"fancybox-thumbs\" data-fancybox-group=\"thumb\" href=\"image/mars/Ariadnes Colles4.jpg\"><div class=\"thmb\"><img alt=\"\" class=\"thumbimg\" src=\"image/mars/Ariadnes Colles4.jpg\"/><p class=\"thumbcontent\">December 18, 2020<br/>Ariadnes Colles</p></div></a><a class=\"fancybox-thumbs\" data-fancybox-group=\"thumb\" href=\"image/mars/Niger Vallis.jpg\"><div class=\"thmb\"><img alt=\"\" class=\"thumbimg\" src=\"image/mars/Niger Vallis.jpg\"/><p class=\"thumbcontent\">December 17, 2020<br/>Niger Vallis</p></div></a><a class=\"fancybox-thumbs\" data-fancybox-group=\"thumb\" href=\"image/mars/Proctor Crater Dunes.jpg\"><div class=\"thmb\"><img alt=\"\" class=\"thumbimg\" src=\"image/mars/Proctor Crater Dunes.jpg\"/><p class=\"thumbcontent\">December 16, 2020<br/>Proctor Crater Dunes</p></div></a><a class=\"fancybox-thumbs\" data-fancybox-group=\"thumb\" href=\"image/mars/Niger Vallis.jpg\"><div class=\"thmb\"><img alt=\"\" class=\"thumbimg\" src=\"image/mars/Niger Vallis.jpg\"/><p class=\"thumbcontent\">December 15, 2020<br/>Niger Vallis</p></div></a><a class=\"fancybox-thumbs\" data-fancybox-group=\"thumb\" href=\"image/mars/Daedalia Planum.jpg\"><div class=\"thmb\"><img alt=\"\" class=\"thumbimg\" src=\"image/mars/Daedalia Planum.jpg\"/><p class=\"thumbcontent\">December 11, 2020<br/>Daedalia Planum</p></div></a><a class=\"fancybox-thumbs\" data-fancybox-group=\"thumb\" href=\"image/mars/Sirenum Fossae.jpg\"><div class=\"thmb\"><img alt=\"\" class=\"thumbimg\" src=\"image/mars/Sirenum Fossae.jpg\"/><p class=\"thumbcontent\">November,11, 2020<br/>Sirenum Fossae</p></div></a><a class=\"fancybox-thumbs\" data-fancybox-group=\"thumb\" href=\"image/mars/Ariadnes Colles4.jpg\"><div class=\"thmb\"><img alt=\"\" class=\"thumbimg\" src=\"image/mars/Ariadnes Colles4.jpg\"/><p class=\"thumbcontent\">November,13, 2020<br/>Ariadnes Colles</p></div></a><a class=\"fancybox-thumbs\" data-fancybox-group=\"thumb\" href=\"image/mars/South Polar Cap.jpg\"><div class=\"thmb\"><img alt=\"\" class=\"thumbimg\" src=\"image/mars/South Polar Cap.jpg\"/><p class=\"thumbcontent\">November,14, 2020<br/>South Polar Cap</p></div></a><a class=\"fancybox-thumbs\" data-fancybox-group=\"thumb\" href=\"image/mars/Daedalia Planum.jpg\"><div class=\"thmb\"><img alt=\"\" class=\"thumbimg\" src=\"image/mars/Daedalia Planum.jpg\"/><p class=\"thumbcontent\">November,17, 2020<br/>Daedalia Planum</p></div></a><a class=\"fancybox-thumbs\" data-fancybox-group=\"thumb\" href=\"image/mars/Ariadnes Colles3.jpg\"><div class=\"thmb\"><img alt=\"\" class=\"thumbimg\" src=\"image/mars/Ariadnes Colles3.jpg\"/><p class=\"thumbcontent\">November,11, 2020<br/>Ariadnes Colles</p></div></a><a class=\"fancybox-thumbs\" data-fancybox-group=\"thumb\" href=\"image/mars/Atlantis Chaos.jpg\"><div class=\"thmb\"><img alt=\"\" class=\"thumbimg\" src=\"image/mars/Atlantis Chaos.jpg\"/><p class=\"thumbcontent\">November,09, 2020<br/>Atlantis Chaos</p></div></a><a class=\"fancybox-thumbs\" data-fancybox-group=\"thumb\" href=\"image/mars/Daedalia Planum.jpg\"><div class=\"thmb\"><img alt=\"\" class=\"thumbimg\" src=\"image/mars/Daedalia Planum.jpg\"/><p class=\"thumbcontent\">January 1, 2020<br/>Daedalia Planum</p></div></a><a class=\"fancybox-thumbs\" data-fancybox-group=\"thumb\" href=\"image/mars/Icaria Fossae.jpg\"><div class=\"thmb\"><img alt=\"\" class=\"thumbimg\" src=\"image/mars/Icaria Fossae.jpg\"/><p class=\"thumbcontent\">January 1, 2020<br/>Icaria Fossae</p></div></a><a class=\"fancybox-thumbs\" data-fancybox-group=\"thumb\" href=\"image/mars/Niger Vallis.jpg\"><div class=\"thmb\"><img alt=\"\" class=\"thumbimg\" src=\"image/mars/Niger Vallis.jpg\"/><p class=\"thumbcontent\">January 1, 2020<br/>Niger Vallis</p></div></a><a class=\"fancybox-thumbs\" data-fancybox-group=\"thumb\" href=\"image/mars/Proctor Crater Dunes.jpg\"><div class=\"thmb\"><img alt=\"\" class=\"thumbimg\" src=\"image/mars/Proctor Crater Dunes.jpg\"/><p class=\"thumbcontent\">January 1, 2020<br/>Proctor Crater Dunes</p></div></a><a class=\"fancybox-thumbs\" data-fancybox-group=\"thumb\" href=\"image/mars/Reull Vallis.jpg\"><div class=\"thmb\"><img alt=\"\" class=\"thumbimg\" src=\"image/mars/Reull Vallis.jpg\"/><p class=\"thumbcontent\">January 1, 2020<br/>Reull Vallis</p></div></a><a class=\"fancybox-thumbs\" data-fancybox-group=\"thumb\" href=\"image/mars/Ariadnes Colles3.jpg\"><div class=\"thmb\"><img alt=\"\" class=\"thumbimg\" src=\"image/mars/Ariadnes Colles3.jpg\"/><p class=\"thumbcontent\">January 1, 2020<br/>Ariadnes Colles</p></div></a><a class=\"fancybox-thumbs\" data-fancybox-group=\"thumb\" href=\"image/mars/Sirenum Fossae.jpg\"><div class=\"thmb\"><img alt=\"\" class=\"thumbimg\" src=\"image/mars/Sirenum Fossae.jpg\"/><p class=\"thumbcontent\">January 1, 2020<br/>Sirenum Fossae</p></div></a><a class=\"fancybox-thumbs\" data-fancybox-group=\"thumb\" href=\"image/mars/South Polar Cap.jpg\"><div class=\"thmb\"><img alt=\"\" class=\"thumbimg\" src=\"image/mars/South Polar Cap.jpg\"/><p class=\"thumbcontent\">January 1, 2020<br/>South Polar Cap</p></div></a><a class=\"fancybox-thumbs\" data-fancybox-group=\"thumb\" href=\"image/mars/Niger Vallis.jpg\"><div class=\"thmb\"><img alt=\"\" class=\"thumbimg\" src=\"image/mars/Niger Vallis.jpg\"/><p class=\"thumbcontent\">January 1, 2020<br/>Niger Vallis</p></div></a><a class=\"fancybox-thumbs\" data-fancybox-group=\"thumb\" href=\"image/mars/Daedalia Planum.jpg\"><div class=\"thmb\"><img alt=\"\" class=\"thumbimg\" src=\"image/mars/Daedalia Planum.jpg\"/><p class=\"thumbcontent\">January 1, 2020<br/>Daedalia Planum</p></div></a><a class=\"fancybox-thumbs\" data-fancybox-group=\"thumb\" href=\"image/mars/Icaria Fossae.jpg\"><div class=\"thmb\"><img alt=\"\" class=\"thumbimg\" src=\"image/mars/Icaria Fossae.jpg\"/><p class=\"thumbcontent\">January 1, 2020<br/>Icaria Fossae</p></div></a><a class=\"fancybox-thumbs\" data-fancybox-group=\"thumb\" href=\"image/mars/Ariadnes Colles4.jpg\"><div class=\"thmb\"><img alt=\"\" class=\"thumbimg\" src=\"image/mars/Ariadnes Colles4.jpg\"/><p class=\"thumbcontent\">January 1, 2020<br/>Ariadnes Colles</p></div></a><a class=\"fancybox-thumbs\" data-fancybox-group=\"thumb\" href=\"image/mars/South Polar Cap.jpg\"><div class=\"thmb\"><img alt=\"\" class=\"thumbimg\" src=\"image/mars/South Polar Cap.jpg\"/><p class=\"thumbcontent\">January 1, 2020<br/>South Polar Cap</p></div></a><a class=\"fancybox-thumbs\" data-fancybox-group=\"thumb\" href=\"image/mars/Daedalia Planum.jpg\"><div class=\"thmb\"><img alt=\"\" class=\"thumbimg\" src=\"image/mars/Daedalia Planum.jpg\"/><p class=\"thumbcontent\">January 1, 2020<br/>Daedalia Planum</p></div></a></div>\n",
       "</div>\n",
       "<!-- first div ends -->\n",
       "<!-- second div starts -->\n",
       "<div class=\"col-md-12 grid-margin\" id=\"column\">\n",
       "<ul class=\"post-list\">\n",
       "<li class=\"post-heading\"></li>\n",
       "</ul>\n",
       "</div>\n",
       "<!-- second div starts -->\n",
       "</div>\n",
       "<div class=\"first imgcontainer mt-3\">\n",
       "<div class=\"col-md-12\">\n",
       "<div class=\"row\">\n",
       "<div class=\"col-md-3\">\n",
       "<img id=\"pic\" src=\"\"/>\n",
       "</div>\n",
       "</div>\n",
       "</div>\n",
       "</div>\n",
       "<!-- end -->\n",
       "<div class=\"module_gallery container\">\n",
       "<div class=\"col-md-12\">\n",
       "<div class=\"row\">\n",
       "<div class=\"col-md-6\">\n",
       "<div class=\"card\">\n",
       "<img alt=\"Card image cap\" class=\"card-img-top\" src=\"https://www.jpl.nasa.gov/assets/images/content/tmp/images/jpl_photojournal(3x1).jpg\"/>\n",
       "<div class=\"card-body\">\n",
       "<h5 class=\"card-title\">JPL Photojournal</h5>\n",
       "<p class=\"card-text\">Access to the full library of publicly released images from various Solar System exploration programs</p>\n",
       "</div>\n",
       "</div>\n",
       "</div>\n",
       "<div class=\"col-md-6\">\n",
       "<div class=\"card\">\n",
       "<img alt=\"Card image cap\" class=\"card-img-top\" src=\"https://www.jpl.nasa.gov/assets/images/content/tmp/images/nasa_images(3x1).jpg\"/>\n",
       "<div class=\"card-body\">\n",
       "<h5 class=\"card-title\">Great images in NASA</h5>\n",
       "<p class=\"card-text\">A selection of the best-known images from a half-century of exploration and discovery</p>\n",
       "</div>\n",
       "</div>\n",
       "</div>\n",
       "</div>\n",
       "</div>\n",
       "</div>\n",
       "<div class=\"multi_teaser\">\n",
       "<div class=\"container\">\n",
       "<h1>You Might Also Like</h1>\n",
       "<div class=\"col-md-12 mt-5\">\n",
       "<div class=\"row\">\n",
       "<div class=\"col-md-4\">\n",
       "<div class=\"card\">\n",
       "<img alt=\"Card image cap\" class=\"card-img-top\" src=\"https://imagecache.jpl.nasa.gov/images/640x350/C1-PIA24304---CatScanMars-16-640x350.gif\"/>\n",
       "<div class=\"card-body\">\n",
       "<p class=\"card-text\">Access to the full library of publicly released images from various Solar System exploration programs</p>\n",
       "</div>\n",
       "</div>\n",
       "</div>\n",
       "<div class=\"col-md-4\">\n",
       "<div class=\"card\">\n",
       "<img alt=\"Card image cap\" class=\"card-img-top\" src=\"https://imagecache.jpl.nasa.gov/images/640x350/PIA23491-16-640x350.jpg\"/>\n",
       "<div class=\"card-body\">\n",
       "<p class=\"card-text\">Access to the full library of publicly released images from various Solar System exploration programs</p>\n",
       "</div>\n",
       "</div>\n",
       "</div>\n",
       "<div class=\"col-md-4\">\n",
       "<div class=\"card\">\n",
       "<img alt=\"Card image cap\" class=\"card-img-top\" src=\"https://imagecache.jpl.nasa.gov/images/640x350/C1-PIA23180-16-640x350.gif\"/>\n",
       "<div class=\"card-body\">\n",
       "<p class=\"card-text\">Access to the full library of publicly released images from various Solar System exploration programs</p>\n",
       "</div>\n",
       "</div>\n",
       "</div>\n",
       "</div>\n",
       "</div>\n",
       "</div>\n",
       "</div>\n",
       "<div class=\"footer\">\n",
       "<div class=\"container\">\n",
       "<div class=\"col-md-12\">\n",
       "<div class=\"row\">\n",
       "<div class=\"col-md-3\">\n",
       "<h4>About JPL</h4>\n",
       "<ul>\n",
       "<li>About JPL</li>\n",
       "<li>JPL Vision</li>\n",
       "<li>Executive Council</li>\n",
       "<li>History</li>\n",
       "</ul>\n",
       "</div>\n",
       "<div class=\"col-md-3\">\n",
       "<h4>Education</h4>\n",
       "<ul>\n",
       "<li>Intern</li>\n",
       "<li>Learn</li>\n",
       "<li>Teach</li>\n",
       "<li>News</li>\n",
       "</ul>\n",
       "</div>\n",
       "<div class=\"col-md-3\">\n",
       "<h4>Our Sites</h4>\n",
       "<ul>\n",
       "<li>Asteroid Watch</li>\n",
       "<li>Basics of Spaceflight</li>\n",
       "<li>Cassini - Mission to Saturn</li>\n",
       "<li>Climate Kids</li>\n",
       "</ul>\n",
       "</div>\n",
       "<div class=\"col-md-3\">\n",
       "<h4>Galleries</h4>\n",
       "<ul>\n",
       "<li>JPL Space Images</li>\n",
       "<li>Videos</li>\n",
       "<li>Infographics</li>\n",
       "<li>Photojournal</li>\n",
       "</ul>\n",
       "</div>\n",
       "</div>\n",
       "</div>\n",
       "</div>\n",
       "</div>\n",
       "<!--<div class=\"showFullimage\">\n",
       "\t<button class=\"btn btn-outline-light hideimage\" onclick=hideimage()> Close</button>\n",
       "\t<img class=\"fullimage fade-in\" src=\"\">\n",
       "</div>-->\n",
       "<!-- <script src=\"js/jquery.easeScroll.js\"></script>  -->\n",
       "<script src=\"js/jquery-3.5.1.min.js\"></script>\n",
       "<!-- <script src=\"js/jquery-3.2.1.slim.min.js\"></script> -->\n",
       "<script src=\"js/demo.js\"></script>\n",
       "<!-- <script src=\"js/app.js\"></script> -->\n",
       "<script src=\"https://cdnjs.cloudflare.com/ajax/libs/popper.js/1.12.9/umd/popper.min.js\"></script>\n",
       "<script src=\"https://maxcdn.bootstrapcdn.com/bootstrap/4.0.0/js/bootstrap.min.js\"></script>\n",
       "<script src=\"js/fancyBox/jquery.fancybox.pack.js?v=2.1.5\" type=\"text/javascript\"></script>\n",
       "<link href=\"js/fancyBox/jquery.fancybox.css?v=2.1.5\" media=\"screen\" rel=\"stylesheet\" type=\"text/css\"/>\n",
       "<link href=\"js/fancyBox/helpers/jquery.fancybox-thumbs.css?v=1.0.7\" rel=\"stylesheet\" type=\"text/css\"/>\n",
       "<script src=\"js/fancyBox/helpers/jquery.fancybox-thumbs.js?v=1.0.7\" type=\"text/javascript\"></script>\n",
       "<div class=\"fancybox-overlay fancybox-overlay-fixed\" style=\"width: auto; height: auto; display: block;\"><div class=\"fancybox-wrap fancybox-desktop fancybox-type-image fancybox-opened\" style=\"width: 670px; height: auto; position: absolute; top: 74px; left: 174px; opacity: 1; overflow: visible;\" tabindex=\"-1\"><div class=\"fancybox-skin\" style=\"padding: 15px; width: auto; height: auto;\"><div class=\"fancybox-outer\"><div class=\"fancybox-inner\" style=\"overflow: visible; width: 640px; height: 350px;\"><img alt=\"\" class=\"fancybox-image\" src=\"image/featured/mars3.jpg\"/></div></div><a class=\"fancybox-item fancybox-close\" href=\"javascript:;\" title=\"Close\"></a></div></div></div></body></html>"
      ]
     },
     "execution_count": 14,
     "metadata": {},
     "output_type": "execute_result"
    }
   ],
   "source": [
    "# Parse the resulting html with soup\n",
    "html = browser.html\n",
    "img_soup = soup(html, 'html.parser')\n",
    "img_soup"
   ]
  },
  {
   "cell_type": "code",
   "execution_count": 15,
   "metadata": {},
   "outputs": [
    {
     "data": {
      "text/plain": [
       "'image/featured/mars3.jpg'"
      ]
     },
     "execution_count": 15,
     "metadata": {},
     "output_type": "execute_result"
    }
   ],
   "source": [
    "# find the relative image url\n",
    "img_url_rel = img_soup.find('img', class_='fancybox-image').get('src')\n",
    "img_url_rel"
   ]
  },
  {
   "cell_type": "code",
   "execution_count": 16,
   "metadata": {},
   "outputs": [
    {
     "data": {
      "text/plain": [
       "'https://spaceimages-mars.com/image/featured/mars3.jpg'"
      ]
     },
     "execution_count": 16,
     "metadata": {},
     "output_type": "execute_result"
    }
   ],
   "source": [
    "# Use the base url to create an absolute url\n",
    "img_url = f'https://spaceimages-mars.com/{img_url_rel}'\n",
    "img_url"
   ]
  },
  {
   "cell_type": "markdown",
   "metadata": {},
   "source": [
    "### Mars Facts"
   ]
  },
  {
   "cell_type": "code",
   "execution_count": 18,
   "metadata": {},
   "outputs": [
    {
     "ename": "AttributeError",
     "evalue": "module 'pandas' has no attribute 'read_html'",
     "output_type": "error",
     "traceback": [
      "\u001b[1;31m---------------------------------------------------------------------------\u001b[0m",
      "\u001b[1;31mAttributeError\u001b[0m                            Traceback (most recent call last)",
      "\u001b[1;32m<ipython-input-18-d1574d4c0517>\u001b[0m in \u001b[0;36m<module>\u001b[1;34m\u001b[0m\n\u001b[1;32m----> 1\u001b[1;33m \u001b[0mdf\u001b[0m \u001b[1;33m=\u001b[0m \u001b[0mpd\u001b[0m\u001b[1;33m.\u001b[0m\u001b[0mread_html\u001b[0m\u001b[1;33m(\u001b[0m\u001b[1;34m'https://data-class-mars-facts.s3.amazonaws.com/Mars_Facts/index.html'\u001b[0m\u001b[1;33m)\u001b[0m\u001b[1;33m[\u001b[0m\u001b[1;36m0\u001b[0m\u001b[1;33m]\u001b[0m\u001b[1;33m\u001b[0m\u001b[1;33m\u001b[0m\u001b[0m\n\u001b[0m\u001b[0;32m      2\u001b[0m \u001b[0mdf\u001b[0m\u001b[1;33m.\u001b[0m\u001b[0mhead\u001b[0m\u001b[1;33m(\u001b[0m\u001b[1;33m)\u001b[0m\u001b[1;33m\u001b[0m\u001b[1;33m\u001b[0m\u001b[0m\n",
      "\u001b[1;31mAttributeError\u001b[0m: module 'pandas' has no attribute 'read_html'"
     ]
    }
   ],
   "source": [
    "df = pd.read_html('https://data-class-mars-facts.s3.amazonaws.com/Mars_Facts/index.html')[0]\n",
    "df.head()"
   ]
  },
  {
   "cell_type": "code",
   "execution_count": 17,
   "metadata": {},
   "outputs": [
    {
     "ename": "AttributeError",
     "evalue": "module 'pandas' has no attribute 'read_html'",
     "output_type": "error",
     "traceback": [
      "\u001b[1;31m---------------------------------------------------------------------------\u001b[0m",
      "\u001b[1;31mAttributeError\u001b[0m                            Traceback (most recent call last)",
      "\u001b[1;32m<ipython-input-17-820c26f0630d>\u001b[0m in \u001b[0;36m<module>\u001b[1;34m\u001b[0m\n\u001b[1;32m----> 1\u001b[1;33m \u001b[0mdf\u001b[0m \u001b[1;33m=\u001b[0m \u001b[0mpd\u001b[0m\u001b[1;33m.\u001b[0m\u001b[0mread_html\u001b[0m\u001b[1;33m(\u001b[0m\u001b[1;34m'https://galaxyfacts-mars.com'\u001b[0m\u001b[1;33m)\u001b[0m\u001b[1;33m[\u001b[0m\u001b[1;36m0\u001b[0m\u001b[1;33m]\u001b[0m\u001b[1;33m\u001b[0m\u001b[1;33m\u001b[0m\u001b[0m\n\u001b[0m\u001b[0;32m      2\u001b[0m \u001b[0mdf\u001b[0m\u001b[1;33m.\u001b[0m\u001b[0mhead\u001b[0m\u001b[1;33m(\u001b[0m\u001b[1;33m)\u001b[0m\u001b[1;33m\u001b[0m\u001b[1;33m\u001b[0m\u001b[0m\n",
      "\u001b[1;31mAttributeError\u001b[0m: module 'pandas' has no attribute 'read_html'"
     ]
    }
   ],
   "source": [
    "df = pd.read_html('https://galaxyfacts-mars.com')[0]\n",
    "df.head()"
   ]
  },
  {
   "cell_type": "code",
   "execution_count": null,
   "metadata": {},
   "outputs": [],
   "source": [
    "df.columns=['Description', 'Mars', 'Earth']\n",
    "df.set_index('Description', inplace=True)\n",
    "df"
   ]
  },
  {
   "cell_type": "code",
   "execution_count": null,
   "metadata": {},
   "outputs": [],
   "source": [
    "df.to_html()"
   ]
  },
  {
   "cell_type": "markdown",
   "metadata": {},
   "source": [
    "# D1: Scrape High-Resolution Mars’ Hemisphere Images and Titles"
   ]
  },
  {
   "cell_type": "markdown",
   "metadata": {},
   "source": [
    "### Hemispheres"
   ]
  },
  {
   "cell_type": "code",
   "execution_count": null,
   "metadata": {},
   "outputs": [],
   "source": [
    "# 1. Use browser to visit the URL \n",
    "url = 'https://marshemispheres.com/'\n",
    "\n",
    "browser.visit(url)"
   ]
  },
  {
   "cell_type": "code",
   "execution_count": null,
   "metadata": {},
   "outputs": [],
   "source": [
    "# 2. Create a list to hold the images and titles.\n",
    "hemisphere_image_urls = []\n",
    "\n",
    "# 3. Write code to retrieve the image urls and titles for each hemisphere.\n"
   ]
  },
  {
   "cell_type": "code",
   "execution_count": null,
   "metadata": {},
   "outputs": [],
   "source": [
    "# 4. Print the list that holds the dictionary of each image url and title.\n",
    "hemisphere_image_urls"
   ]
  },
  {
   "cell_type": "code",
   "execution_count": null,
   "metadata": {},
   "outputs": [],
   "source": [
    "# 5. Quit the browser\n",
    "browser.quit()"
   ]
  },
  {
   "cell_type": "code",
   "execution_count": null,
   "metadata": {},
   "outputs": [],
   "source": []
  }
 ],
 "metadata": {
  "kernelspec": {
   "display_name": "PythonData",
   "language": "python",
   "name": "pythondata"
  },
  "language_info": {
   "codemirror_mode": {
    "name": "ipython",
    "version": 3
   },
   "file_extension": ".py",
   "mimetype": "text/x-python",
   "name": "python",
   "nbconvert_exporter": "python",
   "pygments_lexer": "ipython3",
   "version": "3.8.5"
  },
  "nteract": {
   "version": "0.15.0"
  }
 },
 "nbformat": 4,
 "nbformat_minor": 4
}
