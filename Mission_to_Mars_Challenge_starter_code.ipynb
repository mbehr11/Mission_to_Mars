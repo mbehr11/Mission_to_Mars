{
 "cells": [
  {
   "cell_type": "code",
   "execution_count": 2,
   "metadata": {},
   "outputs": [
    {
     "name": "stdout",
     "output_type": "stream",
     "text": [
      "Collecting splinter\n",
      "  Using cached splinter-0.15.0-py3-none-any.whl (37 kB)\n",
      "Collecting selenium>=3.141.0\n",
      "  Using cached selenium-3.141.0-py2.py3-none-any.whl (904 kB)\n",
      "Requirement already satisfied: six in c:\\users\\morga\\anaconda3\\lib\\site-packages (from splinter) (1.15.0)\n",
      "Requirement already satisfied: urllib3 in c:\\users\\morga\\anaconda3\\lib\\site-packages (from selenium>=3.141.0->splinter) (1.26.4)\n",
      "Installing collected packages: selenium, splinter\n",
      "Successfully installed selenium-3.141.0 splinter-0.15.0\n",
      "Note: you may need to restart the kernel to use updated packages.\n"
     ]
    }
   ],
   "source": [
    "pip install splinter\n"
   ]
  },
  {
   "cell_type": "code",
   "execution_count": 4,
   "metadata": {},
   "outputs": [
    {
     "name": "stdout",
     "output_type": "stream",
     "text": [
      "Collecting webdriver_manager\n",
      "  Using cached webdriver_manager-3.4.2-py2.py3-none-any.whl (16 kB)\n",
      "Requirement already satisfied: requests in c:\\users\\morga\\anaconda3\\lib\\site-packages (from webdriver_manager) (2.25.1)\n",
      "Collecting configparser\n",
      "  Using cached configparser-5.0.2-py3-none-any.whl (19 kB)\n",
      "Collecting crayons\n",
      "  Using cached crayons-0.4.0-py2.py3-none-any.whl (4.6 kB)\n",
      "Requirement already satisfied: colorama in c:\\users\\morga\\anaconda3\\lib\\site-packages (from crayons->webdriver_manager) (0.4.4)\n",
      "Requirement already satisfied: chardet<5,>=3.0.2 in c:\\users\\morga\\anaconda3\\lib\\site-packages (from requests->webdriver_manager) (4.0.0)\n",
      "Requirement already satisfied: certifi>=2017.4.17 in c:\\users\\morga\\anaconda3\\lib\\site-packages (from requests->webdriver_manager) (2020.12.5)\n",
      "Requirement already satisfied: urllib3<1.27,>=1.21.1 in c:\\users\\morga\\anaconda3\\lib\\site-packages (from requests->webdriver_manager) (1.26.4)\n",
      "Requirement already satisfied: idna<3,>=2.5 in c:\\users\\morga\\anaconda3\\lib\\site-packages (from requests->webdriver_manager) (2.10)\n",
      "Installing collected packages: crayons, configparser, webdriver-manager\n",
      "Successfully installed configparser-5.0.2 crayons-0.4.0 webdriver-manager-3.4.2\n",
      "Note: you may need to restart the kernel to use updated packages.\n"
     ]
    }
   ],
   "source": [
    "pip install webdriver_manager"
   ]
  },
  {
   "cell_type": "code",
   "execution_count": 5,
   "metadata": {},
   "outputs": [
    {
     "name": "stdout",
     "output_type": "stream",
     "text": [
      "Collecting bs4\n",
      "  Using cached bs4-0.0.1-py3-none-any.whl\n",
      "Requirement already satisfied: beautifulsoup4 in c:\\users\\morga\\anaconda3\\lib\\site-packages (from bs4) (4.9.3)\n",
      "Requirement already satisfied: soupsieve>1.2 in c:\\users\\morga\\anaconda3\\lib\\site-packages (from beautifulsoup4->bs4) (2.2.1)\n",
      "Installing collected packages: bs4\n",
      "Successfully installed bs4-0.0.1\n",
      "Note: you may need to restart the kernel to use updated packages.\n"
     ]
    }
   ],
   "source": [
    "pip install bs4 "
   ]
  },
  {
   "cell_type": "code",
   "execution_count": 6,
   "metadata": {},
   "outputs": [],
   "source": [
    "# Import Splinter, BeautifulSoup, and Pandas\n",
    "from splinter import Browser\n",
    "from bs4 import BeautifulSoup as soup\n",
    "import pandas as pd\n",
    "from webdriver_manager.chrome import ChromeDriverManager"
   ]
  },
  {
   "cell_type": "code",
   "execution_count": 7,
   "metadata": {},
   "outputs": [
    {
     "name": "stderr",
     "output_type": "stream",
     "text": [
      "\n",
      "\n",
      "====== WebDriver manager ======\n",
      "Current google-chrome version is 92.0.4515\n",
      "Get LATEST driver version for 92.0.4515\n",
      "Driver [C:\\Users\\morga\\.wdm\\drivers\\chromedriver\\win32\\92.0.4515.107\\chromedriver.exe] found in cache\n"
     ]
    }
   ],
   "source": [
    "# Set the executable path and initialize Splinter\n",
    "executable_path = {'executable_path': ChromeDriverManager().install()}\n",
    "browser = Browser('chrome', **executable_path, headless=False)"
   ]
  },
  {
   "cell_type": "markdown",
   "metadata": {},
   "source": [
    "### Visit the NASA Mars News Site"
   ]
  },
  {
   "cell_type": "code",
   "execution_count": 8,
   "metadata": {},
   "outputs": [
    {
     "data": {
      "text/plain": [
       "True"
      ]
     },
     "execution_count": 8,
     "metadata": {},
     "output_type": "execute_result"
    }
   ],
   "source": [
    "# Visit the mars nasa news site\n",
    "url = 'https://redplanetscience.com/'\n",
    "browser.visit(url)\n",
    "\n",
    "# Optional delay for loading the page\n",
    "browser.is_element_present_by_css('div.list_text', wait_time=1)"
   ]
  },
  {
   "cell_type": "code",
   "execution_count": 9,
   "metadata": {},
   "outputs": [
    {
     "data": {
      "text/plain": [
       "'<html><head>\\n      <meta charset=\"utf-8\">\\n      <meta name=\"viewport\" content=\"width=device-width, initial-scale=1\">\\n      <link href=\"https://cdn.jsdelivr.net/npm/bootstrap@5.0.0-beta1/dist/css/bootstrap.min.css\" rel=\"stylesheet\" integrity=\"sha384-giJF6kkoqNQ00vy+HMDP7azOuL0xtbfIcaT9wjKHr8RbDVddVHyTfAAsrekwKmP1\" crossorigin=\"anonymous\">\\n      <link rel=\"stylesheet\" type=\"text/css\" href=\"css/font.css\">\\n      <link rel=\"stylesheet\" type=\"text/css\" href=\"css/app.css\">\\n      <link rel=\"stylesheet\" href=\"https://pro.fontawesome.com/releases/v5.10.0/css/all.css\" integrity=\"sha384-AYmEC3Yw5cVb3ZcuHtOA93w35dYTsvhLPVnYs9eStHfGJvOvKxVfELGroGkvsg+p\" crossorigin=\"anonymous\">\\n      <title>News - Mars Exploration Program</title>\\n   </head>\\n   <body>\\n      <div class=\"col-md-12\">\\n      <div class=\"row\">\\n      <nav class=\"navbar navbar-expand-lg navbar-light fixed-top\">\\n         <div class=\"container-fluid\">\\n            <a class=\"navbar-brand\" href=\"#\"> \\n            <img src=\"image/nasa.png\" width=\"80\"><span class=\"logo\">MARS Planet Science</span>\\n            <span class=\"logo1\">Exploration Program</span>\\n            </a>\\n            <button class=\"navbar-toggler\" type=\"button\" data-bs-toggle=\"collapse\" data-bs-target=\"#navbarNav\" aria-controls=\"navbarNav\" aria-expanded=\"false\" aria-label=\"Toggle navigation\">\\n            <span class=\"navbar-toggler-icon\"></span>\\n            </button>\\n            <div class=\"collapse navbar-collapse justify-content-end\" id=\"navbarNav\">\\n               <ul class=\"navbar-nav\">\\n                  <li class=\"nav-item\">\\n                     <a class=\"nav-link active\" aria-current=\"page\" href=\"#\">The Red Planet</a>\\n                  </li>\\n                  <li class=\"nav-item\">\\n                     <a class=\"nav-link\" href=\"#\">The Program</a>\\n                  </li>\\n                  <li class=\"nav-item\">\\n                     <a class=\"nav-link\" href=\"#\">News &amp; Events</a>\\n                  </li>\\n                  <li class=\"nav-item\">\\n                     <a class=\"nav-link\" href=\"#\">Multimedia</a>\\n                  </li>\\n                  <li class=\"nav-item\">\\n                     <a class=\"nav-link\" href=\"#\">Missions</a>\\n                  </li>\\n                  <li class=\"nav-item\">\\n                     <a class=\"nav-link\" href=\"#\">More</a>\\n                  </li>\\n                  <li class=\"nav-item nav_search\">\\n                     <a class=\"nav-link \" href=\"#\"></a>\\n                  </li>\\n               </ul>\\n            </div>\\n         </div>\\n      </nav>\\n      <section class=\"search\">\\n         <div class=\"container\">\\n            <h1>News</h1>\\n            <div class=\"col-md-12 filter\">\\n               <div class=\"row\">\\n                  <div class=\"col-md-3 search_binder\">\\n                     <input type=\"text\" name=\"search\" class=\"search_field\">\\n                     <input type=\"text\" name=\"search\" class=\"search_submit\">\\n                  </div>\\n                  <div class=\"col-md-3\">\\n                     <select id=\"year\" class=\"form-select \" aria-label=\"Default select example\">\\n                        <option selected=\"\">Latest</option>\\n\\n                     <option>2020</option><option>2019</option></select>\\n                  </div>\\n                  <div class=\"col-md-3\">\\n                     <select id=\"cat\" class=\"form-select \" aria-label=\"Default select example\">\\n                        <option selected=\"\">All Categories</option>\\n\\n                     <option>Feature Stories</option><option>Status Reports</option><option>Press Releases</option></select>\\n                  </div>\\n                  <div class=\"col-md-3\">\\t\\t\\t\\t\\t\\t\\n                  </div>\\n               </div>\\n            </div>\\n         </div>\\n      </section>\\n      <section class=\"image_and_description_container\">\\n         <div id=\"news\" class=\"container \">\\n\\n         \\n\\t\\t\\t\\t\\t\\t\\t\\t<div class=\"col-md-12\">\\n\\t\\t\\t\\t\\t\\t\\t\\t\\t   <hr>\\n\\t\\t\\t\\t\\t\\t\\t\\t\\t   <div class=\"row\">\\n\\t\\t\\t\\t\\t\\t\\t\\t\\t\\t  <div class=\"col-md-4\">\\n\\t\\t\\t\\t\\t\\t\\t\\t\\t\\t\\t <div class=\"list_image\">\\n\\t\\t\\t\\t\\t\\t\\t\\t\\t\\t\\t\\t<img src=\"https://mars.nasa.gov/system/news_items/list_view_images/8782_PIA-23989-320.jpg\">\\n\\t\\t\\t\\t\\t\\t\\t\\t\\t\\t\\t </div>\\n\\t\\t\\t\\t\\t\\t\\t\\t\\t\\t  </div>\\n\\t\\t\\t\\t\\t\\t\\t\\t\\t\\t  <div class=\"col-md-8\">\\n\\t\\t\\t\\t\\t\\t\\t\\t\\t\\t  \\t<div class=\"list_text\">\\n\\t\\t\\t\\t\\t\\t\\t\\t\\t\\t\\t <div class=\"list_date\">August 18, 2021</div>\\n\\t\\t\\t\\t\\t\\t\\t\\t\\t\\t\\t <div class=\"content_title\">Sensors on Mars 2020 Spacecraft Answer Long-Distance Call From Earth</div>\\n\\t\\t\\t\\t\\t\\t\\t\\t\\t\\t\\t <div class=\"article_teaser_body\">Instruments tailored to collect data during the descent of NASA\\'s next rover through the Red Planet\\'s atmosphere have been checked in flight.</div>\\n\\t\\t\\t\\t\\t\\t\\t\\t\\t\\t\\t </div>\\n\\t\\t\\t\\t\\t\\t\\t\\t\\t\\t  </div>\\n\\t\\t\\t\\t\\t\\t\\t\\t\\t   </div>\\n\\t\\t\\t\\t\\t\\t\\t\\t\\t</div>\\n\\t\\t\\t\\t\\t\\t\\n\\t\\t\\t\\t\\t\\t\\t\\t<div class=\"col-md-12\">\\n\\t\\t\\t\\t\\t\\t\\t\\t\\t   <hr>\\n\\t\\t\\t\\t\\t\\t\\t\\t\\t   <div class=\"row\">\\n\\t\\t\\t\\t\\t\\t\\t\\t\\t\\t  <div class=\"col-md-4\">\\n\\t\\t\\t\\t\\t\\t\\t\\t\\t\\t\\t <div class=\"list_image\">\\n\\t\\t\\t\\t\\t\\t\\t\\t\\t\\t\\t\\t<img src=\"https://mars.nasa.gov/system/news_items/list_view_images/8662_video-collage-perseverance-320x240.jpg\">\\n\\t\\t\\t\\t\\t\\t\\t\\t\\t\\t\\t </div>\\n\\t\\t\\t\\t\\t\\t\\t\\t\\t\\t  </div>\\n\\t\\t\\t\\t\\t\\t\\t\\t\\t\\t  <div class=\"col-md-8\">\\n\\t\\t\\t\\t\\t\\t\\t\\t\\t\\t  \\t<div class=\"list_text\">\\n\\t\\t\\t\\t\\t\\t\\t\\t\\t\\t\\t <div class=\"list_date\">August 17, 2021</div>\\n\\t\\t\\t\\t\\t\\t\\t\\t\\t\\t\\t <div class=\"content_title\">Meet the People Behind NASA\\'s Perseverance Rover</div>\\n\\t\\t\\t\\t\\t\\t\\t\\t\\t\\t\\t <div class=\"article_teaser_body\">These are the scientists and engineers who built NASA\\'s next Mars rover and who will guide it to a safe landing in Jezero Crater. </div>\\n\\t\\t\\t\\t\\t\\t\\t\\t\\t\\t\\t </div>\\n\\t\\t\\t\\t\\t\\t\\t\\t\\t\\t  </div>\\n\\t\\t\\t\\t\\t\\t\\t\\t\\t   </div>\\n\\t\\t\\t\\t\\t\\t\\t\\t\\t</div>\\n\\t\\t\\t\\t\\t\\t\\n\\t\\t\\t\\t\\t\\t\\t\\t<div class=\"col-md-12\">\\n\\t\\t\\t\\t\\t\\t\\t\\t\\t   <hr>\\n\\t\\t\\t\\t\\t\\t\\t\\t\\t   <div class=\"row\">\\n\\t\\t\\t\\t\\t\\t\\t\\t\\t\\t  <div class=\"col-md-4\">\\n\\t\\t\\t\\t\\t\\t\\t\\t\\t\\t\\t <div class=\"list_image\">\\n\\t\\t\\t\\t\\t\\t\\t\\t\\t\\t\\t\\t<img src=\"https://mars.nasa.gov/system/news_items/list_view_images/8744_PIA22957-226.jpg\">\\n\\t\\t\\t\\t\\t\\t\\t\\t\\t\\t\\t </div>\\n\\t\\t\\t\\t\\t\\t\\t\\t\\t\\t  </div>\\n\\t\\t\\t\\t\\t\\t\\t\\t\\t\\t  <div class=\"col-md-8\">\\n\\t\\t\\t\\t\\t\\t\\t\\t\\t\\t  \\t<div class=\"list_text\">\\n\\t\\t\\t\\t\\t\\t\\t\\t\\t\\t\\t <div class=\"list_date\">August 15, 2021</div>\\n\\t\\t\\t\\t\\t\\t\\t\\t\\t\\t\\t <div class=\"content_title\">NASA Engineers Checking InSight\\'s Weather Sensors</div>\\n\\t\\t\\t\\t\\t\\t\\t\\t\\t\\t\\t <div class=\"article_teaser_body\">An electronics issue is suspected to be preventing the sensors from sharing their data about Mars weather with the spacecraft.</div>\\n\\t\\t\\t\\t\\t\\t\\t\\t\\t\\t\\t </div>\\n\\t\\t\\t\\t\\t\\t\\t\\t\\t\\t  </div>\\n\\t\\t\\t\\t\\t\\t\\t\\t\\t   </div>\\n\\t\\t\\t\\t\\t\\t\\t\\t\\t</div>\\n\\t\\t\\t\\t\\t\\t\\n\\t\\t\\t\\t\\t\\t\\t\\t<div class=\"col-md-12\">\\n\\t\\t\\t\\t\\t\\t\\t\\t\\t   <hr>\\n\\t\\t\\t\\t\\t\\t\\t\\t\\t   <div class=\"row\">\\n\\t\\t\\t\\t\\t\\t\\t\\t\\t\\t  <div class=\"col-md-4\">\\n\\t\\t\\t\\t\\t\\t\\t\\t\\t\\t\\t <div class=\"list_image\">\\n\\t\\t\\t\\t\\t\\t\\t\\t\\t\\t\\t\\t<img src=\"https://mars.nasa.gov/system/news_items/list_view_images/8536_Mars_chemist_320x240px.jpg\">\\n\\t\\t\\t\\t\\t\\t\\t\\t\\t\\t\\t </div>\\n\\t\\t\\t\\t\\t\\t\\t\\t\\t\\t  </div>\\n\\t\\t\\t\\t\\t\\t\\t\\t\\t\\t  <div class=\"col-md-8\">\\n\\t\\t\\t\\t\\t\\t\\t\\t\\t\\t  \\t<div class=\"list_text\">\\n\\t\\t\\t\\t\\t\\t\\t\\t\\t\\t\\t <div class=\"list_date\">August 14, 2021</div>\\n\\t\\t\\t\\t\\t\\t\\t\\t\\t\\t\\t <div class=\"content_title\">New Selfie Shows Curiosity, the Mars Chemist</div>\\n\\t\\t\\t\\t\\t\\t\\t\\t\\t\\t\\t <div class=\"article_teaser_body\">The NASA rover performed a special chemistry experiment at the location captured in its newest self-portrait.</div>\\n\\t\\t\\t\\t\\t\\t\\t\\t\\t\\t\\t </div>\\n\\t\\t\\t\\t\\t\\t\\t\\t\\t\\t  </div>\\n\\t\\t\\t\\t\\t\\t\\t\\t\\t   </div>\\n\\t\\t\\t\\t\\t\\t\\t\\t\\t</div>\\n\\t\\t\\t\\t\\t\\t\\n\\t\\t\\t\\t\\t\\t\\t\\t<div class=\"col-md-12\">\\n\\t\\t\\t\\t\\t\\t\\t\\t\\t   <hr>\\n\\t\\t\\t\\t\\t\\t\\t\\t\\t   <div class=\"row\">\\n\\t\\t\\t\\t\\t\\t\\t\\t\\t\\t  <div class=\"col-md-4\">\\n\\t\\t\\t\\t\\t\\t\\t\\t\\t\\t\\t <div class=\"list_image\">\\n\\t\\t\\t\\t\\t\\t\\t\\t\\t\\t\\t\\t<img src=\"https://mars.nasa.gov/system/news_items/list_view_images/8742_Mars2020-Earth-226.jpg\">\\n\\t\\t\\t\\t\\t\\t\\t\\t\\t\\t\\t </div>\\n\\t\\t\\t\\t\\t\\t\\t\\t\\t\\t  </div>\\n\\t\\t\\t\\t\\t\\t\\t\\t\\t\\t  <div class=\"col-md-8\">\\n\\t\\t\\t\\t\\t\\t\\t\\t\\t\\t  \\t<div class=\"list_text\">\\n\\t\\t\\t\\t\\t\\t\\t\\t\\t\\t\\t <div class=\"list_date\">August 13, 2021</div>\\n\\t\\t\\t\\t\\t\\t\\t\\t\\t\\t\\t <div class=\"content_title\">Follow NASA\\'s Perseverance Rover in Real Time on Its Way to Mars</div>\\n\\t\\t\\t\\t\\t\\t\\t\\t\\t\\t\\t <div class=\"article_teaser_body\">A crisply rendered web application can show you where the agency\\'s Mars 2020 mission is right now as it makes its way to the Red Planet for a Feb. 18, 2021, landing.</div>\\n\\t\\t\\t\\t\\t\\t\\t\\t\\t\\t\\t </div>\\n\\t\\t\\t\\t\\t\\t\\t\\t\\t\\t  </div>\\n\\t\\t\\t\\t\\t\\t\\t\\t\\t   </div>\\n\\t\\t\\t\\t\\t\\t\\t\\t\\t</div>\\n\\t\\t\\t\\t\\t\\t\\n\\t\\t\\t\\t\\t\\t\\t\\t<div class=\"col-md-12\">\\n\\t\\t\\t\\t\\t\\t\\t\\t\\t   <hr>\\n\\t\\t\\t\\t\\t\\t\\t\\t\\t   <div class=\"row\">\\n\\t\\t\\t\\t\\t\\t\\t\\t\\t\\t  <div class=\"col-md-4\">\\n\\t\\t\\t\\t\\t\\t\\t\\t\\t\\t\\t <div class=\"list_image\">\\n\\t\\t\\t\\t\\t\\t\\t\\t\\t\\t\\t\\t<img src=\"https://mars.nasa.gov/system/news_items/list_view_images/8705_PIA23896-226.jpg\">\\n\\t\\t\\t\\t\\t\\t\\t\\t\\t\\t\\t </div>\\n\\t\\t\\t\\t\\t\\t\\t\\t\\t\\t  </div>\\n\\t\\t\\t\\t\\t\\t\\t\\t\\t\\t  <div class=\"col-md-8\">\\n\\t\\t\\t\\t\\t\\t\\t\\t\\t\\t  \\t<div class=\"list_text\">\\n\\t\\t\\t\\t\\t\\t\\t\\t\\t\\t\\t <div class=\"list_date\">August 11, 2021</div>\\n\\t\\t\\t\\t\\t\\t\\t\\t\\t\\t\\t <div class=\"content_title\">NASA\\'s InSight Flexes Its Arm While Its \\'Mole\\' Hits Pause</div>\\n\\t\\t\\t\\t\\t\\t\\t\\t\\t\\t\\t <div class=\"article_teaser_body\">Now that the lander\\'s robotic arm has helped the mole get underground, it will resume science activities that have been on hold.</div>\\n\\t\\t\\t\\t\\t\\t\\t\\t\\t\\t\\t </div>\\n\\t\\t\\t\\t\\t\\t\\t\\t\\t\\t  </div>\\n\\t\\t\\t\\t\\t\\t\\t\\t\\t   </div>\\n\\t\\t\\t\\t\\t\\t\\t\\t\\t</div>\\n\\t\\t\\t\\t\\t\\t\\n\\t\\t\\t\\t\\t\\t\\t\\t<div class=\"col-md-12\">\\n\\t\\t\\t\\t\\t\\t\\t\\t\\t   <hr>\\n\\t\\t\\t\\t\\t\\t\\t\\t\\t   <div class=\"row\">\\n\\t\\t\\t\\t\\t\\t\\t\\t\\t\\t  <div class=\"col-md-4\">\\n\\t\\t\\t\\t\\t\\t\\t\\t\\t\\t\\t <div class=\"list_image\">\\n\\t\\t\\t\\t\\t\\t\\t\\t\\t\\t\\t\\t<img src=\"https://mars.nasa.gov/system/news_items/list_view_images/8692_PIA23920-320x240.jpg\">\\n\\t\\t\\t\\t\\t\\t\\t\\t\\t\\t\\t </div>\\n\\t\\t\\t\\t\\t\\t\\t\\t\\t\\t  </div>\\n\\t\\t\\t\\t\\t\\t\\t\\t\\t\\t  <div class=\"col-md-8\">\\n\\t\\t\\t\\t\\t\\t\\t\\t\\t\\t  \\t<div class=\"list_text\">\\n\\t\\t\\t\\t\\t\\t\\t\\t\\t\\t\\t <div class=\"list_date\">August 10, 2021</div>\\n\\t\\t\\t\\t\\t\\t\\t\\t\\t\\t\\t <div class=\"content_title\">NASA to Hold Mars 2020 Perseverance Rover Launch Briefing</div>\\n\\t\\t\\t\\t\\t\\t\\t\\t\\t\\t\\t <div class=\"article_teaser_body\">Learn more about the agency\\'s next Red Planet mission during a live event on June 17.</div>\\n\\t\\t\\t\\t\\t\\t\\t\\t\\t\\t\\t </div>\\n\\t\\t\\t\\t\\t\\t\\t\\t\\t\\t  </div>\\n\\t\\t\\t\\t\\t\\t\\t\\t\\t   </div>\\n\\t\\t\\t\\t\\t\\t\\t\\t\\t</div>\\n\\t\\t\\t\\t\\t\\t\\n\\t\\t\\t\\t\\t\\t\\t\\t<div class=\"col-md-12\">\\n\\t\\t\\t\\t\\t\\t\\t\\t\\t   <hr>\\n\\t\\t\\t\\t\\t\\t\\t\\t\\t   <div class=\"row\">\\n\\t\\t\\t\\t\\t\\t\\t\\t\\t\\t  <div class=\"col-md-4\">\\n\\t\\t\\t\\t\\t\\t\\t\\t\\t\\t\\t <div class=\"list_image\">\\n\\t\\t\\t\\t\\t\\t\\t\\t\\t\\t\\t\\t<img src=\"https://mars.nasa.gov/system/news_items/list_view_images/8588_name20190625-320x240.jpg\">\\n\\t\\t\\t\\t\\t\\t\\t\\t\\t\\t\\t </div>\\n\\t\\t\\t\\t\\t\\t\\t\\t\\t\\t  </div>\\n\\t\\t\\t\\t\\t\\t\\t\\t\\t\\t  <div class=\"col-md-8\">\\n\\t\\t\\t\\t\\t\\t\\t\\t\\t\\t  \\t<div class=\"list_text\">\\n\\t\\t\\t\\t\\t\\t\\t\\t\\t\\t\\t <div class=\"list_date\">August 5, 2021</div>\\n\\t\\t\\t\\t\\t\\t\\t\\t\\t\\t\\t <div class=\"content_title\">Nine Finalists Chosen in NASA\\'s Mars 2020 Rover Naming Contest</div>\\n\\t\\t\\t\\t\\t\\t\\t\\t\\t\\t\\t <div class=\"article_teaser_body\">Nine finalists have been chosen in the essay contest for K-12 students across U.S. to name NASA\\'s next Mars rover. Now you can help by voting for your favorite. </div>\\n\\t\\t\\t\\t\\t\\t\\t\\t\\t\\t\\t </div>\\n\\t\\t\\t\\t\\t\\t\\t\\t\\t\\t  </div>\\n\\t\\t\\t\\t\\t\\t\\t\\t\\t   </div>\\n\\t\\t\\t\\t\\t\\t\\t\\t\\t</div>\\n\\t\\t\\t\\t\\t\\t\\n\\t\\t\\t\\t\\t\\t\\t\\t<div class=\"col-md-12\">\\n\\t\\t\\t\\t\\t\\t\\t\\t\\t   <hr>\\n\\t\\t\\t\\t\\t\\t\\t\\t\\t   <div class=\"row\">\\n\\t\\t\\t\\t\\t\\t\\t\\t\\t\\t  <div class=\"col-md-4\">\\n\\t\\t\\t\\t\\t\\t\\t\\t\\t\\t\\t <div class=\"list_image\">\\n\\t\\t\\t\\t\\t\\t\\t\\t\\t\\t\\t\\t<img src=\"https://mars.nasa.gov/system/news_items/list_view_images/8508_Name_A_unannotated_MAIN-th.jpg\">\\n\\t\\t\\t\\t\\t\\t\\t\\t\\t\\t\\t </div>\\n\\t\\t\\t\\t\\t\\t\\t\\t\\t\\t  </div>\\n\\t\\t\\t\\t\\t\\t\\t\\t\\t\\t  <div class=\"col-md-8\">\\n\\t\\t\\t\\t\\t\\t\\t\\t\\t\\t  \\t<div class=\"list_text\">\\n\\t\\t\\t\\t\\t\\t\\t\\t\\t\\t\\t <div class=\"list_date\">August 3, 2021</div>\\n\\t\\t\\t\\t\\t\\t\\t\\t\\t\\t\\t <div class=\"content_title\">NASA Invites Students to Name Mars 2020 Rover</div>\\n\\t\\t\\t\\t\\t\\t\\t\\t\\t\\t\\t <div class=\"article_teaser_body\">Through Nov. 1, K-12 students in the U.S. are encouraged to enter an essay contest to name NASA\\'s next Mars rover.</div>\\n\\t\\t\\t\\t\\t\\t\\t\\t\\t\\t\\t </div>\\n\\t\\t\\t\\t\\t\\t\\t\\t\\t\\t  </div>\\n\\t\\t\\t\\t\\t\\t\\t\\t\\t   </div>\\n\\t\\t\\t\\t\\t\\t\\t\\t\\t</div>\\n\\t\\t\\t\\t\\t\\t\\n\\t\\t\\t\\t\\t\\t\\t\\t<div class=\"col-md-12\">\\n\\t\\t\\t\\t\\t\\t\\t\\t\\t   <hr>\\n\\t\\t\\t\\t\\t\\t\\t\\t\\t   <div class=\"row\">\\n\\t\\t\\t\\t\\t\\t\\t\\t\\t\\t  <div class=\"col-md-4\">\\n\\t\\t\\t\\t\\t\\t\\t\\t\\t\\t\\t <div class=\"list_image\">\\n\\t\\t\\t\\t\\t\\t\\t\\t\\t\\t\\t\\t<img src=\"https://mars.nasa.gov/system/news_items/list_view_images/8596_mavenatmars-320x240.jpg\">\\n\\t\\t\\t\\t\\t\\t\\t\\t\\t\\t\\t </div>\\n\\t\\t\\t\\t\\t\\t\\t\\t\\t\\t  </div>\\n\\t\\t\\t\\t\\t\\t\\t\\t\\t\\t  <div class=\"col-md-8\">\\n\\t\\t\\t\\t\\t\\t\\t\\t\\t\\t  \\t<div class=\"list_text\">\\n\\t\\t\\t\\t\\t\\t\\t\\t\\t\\t\\t <div class=\"list_date\">August 2, 2021</div>\\n\\t\\t\\t\\t\\t\\t\\t\\t\\t\\t\\t <div class=\"content_title\">NASA\\'s MAVEN Explores Mars to Understand Radio Interference at Earth</div>\\n\\t\\t\\t\\t\\t\\t\\t\\t\\t\\t\\t <div class=\"article_teaser_body\">NASA’s MAVEN spacecraft has discovered “layers” and “rifts” in the electrically charged part of the upper atmosphere of Mars.</div>\\n\\t\\t\\t\\t\\t\\t\\t\\t\\t\\t\\t </div>\\n\\t\\t\\t\\t\\t\\t\\t\\t\\t\\t  </div>\\n\\t\\t\\t\\t\\t\\t\\t\\t\\t   </div>\\n\\t\\t\\t\\t\\t\\t\\t\\t\\t</div>\\n\\t\\t\\t\\t\\t\\t\\n\\t\\t\\t\\t\\t\\t\\t\\t<div class=\"col-md-12\">\\n\\t\\t\\t\\t\\t\\t\\t\\t\\t   <hr>\\n\\t\\t\\t\\t\\t\\t\\t\\t\\t   <div class=\"row\">\\n\\t\\t\\t\\t\\t\\t\\t\\t\\t\\t  <div class=\"col-md-4\">\\n\\t\\t\\t\\t\\t\\t\\t\\t\\t\\t\\t <div class=\"list_image\">\\n\\t\\t\\t\\t\\t\\t\\t\\t\\t\\t\\t\\t<img src=\"https://mars.nasa.gov/system/news_items/list_view_images/8649_PIA23828-MAINimage-RoverNamePlate-320x240.jpg\">\\n\\t\\t\\t\\t\\t\\t\\t\\t\\t\\t\\t </div>\\n\\t\\t\\t\\t\\t\\t\\t\\t\\t\\t  </div>\\n\\t\\t\\t\\t\\t\\t\\t\\t\\t\\t  <div class=\"col-md-8\">\\n\\t\\t\\t\\t\\t\\t\\t\\t\\t\\t  \\t<div class=\"list_text\">\\n\\t\\t\\t\\t\\t\\t\\t\\t\\t\\t\\t <div class=\"list_date\">August 2, 2021</div>\\n\\t\\t\\t\\t\\t\\t\\t\\t\\t\\t\\t <div class=\"content_title\">NASA\\'s Perseverance Mars Rover Gets Balanced</div>\\n\\t\\t\\t\\t\\t\\t\\t\\t\\t\\t\\t <div class=\"article_teaser_body\">The mission team performed a crucial weight-balancing test on the rover in preparation for this summer\\'s history-making launch to the Red Planet.</div>\\n\\t\\t\\t\\t\\t\\t\\t\\t\\t\\t\\t </div>\\n\\t\\t\\t\\t\\t\\t\\t\\t\\t\\t  </div>\\n\\t\\t\\t\\t\\t\\t\\t\\t\\t   </div>\\n\\t\\t\\t\\t\\t\\t\\t\\t\\t</div>\\n\\t\\t\\t\\t\\t\\t\\n\\t\\t\\t\\t\\t\\t\\t\\t<div class=\"col-md-12\">\\n\\t\\t\\t\\t\\t\\t\\t\\t\\t   <hr>\\n\\t\\t\\t\\t\\t\\t\\t\\t\\t   <div class=\"row\">\\n\\t\\t\\t\\t\\t\\t\\t\\t\\t\\t  <div class=\"col-md-4\">\\n\\t\\t\\t\\t\\t\\t\\t\\t\\t\\t\\t <div class=\"list_image\">\\n\\t\\t\\t\\t\\t\\t\\t\\t\\t\\t\\t\\t<img src=\"https://mars.nasa.gov/system/news_items/list_view_images/8509_PIA23461-226.jpg\">\\n\\t\\t\\t\\t\\t\\t\\t\\t\\t\\t\\t </div>\\n\\t\\t\\t\\t\\t\\t\\t\\t\\t\\t  </div>\\n\\t\\t\\t\\t\\t\\t\\t\\t\\t\\t  <div class=\"col-md-8\">\\n\\t\\t\\t\\t\\t\\t\\t\\t\\t\\t  \\t<div class=\"list_text\">\\n\\t\\t\\t\\t\\t\\t\\t\\t\\t\\t\\t <div class=\"list_date\">July 30, 2021</div>\\n\\t\\t\\t\\t\\t\\t\\t\\t\\t\\t\\t <div class=\"content_title\">NASA\\'s Mars 2020 Comes Full Circle</div>\\n\\t\\t\\t\\t\\t\\t\\t\\t\\t\\t\\t <div class=\"article_teaser_body\">Aiming to pinpoint the Martian vehicle\\'s center of gravity, engineers took NASA\\'s 2,300-pound Mars 2020 rover for a spin in the clean room at JPL. </div>\\n\\t\\t\\t\\t\\t\\t\\t\\t\\t\\t\\t </div>\\n\\t\\t\\t\\t\\t\\t\\t\\t\\t\\t  </div>\\n\\t\\t\\t\\t\\t\\t\\t\\t\\t   </div>\\n\\t\\t\\t\\t\\t\\t\\t\\t\\t</div>\\n\\t\\t\\t\\t\\t\\t\\n\\t\\t\\t\\t\\t\\t\\t\\t<div class=\"col-md-12\">\\n\\t\\t\\t\\t\\t\\t\\t\\t\\t   <hr>\\n\\t\\t\\t\\t\\t\\t\\t\\t\\t   <div class=\"row\">\\n\\t\\t\\t\\t\\t\\t\\t\\t\\t\\t  <div class=\"col-md-4\">\\n\\t\\t\\t\\t\\t\\t\\t\\t\\t\\t\\t <div class=\"list_image\">\\n\\t\\t\\t\\t\\t\\t\\t\\t\\t\\t\\t\\t<img src=\"https://mars.nasa.gov/system/news_items/list_view_images/8735_collage-320.jpg\">\\n\\t\\t\\t\\t\\t\\t\\t\\t\\t\\t\\t </div>\\n\\t\\t\\t\\t\\t\\t\\t\\t\\t\\t  </div>\\n\\t\\t\\t\\t\\t\\t\\t\\t\\t\\t  <div class=\"col-md-8\">\\n\\t\\t\\t\\t\\t\\t\\t\\t\\t\\t  \\t<div class=\"list_text\">\\n\\t\\t\\t\\t\\t\\t\\t\\t\\t\\t\\t <div class=\"list_date\">July 26, 2021</div>\\n\\t\\t\\t\\t\\t\\t\\t\\t\\t\\t\\t <div class=\"content_title\">Celebrate Mars Reconnaissance Orbiter\\'s Views From Above</div>\\n\\t\\t\\t\\t\\t\\t\\t\\t\\t\\t\\t <div class=\"article_teaser_body\">Marking its 15th anniversary since launch, one of the oldest spacecraft at the Red Planet has provided glimpses of dust devils, avalanches, and more.</div>\\n\\t\\t\\t\\t\\t\\t\\t\\t\\t\\t\\t </div>\\n\\t\\t\\t\\t\\t\\t\\t\\t\\t\\t  </div>\\n\\t\\t\\t\\t\\t\\t\\t\\t\\t   </div>\\n\\t\\t\\t\\t\\t\\t\\t\\t\\t</div>\\n\\t\\t\\t\\t\\t\\t\\n\\t\\t\\t\\t\\t\\t\\t\\t<div class=\"col-md-12\">\\n\\t\\t\\t\\t\\t\\t\\t\\t\\t   <hr>\\n\\t\\t\\t\\t\\t\\t\\t\\t\\t   <div class=\"row\">\\n\\t\\t\\t\\t\\t\\t\\t\\t\\t\\t  <div class=\"col-md-4\">\\n\\t\\t\\t\\t\\t\\t\\t\\t\\t\\t\\t <div class=\"list_image\">\\n\\t\\t\\t\\t\\t\\t\\t\\t\\t\\t\\t\\t<img src=\"https://mars.nasa.gov/system/news_items/list_view_images/8707_PIA23764-320.jpg\">\\n\\t\\t\\t\\t\\t\\t\\t\\t\\t\\t\\t </div>\\n\\t\\t\\t\\t\\t\\t\\t\\t\\t\\t  </div>\\n\\t\\t\\t\\t\\t\\t\\t\\t\\t\\t  <div class=\"col-md-8\">\\n\\t\\t\\t\\t\\t\\t\\t\\t\\t\\t  \\t<div class=\"list_text\">\\n\\t\\t\\t\\t\\t\\t\\t\\t\\t\\t\\t <div class=\"list_date\">July 25, 2021</div>\\n\\t\\t\\t\\t\\t\\t\\t\\t\\t\\t\\t <div class=\"content_title\">7 Things to Know About the Mars 2020 Perseverance Rover Mission</div>\\n\\t\\t\\t\\t\\t\\t\\t\\t\\t\\t\\t <div class=\"article_teaser_body\">NASA\\'s next rover to the Red Planet is slated to launch no earlier than July 30. These highlights will get you up to speed on the ambitious mission.</div>\\n\\t\\t\\t\\t\\t\\t\\t\\t\\t\\t\\t </div>\\n\\t\\t\\t\\t\\t\\t\\t\\t\\t\\t  </div>\\n\\t\\t\\t\\t\\t\\t\\t\\t\\t   </div>\\n\\t\\t\\t\\t\\t\\t\\t\\t\\t</div>\\n\\t\\t\\t\\t\\t\\t\\n\\t\\t\\t\\t\\t\\t\\t\\t<div class=\"col-md-12\">\\n\\t\\t\\t\\t\\t\\t\\t\\t\\t   <hr>\\n\\t\\t\\t\\t\\t\\t\\t\\t\\t   <div class=\"row\">\\n\\t\\t\\t\\t\\t\\t\\t\\t\\t\\t  <div class=\"col-md-4\">\\n\\t\\t\\t\\t\\t\\t\\t\\t\\t\\t\\t <div class=\"list_image\">\\n\\t\\t\\t\\t\\t\\t\\t\\t\\t\\t\\t\\t<img src=\"https://mars.nasa.gov/system/news_items/list_view_images/8505_PIA23275-th.jpg\">\\n\\t\\t\\t\\t\\t\\t\\t\\t\\t\\t\\t </div>\\n\\t\\t\\t\\t\\t\\t\\t\\t\\t\\t  </div>\\n\\t\\t\\t\\t\\t\\t\\t\\t\\t\\t  <div class=\"col-md-8\">\\n\\t\\t\\t\\t\\t\\t\\t\\t\\t\\t  \\t<div class=\"list_text\">\\n\\t\\t\\t\\t\\t\\t\\t\\t\\t\\t\\t <div class=\"list_date\">July 20, 2021</div>\\n\\t\\t\\t\\t\\t\\t\\t\\t\\t\\t\\t <div class=\"content_title\">Scientists Explore Outback as Testbed for Mars </div>\\n\\t\\t\\t\\t\\t\\t\\t\\t\\t\\t\\t <div class=\"article_teaser_body\">Australia provides a great place for NASA\\'s Mars 2020 and the ESA-Roscosmos ExoMars scientists to hone techniques in preparation for searching for signs ancient life on Mars.</div>\\n\\t\\t\\t\\t\\t\\t\\t\\t\\t\\t\\t </div>\\n\\t\\t\\t\\t\\t\\t\\t\\t\\t\\t  </div>\\n\\t\\t\\t\\t\\t\\t\\t\\t\\t   </div>\\n\\t\\t\\t\\t\\t\\t\\t\\t\\t</div>\\n\\t\\t\\t\\t\\t\\t</div>\\n         <hr class=\"container\" style=\"margin: 25px auto;width: 83%;\">\\n         <button id=\"more\" class=\"btn disable\" onclick=\"populateContent()\">More</button>\\n      </section>\\n      <section class=\"last_news\">\\n         <div class=\"container\">\\n            <div class=\"row\">\\n               <div class=\"col-12\">\\n                  <h2>You Might Also Like</h2>\\n               </div>\\n               <!--  <a class=\" prev\" href=\"#carouselExampleIndicators2\" role=\"button\" data-slide=\"prev\">\\n                  <i class=\"fas fa-angle-left\"></i>\\n                  </a>\\n                  <a class=\" next\" href=\"#carouselExampleIndicators2\" role=\"button\" data-slide=\"next\">\\n                  <i class=\"fas fa-angle-right\"></i>\\n                  </a> -->\\n               <div class=\"col-12\">\\n                  <div id=\"carouselExampleIndicators2\" class=\"carousel slide\" data-ride=\"carousel\">\\n                     <div class=\"carousel-inner\">\\n                        <div class=\"carousel-item active\">\\n                           <div class=\"row\">\\n                              <div class=\"col-md-4 mb-3\">\\n                                 <div class=\"card\">\\n                                    <img class=\"img-fluid\" alt=\"100%x280\" src=\"https://mars.nasa.gov/system/news_items/main_images/8716_PIA23499-16.jpg\">\\n                                    <div class=\"card-body\">\\n                                       <p class=\"card-text\">NASA to Broadcast Mars 2020 Perseverance Launch, Prelaunch Activities</p>\\n                                    </div>\\n                                 </div>\\n                              </div>\\n                              <div class=\"col-md-4 mb-3\">\\n                                 <div class=\"card\">\\n                                    <img class=\"img-fluid\" alt=\"100%x280\" src=\"https://mars.nasa.gov/system/news_items/main_images/8716_PIA23499-16.jpg\">\\n                                    <div class=\"card-body\">\\n                                       <p class=\"card-text\">The Launch Is Approaching for NASA\\'s Next Mars Rover, Perseverance</p>\\n                                    </div>\\n                                 </div>\\n                              </div>\\n                              <div class=\"col-md-4 mb-3\">\\n                                 <div class=\"card\">\\n                                    <img class=\"img-fluid\" alt=\"100%x280\" src=\"https://mars.nasa.gov/system/news_items/main_images/8692_PIA23920-web.jpg\">\\n                                    <div class=\"card-body\">\\n                                       <p class=\"card-text\">NASA to Hold Mars 2020 Perseverance Rover Launch Briefing</p>\\n                                    </div>\\n                                 </div>\\n                              </div>\\n                           </div>\\n                        </div>\\n                        <div class=\"carousel-item\">\\n                           <div class=\"row\">\\n                              <div class=\"col-md-4 mb-3\">\\n                                 <div class=\"card\">\\n                                    <img class=\"img-fluid\" alt=\"100%x280\" src=\"https://images.unsplash.com/photo-1532771098148-525cefe10c23?ixlib=rb-0.3.5&amp;q=80&amp;fm=jpg&amp;crop=entropy&amp;cs=tinysrgb&amp;w=1080&amp;fit=max&amp;ixid=eyJhcHBfaWQiOjMyMDc0fQ&amp;s=3f317c1f7a16116dec454fbc267dd8e4\">\\n                                    <div class=\"card-body\">\\n                                       <p class=\"card-text\">With supporting text below as a natural lead-in to additional content.</p>\\n                                    </div>\\n                                 </div>\\n                              </div>\\n                              <div class=\"col-md-4 mb-3\">\\n                                 <div class=\"card\">\\n                                    <img class=\"img-fluid\" alt=\"100%x280\" src=\"https://images.unsplash.com/photo-1532715088550-62f09305f765?ixlib=rb-0.3.5&amp;q=80&amp;fm=jpg&amp;crop=entropy&amp;cs=tinysrgb&amp;w=1080&amp;fit=max&amp;ixid=eyJhcHBfaWQiOjMyMDc0fQ&amp;s=ebadb044b374504ef8e81bdec4d0e840\">\\n                                    <div class=\"card-body\">\\n                                       <p class=\"card-text\">With supporting text below as a natural lead-in to additional content.</p>\\n                                    </div>\\n                                 </div>\\n                              </div>\\n                              <div class=\"col-md-4 mb-3\">\\n                                 <div class=\"card\">\\n                                    <img class=\"img-fluid\" alt=\"100%x280\" src=\"https://images.unsplash.com/photo-1506197603052-3cc9c3a201bd?ixlib=rb-0.3.5&amp;q=80&amp;fm=jpg&amp;crop=entropy&amp;cs=tinysrgb&amp;w=1080&amp;fit=max&amp;ixid=eyJhcHBfaWQiOjMyMDc0fQ&amp;s=0754ab085804ae8a3b562548e6b4aa2e\">\\n                                    <div class=\"card-body\">\\n                                       <p class=\"card-text\">With supporting text below as a natural lead-in to additional content.</p>\\n                                    </div>\\n                                 </div>\\n                              </div>\\n                           </div>\\n                        </div>\\n                        <div class=\"carousel-item\">\\n                           <div class=\"row\">\\n                              <div class=\"col-md-4 mb-3\">\\n                                 <div class=\"card\">\\n                                    <img class=\"img-fluid\" alt=\"100%x280\" src=\"https://images.unsplash.com/photo-1507525428034-b723cf961d3e?ixlib=rb-0.3.5&amp;q=80&amp;fm=jpg&amp;crop=entropy&amp;cs=tinysrgb&amp;w=1080&amp;fit=max&amp;ixid=eyJhcHBfaWQiOjMyMDc0fQ&amp;s=ee8417f0ea2a50d53a12665820b54e23\">\\n                                    <div class=\"card-body\">\\n                                       <p class=\"card-text\">With supporting text below as a natural lead-in to additional content.</p>\\n                                    </div>\\n                                 </div>\\n                              </div>\\n                              <div class=\"col-md-4 mb-3\">\\n                                 <div class=\"card\">\\n                                    <img class=\"img-fluid\" alt=\"100%x280\" src=\"https://images.unsplash.com/photo-1532777946373-b6783242f211?ixlib=rb-0.3.5&amp;q=80&amp;fm=jpg&amp;crop=entropy&amp;cs=tinysrgb&amp;w=1080&amp;fit=max&amp;ixid=eyJhcHBfaWQiOjMyMDc0fQ&amp;s=8ac55cf3a68785643998730839663129\">\\n                                    <div class=\"card-body\">\\n                                       <p class=\"card-text\">With supporting text below as a natural lead-in to additional content.</p>\\n                                    </div>\\n                                 </div>\\n                              </div>\\n                              <div class=\"col-md-4 mb-3\">\\n                                 <div class=\"card\">\\n                                    <img class=\"img-fluid\" alt=\"100%x280\" src=\"https://images.unsplash.com/photo-1532763303805-529d595877c5?ixlib=rb-0.3.5&amp;q=80&amp;fm=jpg&amp;crop=entropy&amp;cs=tinysrgb&amp;w=1080&amp;fit=max&amp;ixid=eyJhcHBfaWQiOjMyMDc0fQ&amp;s=5ee4fd5d19b40f93eadb21871757eda6\">\\n                                    <div class=\"card-body\">\\n                                       <p class=\"card-text\">With supporting text below as a natural lead-in to additional content.</p>\\n                                    </div>\\n                                 </div>\\n                              </div>\\n                           </div>\\n                        </div>\\n                     </div>\\n                  </div>\\n               </div>\\n            </div>\\n         </div>\\n      </section>\\n      <section class=\"footer\">\\n         <div class=\"container\">\\n            <div class=\"col-md-12\">\\n               <div class=\"row\">\\n                  <div class=\"col-md-3\">\\n                     <h5>The Red Planet</h5>\\n                     <ul>\\n                        <li>Dashboard</li>\\n                        <li>Science Goals</li>\\n                        <li>The Planet</li>\\n                     </ul>\\n                  </div>\\n                  <div class=\"col-md-3\">\\n                     <h5>The Program</h5>\\n                     <ul>\\n                        <li>Mission Statement</li>\\n                        <li>About the Program</li>\\n                        <li>Organization Why Mars?</li>\\n                     </ul>\\n                  </div>\\n                  <div class=\"col-md-3\">\\n                     <h5>Multimedia</h5>\\n                     <ul>\\n                        <li>Images</li>\\n                        <li>Videos</li>\\n                        <li>More Resources</li>\\n                     </ul>\\n                  </div>\\n                  <div class=\"col-md-3\">\\n                     <h5>Missions</h5>\\n                     <ul>\\n                        <li>Past</li>\\n                        <li>Present</li>\\n                        <li>Future</li>\\n                     </ul>\\n                  </div>\\n               </div>\\n            </div>\\n         </div>\\n      </section>\\n      <script type=\"text/javascript\" src=\"https://code.jquery.com/jquery-1.12.4.min.js\"></script>\\n      <script src=\"https://cdn.jsdelivr.net/npm/@popperjs/core@2.5.4/dist/umd/popper.min.js\"></script>\\n      <script src=\"https://cdn.jsdelivr.net/npm/bootstrap@5.0.0-beta1/dist/js/bootstrap.min.js\"></script>\\n      <script src=\"js/app.js\"></script>\\n   \\n</div></div></body></html>'"
      ]
     },
     "execution_count": 9,
     "metadata": {},
     "output_type": "execute_result"
    }
   ],
   "source": [
    "html = browser.html\n",
    "html"
   ]
  },
  {
   "cell_type": "code",
   "execution_count": 10,
   "metadata": {},
   "outputs": [],
   "source": [
    "# Convert the browser html to a soup object and then quit the browser\n",
    "html = browser.html\n",
    "news_soup = soup(html, 'html.parser')\n",
    "\n",
    "slide_elem = news_soup.select_one('div.list_text')\n"
   ]
  },
  {
   "cell_type": "code",
   "execution_count": 11,
   "metadata": {},
   "outputs": [
    {
     "data": {
      "text/plain": [
       "<div class=\"list_text\">\n",
       "<div class=\"list_date\">August 18, 2021</div>\n",
       "<div class=\"content_title\">Sensors on Mars 2020 Spacecraft Answer Long-Distance Call From Earth</div>\n",
       "<div class=\"article_teaser_body\">Instruments tailored to collect data during the descent of NASA's next rover through the Red Planet's atmosphere have been checked in flight.</div>\n",
       "</div>"
      ]
     },
     "execution_count": 11,
     "metadata": {},
     "output_type": "execute_result"
    }
   ],
   "source": [
    "slide_elem = news_soup.find('div', class_='list_text')\n",
    "slide_elem"
   ]
  },
  {
   "cell_type": "code",
   "execution_count": 12,
   "metadata": {},
   "outputs": [
    {
     "data": {
      "text/plain": [
       "<div class=\"content_title\">Sensors on Mars 2020 Spacecraft Answer Long-Distance Call From Earth</div>"
      ]
     },
     "execution_count": 12,
     "metadata": {},
     "output_type": "execute_result"
    }
   ],
   "source": [
    "slide_elem.find('div', class_='content_title')"
   ]
  },
  {
   "cell_type": "code",
   "execution_count": 13,
   "metadata": {},
   "outputs": [
    {
     "data": {
      "text/plain": [
       "'Sensors on Mars 2020 Spacecraft Answer Long-Distance Call From Earth'"
      ]
     },
     "execution_count": 13,
     "metadata": {},
     "output_type": "execute_result"
    }
   ],
   "source": [
    "# Use the parent element to find the first a tag and save it as `news_title`\n",
    "news_title = slide_elem.find('div', class_='content_title').get_text()\n",
    "news_title"
   ]
  },
  {
   "cell_type": "code",
   "execution_count": 14,
   "metadata": {},
   "outputs": [
    {
     "data": {
      "text/plain": [
       "\"Instruments tailored to collect data during the descent of NASA's next rover through the Red Planet's atmosphere have been checked in flight.\""
      ]
     },
     "execution_count": 14,
     "metadata": {},
     "output_type": "execute_result"
    }
   ],
   "source": [
    "# Use the parent element to find the paragraph text\n",
    "news_p = slide_elem.find('div', class_='article_teaser_body').get_text()\n",
    "news_p"
   ]
  },
  {
   "cell_type": "markdown",
   "metadata": {},
   "source": [
    "### JPL Space Images Featured Image"
   ]
  },
  {
   "cell_type": "code",
   "execution_count": 15,
   "metadata": {},
   "outputs": [],
   "source": [
    "# Visit URL\n",
    "url = 'https://spaceimages-mars.com'\n",
    "browser.visit(url)"
   ]
  },
  {
   "cell_type": "code",
   "execution_count": 16,
   "metadata": {},
   "outputs": [
    {
     "data": {
      "text/plain": [
       "<splinter.driver.webdriver.WebDriverElement at 0x193162a96d0>"
      ]
     },
     "execution_count": 16,
     "metadata": {},
     "output_type": "execute_result"
    }
   ],
   "source": [
    "full_image_elem = browser.find_by_tag('button')\n",
    "full_image_elem[0]"
   ]
  },
  {
   "cell_type": "code",
   "execution_count": 17,
   "metadata": {},
   "outputs": [],
   "source": [
    "# Find and click the full image button\n",
    "full_image_elem = browser.find_by_tag('button')[1]\n",
    "full_image_elem.click()"
   ]
  },
  {
   "cell_type": "code",
   "execution_count": 18,
   "metadata": {
    "scrolled": true
   },
   "outputs": [
    {
     "data": {
      "text/plain": [
       "<html class=\"fancybox-margin fancybox-lock\"><head>\n",
       "<meta charset=\"utf-8\"/>\n",
       "<meta content=\"width=device-width, initial-scale=1\" name=\"viewport\"/>\n",
       "<link href=\"https://maxcdn.bootstrapcdn.com/bootstrap/4.0.0/css/bootstrap.min.css\" rel=\"stylesheet\"/>\n",
       "<!-- <link rel=\"stylesheet\" type=\"text/css\" href=\"css/font.css\"> -->\n",
       "<link href=\"css/app.css\" rel=\"stylesheet\" type=\"text/css\"/>\n",
       "<link href=\"https://stackpath.bootstrapcdn.com/font-awesome/4.7.0/css/font-awesome.min.css\" rel=\"stylesheet\" type=\"text/css\"/>\n",
       "<title>Space Image</title>\n",
       "<style type=\"text/css\">.fancybox-margin{margin-right:17px;}</style></head>\n",
       "<body>\n",
       "<div class=\"header\">\n",
       "<nav class=\"navbar navbar-expand-lg\">\n",
       "<a class=\"navbar-brand\" href=\"#\"><img id=\"logo\" src=\"image/nasa.png\"/><span class=\"logo\">Jet Propulsion Laboratory</span>\n",
       "<span class=\"logo1\">California Institute of Technology</span></a>\n",
       "<button aria-controls=\"navbarNav\" aria-expanded=\"false\" aria-label=\"Toggle navigation\" class=\"navbar-toggler\" data-target=\"#navbarNav\" data-toggle=\"collapse\" type=\"button\">\n",
       "<span class=\"navbar-toggler-icon\"></span>\n",
       "</button>\n",
       "<div class=\"collapse navbar-collapse justify-content-end\" id=\"navbarNav\">\n",
       "<ul class=\"navbar-nav\">\n",
       "<li class=\"nav-item active\">\n",
       "<a class=\"nav-link\" href=\"#\"><i aria-hidden=\"true\" class=\"fa fa-bars\"></i>   MENU   <i aria-hidden=\"true\" class=\"fa fa-search\"></i></a>\n",
       "</li>\n",
       "</ul>\n",
       "</div>\n",
       "</nav>\n",
       "<div class=\"floating_text_area\">\n",
       "<h2 class=\"brand_title\">FEATURED IMAGE</h2>\n",
       "<h1 class=\"media_feature_title\">Dusty Space Cloud</h1>\n",
       "<br/>\n",
       "<a class=\"showimg fancybox-thumbs\" href=\"image/featured/mars2.jpg\" target=\"_blank\"> <button class=\"btn btn-outline-light\"> FULL IMAGE</button></a>\n",
       "</div>\n",
       "<img class=\"headerimage fade-in\" src=\"image/featured/mars2.jpg\"/></div>\n",
       "<div class=\"search sticky\">\n",
       "<div class=\"col-md-12\">\n",
       "<div class=\"row\">\n",
       "<div class=\"col-md-6\">\n",
       "<input name=\"Search\" placeholder=\"Search\" type=\"text\"/>\n",
       "</div>\n",
       "<div class=\"col-md-6\">\n",
       "<select aria-label=\"Default select example\" class=\"form-select\" id=\"options\">\n",
       "<option onchange=\"0\" selected=\"\">Mars</option>\n",
       "<!-- <option data-filter=\"sun\" class=\"button\">Mars</option> -->\n",
       "<option class=\"button\" data-filter=\"Sun\">Sun</option>\n",
       "<option class=\"button\" data-filter=\"earth\">Earth</option>\n",
       "<option class=\"button\" data-filter=\"ida\">Ida</option>\n",
       "<option class=\"button\" data-filter=\"jupiter\">Jupiter</option>\n",
       "<option class=\"button\" data-filter=\"venus\">Venus</option>\n",
       "</select>\n",
       "</div>\n",
       "</div>\n",
       "</div>\n",
       "</div>\n",
       "<div class=\"container mt-5\">\n",
       "<div class=\"col-md-12\">\n",
       "<div class=\"row\">\n",
       "<div class=\"col-md-6\">\n",
       "<h1>Images</h1>\n",
       "</div>\n",
       "<div class=\"col-md-6\" id=\"icon\">\n",
       "<div class=\"icon2\"></div>\n",
       "<div class=\"icon1\"></div>\n",
       "</div>\n",
       "</div>\n",
       "</div>\n",
       "<!-- first div -->\n",
       "<div class=\"div1\" id=\"filter\">\n",
       "<div class=\"thmbgroup\"><a class=\"fancybox-thumbs\" data-fancybox-group=\"thumb\" href=\"image/mars/Icaria Fossae7.jpg\"><div class=\"thmb\"><img alt=\"\" class=\"thumbimg\" src=\"image/mars/Icaria Fossae7.jpg\"/><p class=\"thumbcontent\">January 1, 2020<br/>Icaria Fossae7</p></div></a><a class=\"fancybox-thumbs\" data-fancybox-group=\"thumb\" href=\"image/mars/Proctor Crater Dunes 7.jpg\"><div class=\"thmb\"><img alt=\"\" class=\"thumbimg\" src=\"image/mars/Proctor Crater Dunes 7.jpg\"/><p class=\"thumbcontent\">December 31, 2020<br/>Proctor Crater Dunes</p></div></a><a class=\"fancybox-thumbs\" data-fancybox-group=\"thumb\" href=\"image/mars/Icaria Fossae7.jpg\"><div class=\"thmb\"><img alt=\"\" class=\"thumbimg\" src=\"image/mars/Icaria Fossae7.jpg\"/><p class=\"thumbcontent\">December 31, 2020<br/>Icaria Fossae</p></div></a><a class=\"fancybox-thumbs\" data-fancybox-group=\"thumb\" href=\"image/mars/Proctor Crater Dunes 7.jpg\"><div class=\"thmb\"><img alt=\"\" class=\"thumbimg\" src=\"image/mars/Proctor Crater Dunes 7.jpg\"/><p class=\"thumbcontent\">December 29, 2020<br/>Proctor Crater Dunes</p></div></a><a class=\"fancybox-thumbs\" data-fancybox-group=\"thumb\" href=\"image/mars/Proctor Crater Dunes 7.jpg\"><div class=\"thmb\"><img alt=\"\" class=\"thumbimg\" src=\"image/mars/Proctor Crater Dunes 7.jpg\"/><p class=\"thumbcontent\">December 28, 2020<br/>roctor Crater Dunes</p></div></a><a class=\"fancybox-thumbs\" data-fancybox-group=\"thumb\" href=\"image/mars/Icaria Fossae7.jpg\"><div class=\"thmb\"><img alt=\"\" class=\"thumbimg\" src=\"image/mars/Icaria Fossae7.jpg\"/><p class=\"thumbcontent\">December 22, 2020<br/>Icaria Fossae</p></div></a><a class=\"fancybox-thumbs\" data-fancybox-group=\"thumb\" href=\"image/mars/Icaria Fossae.jpg\"><div class=\"thmb\"><img alt=\"\" class=\"thumbimg\" src=\"image/mars/Icaria Fossae.jpg\"/><p class=\"thumbcontent\">December 21, 2020<br/>Icaria Fossae</p></div></a><a class=\"fancybox-thumbs\" data-fancybox-group=\"thumb\" href=\"image/mars/Ariadnes Colles4.jpg\"><div class=\"thmb\"><img alt=\"\" class=\"thumbimg\" src=\"image/mars/Ariadnes Colles4.jpg\"/><p class=\"thumbcontent\">December 18, 2020<br/>Ariadnes Colles</p></div></a><a class=\"fancybox-thumbs\" data-fancybox-group=\"thumb\" href=\"image/mars/Niger Vallis.jpg\"><div class=\"thmb\"><img alt=\"\" class=\"thumbimg\" src=\"image/mars/Niger Vallis.jpg\"/><p class=\"thumbcontent\">December 17, 2020<br/>Niger Vallis</p></div></a><a class=\"fancybox-thumbs\" data-fancybox-group=\"thumb\" href=\"image/mars/Proctor Crater Dunes.jpg\"><div class=\"thmb\"><img alt=\"\" class=\"thumbimg\" src=\"image/mars/Proctor Crater Dunes.jpg\"/><p class=\"thumbcontent\">December 16, 2020<br/>Proctor Crater Dunes</p></div></a><a class=\"fancybox-thumbs\" data-fancybox-group=\"thumb\" href=\"image/mars/Niger Vallis.jpg\"><div class=\"thmb\"><img alt=\"\" class=\"thumbimg\" src=\"image/mars/Niger Vallis.jpg\"/><p class=\"thumbcontent\">December 15, 2020<br/>Niger Vallis</p></div></a><a class=\"fancybox-thumbs\" data-fancybox-group=\"thumb\" href=\"image/mars/Daedalia Planum.jpg\"><div class=\"thmb\"><img alt=\"\" class=\"thumbimg\" src=\"image/mars/Daedalia Planum.jpg\"/><p class=\"thumbcontent\">December 11, 2020<br/>Daedalia Planum</p></div></a><a class=\"fancybox-thumbs\" data-fancybox-group=\"thumb\" href=\"image/mars/Sirenum Fossae.jpg\"><div class=\"thmb\"><img alt=\"\" class=\"thumbimg\" src=\"image/mars/Sirenum Fossae.jpg\"/><p class=\"thumbcontent\">November,11, 2020<br/>Sirenum Fossae</p></div></a><a class=\"fancybox-thumbs\" data-fancybox-group=\"thumb\" href=\"image/mars/Ariadnes Colles4.jpg\"><div class=\"thmb\"><img alt=\"\" class=\"thumbimg\" src=\"image/mars/Ariadnes Colles4.jpg\"/><p class=\"thumbcontent\">November,13, 2020<br/>Ariadnes Colles</p></div></a><a class=\"fancybox-thumbs\" data-fancybox-group=\"thumb\" href=\"image/mars/South Polar Cap.jpg\"><div class=\"thmb\"><img alt=\"\" class=\"thumbimg\" src=\"image/mars/South Polar Cap.jpg\"/><p class=\"thumbcontent\">November,14, 2020<br/>South Polar Cap</p></div></a><a class=\"fancybox-thumbs\" data-fancybox-group=\"thumb\" href=\"image/mars/Daedalia Planum.jpg\"><div class=\"thmb\"><img alt=\"\" class=\"thumbimg\" src=\"image/mars/Daedalia Planum.jpg\"/><p class=\"thumbcontent\">November,17, 2020<br/>Daedalia Planum</p></div></a><a class=\"fancybox-thumbs\" data-fancybox-group=\"thumb\" href=\"image/mars/Ariadnes Colles3.jpg\"><div class=\"thmb\"><img alt=\"\" class=\"thumbimg\" src=\"image/mars/Ariadnes Colles3.jpg\"/><p class=\"thumbcontent\">November,11, 2020<br/>Ariadnes Colles</p></div></a><a class=\"fancybox-thumbs\" data-fancybox-group=\"thumb\" href=\"image/mars/Atlantis Chaos.jpg\"><div class=\"thmb\"><img alt=\"\" class=\"thumbimg\" src=\"image/mars/Atlantis Chaos.jpg\"/><p class=\"thumbcontent\">November,09, 2020<br/>Atlantis Chaos</p></div></a><a class=\"fancybox-thumbs\" data-fancybox-group=\"thumb\" href=\"image/mars/Daedalia Planum.jpg\"><div class=\"thmb\"><img alt=\"\" class=\"thumbimg\" src=\"image/mars/Daedalia Planum.jpg\"/><p class=\"thumbcontent\">January 1, 2020<br/>Daedalia Planum</p></div></a><a class=\"fancybox-thumbs\" data-fancybox-group=\"thumb\" href=\"image/mars/Icaria Fossae.jpg\"><div class=\"thmb\"><img alt=\"\" class=\"thumbimg\" src=\"image/mars/Icaria Fossae.jpg\"/><p class=\"thumbcontent\">January 1, 2020<br/>Icaria Fossae</p></div></a><a class=\"fancybox-thumbs\" data-fancybox-group=\"thumb\" href=\"image/mars/Niger Vallis.jpg\"><div class=\"thmb\"><img alt=\"\" class=\"thumbimg\" src=\"image/mars/Niger Vallis.jpg\"/><p class=\"thumbcontent\">January 1, 2020<br/>Niger Vallis</p></div></a><a class=\"fancybox-thumbs\" data-fancybox-group=\"thumb\" href=\"image/mars/Proctor Crater Dunes.jpg\"><div class=\"thmb\"><img alt=\"\" class=\"thumbimg\" src=\"image/mars/Proctor Crater Dunes.jpg\"/><p class=\"thumbcontent\">January 1, 2020<br/>Proctor Crater Dunes</p></div></a><a class=\"fancybox-thumbs\" data-fancybox-group=\"thumb\" href=\"image/mars/Reull Vallis.jpg\"><div class=\"thmb\"><img alt=\"\" class=\"thumbimg\" src=\"image/mars/Reull Vallis.jpg\"/><p class=\"thumbcontent\">January 1, 2020<br/>Reull Vallis</p></div></a><a class=\"fancybox-thumbs\" data-fancybox-group=\"thumb\" href=\"image/mars/Ariadnes Colles3.jpg\"><div class=\"thmb\"><img alt=\"\" class=\"thumbimg\" src=\"image/mars/Ariadnes Colles3.jpg\"/><p class=\"thumbcontent\">January 1, 2020<br/>Ariadnes Colles</p></div></a><a class=\"fancybox-thumbs\" data-fancybox-group=\"thumb\" href=\"image/mars/Sirenum Fossae.jpg\"><div class=\"thmb\"><img alt=\"\" class=\"thumbimg\" src=\"image/mars/Sirenum Fossae.jpg\"/><p class=\"thumbcontent\">January 1, 2020<br/>Sirenum Fossae</p></div></a><a class=\"fancybox-thumbs\" data-fancybox-group=\"thumb\" href=\"image/mars/South Polar Cap.jpg\"><div class=\"thmb\"><img alt=\"\" class=\"thumbimg\" src=\"image/mars/South Polar Cap.jpg\"/><p class=\"thumbcontent\">January 1, 2020<br/>South Polar Cap</p></div></a><a class=\"fancybox-thumbs\" data-fancybox-group=\"thumb\" href=\"image/mars/Niger Vallis.jpg\"><div class=\"thmb\"><img alt=\"\" class=\"thumbimg\" src=\"image/mars/Niger Vallis.jpg\"/><p class=\"thumbcontent\">January 1, 2020<br/>Niger Vallis</p></div></a><a class=\"fancybox-thumbs\" data-fancybox-group=\"thumb\" href=\"image/mars/Daedalia Planum.jpg\"><div class=\"thmb\"><img alt=\"\" class=\"thumbimg\" src=\"image/mars/Daedalia Planum.jpg\"/><p class=\"thumbcontent\">January 1, 2020<br/>Daedalia Planum</p></div></a><a class=\"fancybox-thumbs\" data-fancybox-group=\"thumb\" href=\"image/mars/Icaria Fossae.jpg\"><div class=\"thmb\"><img alt=\"\" class=\"thumbimg\" src=\"image/mars/Icaria Fossae.jpg\"/><p class=\"thumbcontent\">January 1, 2020<br/>Icaria Fossae</p></div></a><a class=\"fancybox-thumbs\" data-fancybox-group=\"thumb\" href=\"image/mars/Ariadnes Colles4.jpg\"><div class=\"thmb\"><img alt=\"\" class=\"thumbimg\" src=\"image/mars/Ariadnes Colles4.jpg\"/><p class=\"thumbcontent\">January 1, 2020<br/>Ariadnes Colles</p></div></a><a class=\"fancybox-thumbs\" data-fancybox-group=\"thumb\" href=\"image/mars/South Polar Cap.jpg\"><div class=\"thmb\"><img alt=\"\" class=\"thumbimg\" src=\"image/mars/South Polar Cap.jpg\"/><p class=\"thumbcontent\">January 1, 2020<br/>South Polar Cap</p></div></a><a class=\"fancybox-thumbs\" data-fancybox-group=\"thumb\" href=\"image/mars/Daedalia Planum.jpg\"><div class=\"thmb\"><img alt=\"\" class=\"thumbimg\" src=\"image/mars/Daedalia Planum.jpg\"/><p class=\"thumbcontent\">January 1, 2020<br/>Daedalia Planum</p></div></a></div>\n",
       "</div>\n",
       "<!-- first div ends -->\n",
       "<!-- second div starts -->\n",
       "<div class=\"col-md-12 grid-margin\" id=\"column\">\n",
       "<ul class=\"post-list\">\n",
       "<li class=\"post-heading\"></li>\n",
       "</ul>\n",
       "</div>\n",
       "<!-- second div starts -->\n",
       "</div>\n",
       "<div class=\"first imgcontainer mt-3\">\n",
       "<div class=\"col-md-12\">\n",
       "<div class=\"row\">\n",
       "<div class=\"col-md-3\">\n",
       "<img id=\"pic\" src=\"\"/>\n",
       "</div>\n",
       "</div>\n",
       "</div>\n",
       "</div>\n",
       "<!-- end -->\n",
       "<div class=\"module_gallery container\">\n",
       "<div class=\"col-md-12\">\n",
       "<div class=\"row\">\n",
       "<div class=\"col-md-6\">\n",
       "<div class=\"card\">\n",
       "<img alt=\"Card image cap\" class=\"card-img-top\" src=\"https://www.jpl.nasa.gov/assets/images/content/tmp/images/jpl_photojournal(3x1).jpg\"/>\n",
       "<div class=\"card-body\">\n",
       "<h5 class=\"card-title\">JPL Photojournal</h5>\n",
       "<p class=\"card-text\">Access to the full library of publicly released images from various Solar System exploration programs</p>\n",
       "</div>\n",
       "</div>\n",
       "</div>\n",
       "<div class=\"col-md-6\">\n",
       "<div class=\"card\">\n",
       "<img alt=\"Card image cap\" class=\"card-img-top\" src=\"https://www.jpl.nasa.gov/assets/images/content/tmp/images/nasa_images(3x1).jpg\"/>\n",
       "<div class=\"card-body\">\n",
       "<h5 class=\"card-title\">Great images in NASA</h5>\n",
       "<p class=\"card-text\">A selection of the best-known images from a half-century of exploration and discovery</p>\n",
       "</div>\n",
       "</div>\n",
       "</div>\n",
       "</div>\n",
       "</div>\n",
       "</div>\n",
       "<div class=\"multi_teaser\">\n",
       "<div class=\"container\">\n",
       "<h1>You Might Also Like</h1>\n",
       "<div class=\"col-md-12 mt-5\">\n",
       "<div class=\"row\">\n",
       "<div class=\"col-md-4\">\n",
       "<div class=\"card\">\n",
       "<img alt=\"Card image cap\" class=\"card-img-top\" src=\"https://imagecache.jpl.nasa.gov/images/640x350/C1-PIA24304---CatScanMars-16-640x350.gif\"/>\n",
       "<div class=\"card-body\">\n",
       "<p class=\"card-text\">Access to the full library of publicly released images from various Solar System exploration programs</p>\n",
       "</div>\n",
       "</div>\n",
       "</div>\n",
       "<div class=\"col-md-4\">\n",
       "<div class=\"card\">\n",
       "<img alt=\"Card image cap\" class=\"card-img-top\" src=\"https://imagecache.jpl.nasa.gov/images/640x350/PIA23491-16-640x350.jpg\"/>\n",
       "<div class=\"card-body\">\n",
       "<p class=\"card-text\">Access to the full library of publicly released images from various Solar System exploration programs</p>\n",
       "</div>\n",
       "</div>\n",
       "</div>\n",
       "<div class=\"col-md-4\">\n",
       "<div class=\"card\">\n",
       "<img alt=\"Card image cap\" class=\"card-img-top\" src=\"https://imagecache.jpl.nasa.gov/images/640x350/C1-PIA23180-16-640x350.gif\"/>\n",
       "<div class=\"card-body\">\n",
       "<p class=\"card-text\">Access to the full library of publicly released images from various Solar System exploration programs</p>\n",
       "</div>\n",
       "</div>\n",
       "</div>\n",
       "</div>\n",
       "</div>\n",
       "</div>\n",
       "</div>\n",
       "<div class=\"footer\">\n",
       "<div class=\"container\">\n",
       "<div class=\"col-md-12\">\n",
       "<div class=\"row\">\n",
       "<div class=\"col-md-3\">\n",
       "<h4>About JPL</h4>\n",
       "<ul>\n",
       "<li>About JPL</li>\n",
       "<li>JPL Vision</li>\n",
       "<li>Executive Council</li>\n",
       "<li>History</li>\n",
       "</ul>\n",
       "</div>\n",
       "<div class=\"col-md-3\">\n",
       "<h4>Education</h4>\n",
       "<ul>\n",
       "<li>Intern</li>\n",
       "<li>Learn</li>\n",
       "<li>Teach</li>\n",
       "<li>News</li>\n",
       "</ul>\n",
       "</div>\n",
       "<div class=\"col-md-3\">\n",
       "<h4>Our Sites</h4>\n",
       "<ul>\n",
       "<li>Asteroid Watch</li>\n",
       "<li>Basics of Spaceflight</li>\n",
       "<li>Cassini - Mission to Saturn</li>\n",
       "<li>Climate Kids</li>\n",
       "</ul>\n",
       "</div>\n",
       "<div class=\"col-md-3\">\n",
       "<h4>Galleries</h4>\n",
       "<ul>\n",
       "<li>JPL Space Images</li>\n",
       "<li>Videos</li>\n",
       "<li>Infographics</li>\n",
       "<li>Photojournal</li>\n",
       "</ul>\n",
       "</div>\n",
       "</div>\n",
       "</div>\n",
       "</div>\n",
       "</div>\n",
       "<!--<div class=\"showFullimage\">\n",
       "\t<button class=\"btn btn-outline-light hideimage\" onclick=hideimage()> Close</button>\n",
       "\t<img class=\"fullimage fade-in\" src=\"\">\n",
       "</div>-->\n",
       "<!-- <script src=\"js/jquery.easeScroll.js\"></script>  -->\n",
       "<script src=\"js/jquery-3.5.1.min.js\"></script>\n",
       "<!-- <script src=\"js/jquery-3.2.1.slim.min.js\"></script> -->\n",
       "<script src=\"js/demo.js\"></script>\n",
       "<!-- <script src=\"js/app.js\"></script> -->\n",
       "<script src=\"https://cdnjs.cloudflare.com/ajax/libs/popper.js/1.12.9/umd/popper.min.js\"></script>\n",
       "<script src=\"https://maxcdn.bootstrapcdn.com/bootstrap/4.0.0/js/bootstrap.min.js\"></script>\n",
       "<script src=\"js/fancyBox/jquery.fancybox.pack.js?v=2.1.5\" type=\"text/javascript\"></script>\n",
       "<link href=\"js/fancyBox/jquery.fancybox.css?v=2.1.5\" media=\"screen\" rel=\"stylesheet\" type=\"text/css\"/>\n",
       "<link href=\"js/fancyBox/helpers/jquery.fancybox-thumbs.css?v=1.0.7\" rel=\"stylesheet\" type=\"text/css\"/>\n",
       "<script src=\"js/fancyBox/helpers/jquery.fancybox-thumbs.js?v=1.0.7\" type=\"text/javascript\"></script>\n",
       "<div class=\"fancybox-overlay fancybox-overlay-fixed\" style=\"width: auto; height: auto; display: block;\"><div class=\"fancybox-wrap fancybox-desktop fancybox-type-image fancybox-opened\" style=\"width: 670px; height: auto; position: absolute; top: 74px; left: 174px; opacity: 1; overflow: visible;\" tabindex=\"-1\"><div class=\"fancybox-skin\" style=\"padding: 15px; width: auto; height: auto;\"><div class=\"fancybox-outer\"><div class=\"fancybox-inner\" style=\"overflow: visible; width: 640px; height: 350px;\"><img alt=\"\" class=\"fancybox-image\" src=\"image/featured/mars2.jpg\"/></div></div><a class=\"fancybox-item fancybox-close\" href=\"javascript:;\" title=\"Close\"></a></div></div></div></body></html>"
      ]
     },
     "execution_count": 18,
     "metadata": {},
     "output_type": "execute_result"
    }
   ],
   "source": [
    "# Parse the resulting html with soup\n",
    "html = browser.html\n",
    "img_soup = soup(html, 'html.parser')\n",
    "img_soup"
   ]
  },
  {
   "cell_type": "code",
   "execution_count": 19,
   "metadata": {},
   "outputs": [
    {
     "data": {
      "text/plain": [
       "'image/featured/mars2.jpg'"
      ]
     },
     "execution_count": 19,
     "metadata": {},
     "output_type": "execute_result"
    }
   ],
   "source": [
    "# find the relative image url\n",
    "img_url_rel = img_soup.find('img', class_='fancybox-image').get('src')\n",
    "img_url_rel"
   ]
  },
  {
   "cell_type": "code",
   "execution_count": 20,
   "metadata": {},
   "outputs": [
    {
     "data": {
      "text/plain": [
       "'https://spaceimages-mars.com/image/featured/mars2.jpg'"
      ]
     },
     "execution_count": 20,
     "metadata": {},
     "output_type": "execute_result"
    }
   ],
   "source": [
    "# Use the base url to create an absolute url\n",
    "img_url = f'https://spaceimages-mars.com/{img_url_rel}'\n",
    "img_url"
   ]
  },
  {
   "cell_type": "markdown",
   "metadata": {},
   "source": [
    "### Mars Facts"
   ]
  },
  {
   "cell_type": "code",
   "execution_count": 22,
   "metadata": {},
   "outputs": [
    {
     "data": {
      "text/html": [
       "<div>\n",
       "<style scoped>\n",
       "    .dataframe tbody tr th:only-of-type {\n",
       "        vertical-align: middle;\n",
       "    }\n",
       "\n",
       "    .dataframe tbody tr th {\n",
       "        vertical-align: top;\n",
       "    }\n",
       "\n",
       "    .dataframe thead th {\n",
       "        text-align: right;\n",
       "    }\n",
       "</style>\n",
       "<table border=\"1\" class=\"dataframe\">\n",
       "  <thead>\n",
       "    <tr style=\"text-align: right;\">\n",
       "      <th></th>\n",
       "      <th>0</th>\n",
       "      <th>1</th>\n",
       "      <th>2</th>\n",
       "    </tr>\n",
       "  </thead>\n",
       "  <tbody>\n",
       "    <tr>\n",
       "      <th>0</th>\n",
       "      <td>Mars - Earth Comparison</td>\n",
       "      <td>Mars</td>\n",
       "      <td>Earth</td>\n",
       "    </tr>\n",
       "    <tr>\n",
       "      <th>1</th>\n",
       "      <td>Diameter:</td>\n",
       "      <td>6,779 km</td>\n",
       "      <td>12,742 km</td>\n",
       "    </tr>\n",
       "    <tr>\n",
       "      <th>2</th>\n",
       "      <td>Mass:</td>\n",
       "      <td>6.39 × 10^23 kg</td>\n",
       "      <td>5.97 × 10^24 kg</td>\n",
       "    </tr>\n",
       "    <tr>\n",
       "      <th>3</th>\n",
       "      <td>Moons:</td>\n",
       "      <td>2</td>\n",
       "      <td>1</td>\n",
       "    </tr>\n",
       "    <tr>\n",
       "      <th>4</th>\n",
       "      <td>Distance from Sun:</td>\n",
       "      <td>227,943,824 km</td>\n",
       "      <td>149,598,262 km</td>\n",
       "    </tr>\n",
       "  </tbody>\n",
       "</table>\n",
       "</div>"
      ],
      "text/plain": [
       "                         0                1                2\n",
       "0  Mars - Earth Comparison             Mars            Earth\n",
       "1                Diameter:         6,779 km        12,742 km\n",
       "2                    Mass:  6.39 × 10^23 kg  5.97 × 10^24 kg\n",
       "3                   Moons:                2                1\n",
       "4       Distance from Sun:   227,943,824 km   149,598,262 km"
      ]
     },
     "execution_count": 22,
     "metadata": {},
     "output_type": "execute_result"
    }
   ],
   "source": [
    "df = pd.read_html('https://galaxyfacts-mars.com')[0]\n",
    "df.head()"
   ]
  },
  {
   "cell_type": "code",
   "execution_count": 23,
   "metadata": {},
   "outputs": [
    {
     "data": {
      "text/html": [
       "<div>\n",
       "<style scoped>\n",
       "    .dataframe tbody tr th:only-of-type {\n",
       "        vertical-align: middle;\n",
       "    }\n",
       "\n",
       "    .dataframe tbody tr th {\n",
       "        vertical-align: top;\n",
       "    }\n",
       "\n",
       "    .dataframe thead th {\n",
       "        text-align: right;\n",
       "    }\n",
       "</style>\n",
       "<table border=\"1\" class=\"dataframe\">\n",
       "  <thead>\n",
       "    <tr style=\"text-align: right;\">\n",
       "      <th></th>\n",
       "      <th>Mars</th>\n",
       "      <th>Earth</th>\n",
       "    </tr>\n",
       "    <tr>\n",
       "      <th>Description</th>\n",
       "      <th></th>\n",
       "      <th></th>\n",
       "    </tr>\n",
       "  </thead>\n",
       "  <tbody>\n",
       "    <tr>\n",
       "      <th>Mars - Earth Comparison</th>\n",
       "      <td>Mars</td>\n",
       "      <td>Earth</td>\n",
       "    </tr>\n",
       "    <tr>\n",
       "      <th>Diameter:</th>\n",
       "      <td>6,779 km</td>\n",
       "      <td>12,742 km</td>\n",
       "    </tr>\n",
       "    <tr>\n",
       "      <th>Mass:</th>\n",
       "      <td>6.39 × 10^23 kg</td>\n",
       "      <td>5.97 × 10^24 kg</td>\n",
       "    </tr>\n",
       "    <tr>\n",
       "      <th>Moons:</th>\n",
       "      <td>2</td>\n",
       "      <td>1</td>\n",
       "    </tr>\n",
       "    <tr>\n",
       "      <th>Distance from Sun:</th>\n",
       "      <td>227,943,824 km</td>\n",
       "      <td>149,598,262 km</td>\n",
       "    </tr>\n",
       "    <tr>\n",
       "      <th>Length of Year:</th>\n",
       "      <td>687 Earth days</td>\n",
       "      <td>365.24 days</td>\n",
       "    </tr>\n",
       "    <tr>\n",
       "      <th>Temperature:</th>\n",
       "      <td>-87 to -5 °C</td>\n",
       "      <td>-88 to 58°C</td>\n",
       "    </tr>\n",
       "  </tbody>\n",
       "</table>\n",
       "</div>"
      ],
      "text/plain": [
       "                                    Mars            Earth\n",
       "Description                                              \n",
       "Mars - Earth Comparison             Mars            Earth\n",
       "Diameter:                       6,779 km        12,742 km\n",
       "Mass:                    6.39 × 10^23 kg  5.97 × 10^24 kg\n",
       "Moons:                                 2                1\n",
       "Distance from Sun:        227,943,824 km   149,598,262 km\n",
       "Length of Year:           687 Earth days      365.24 days\n",
       "Temperature:                -87 to -5 °C      -88 to 58°C"
      ]
     },
     "execution_count": 23,
     "metadata": {},
     "output_type": "execute_result"
    }
   ],
   "source": [
    "df.columns=['Description', 'Mars', 'Earth']\n",
    "df.set_index('Description', inplace=True)\n",
    "df"
   ]
  },
  {
   "cell_type": "code",
   "execution_count": 24,
   "metadata": {},
   "outputs": [
    {
     "data": {
      "text/plain": [
       "'<table border=\"1\" class=\"dataframe\">\\n  <thead>\\n    <tr style=\"text-align: right;\">\\n      <th></th>\\n      <th>Mars</th>\\n      <th>Earth</th>\\n    </tr>\\n    <tr>\\n      <th>Description</th>\\n      <th></th>\\n      <th></th>\\n    </tr>\\n  </thead>\\n  <tbody>\\n    <tr>\\n      <th>Mars - Earth Comparison</th>\\n      <td>Mars</td>\\n      <td>Earth</td>\\n    </tr>\\n    <tr>\\n      <th>Diameter:</th>\\n      <td>6,779 km</td>\\n      <td>12,742 km</td>\\n    </tr>\\n    <tr>\\n      <th>Mass:</th>\\n      <td>6.39 × 10^23 kg</td>\\n      <td>5.97 × 10^24 kg</td>\\n    </tr>\\n    <tr>\\n      <th>Moons:</th>\\n      <td>2</td>\\n      <td>1</td>\\n    </tr>\\n    <tr>\\n      <th>Distance from Sun:</th>\\n      <td>227,943,824 km</td>\\n      <td>149,598,262 km</td>\\n    </tr>\\n    <tr>\\n      <th>Length of Year:</th>\\n      <td>687 Earth days</td>\\n      <td>365.24 days</td>\\n    </tr>\\n    <tr>\\n      <th>Temperature:</th>\\n      <td>-87 to -5 °C</td>\\n      <td>-88 to 58°C</td>\\n    </tr>\\n  </tbody>\\n</table>'"
      ]
     },
     "execution_count": 24,
     "metadata": {},
     "output_type": "execute_result"
    }
   ],
   "source": [
    "df.to_html()"
   ]
  },
  {
   "cell_type": "markdown",
   "metadata": {},
   "source": [
    "# D1: Scrape High-Resolution Mars’ Hemisphere Images and Titles"
   ]
  },
  {
   "cell_type": "markdown",
   "metadata": {},
   "source": [
    "### Hemispheres"
   ]
  },
  {
   "cell_type": "code",
   "execution_count": null,
   "metadata": {},
   "outputs": [],
   "source": [
    "# 1. Use browser to visit the URL \n",
    "url = 'https://marshemispheres.com/'\n",
    "\n",
    "browser.visit(url)"
   ]
  },
  {
   "cell_type": "code",
   "execution_count": null,
   "metadata": {},
   "outputs": [],
   "source": [
    "# 2. Create a list to hold the images and titles.\n",
    "hemisphere_image_urls = []\n",
    "\n",
    "# 3. Write code to retrieve the image urls and titles for each hemisphere.\n"
   ]
  },
  {
   "cell_type": "code",
   "execution_count": null,
   "metadata": {},
   "outputs": [],
   "source": [
    "# 4. Print the list that holds the dictionary of each image url and title.\n",
    "hemisphere_image_urls"
   ]
  },
  {
   "cell_type": "code",
   "execution_count": null,
   "metadata": {},
   "outputs": [],
   "source": [
    "# 5. Quit the browser\n",
    "browser.quit()"
   ]
  },
  {
   "cell_type": "code",
   "execution_count": null,
   "metadata": {},
   "outputs": [],
   "source": []
  }
 ],
 "metadata": {
  "kernelspec": {
   "display_name": "PythonData",
   "language": "python",
   "name": "pythondata"
  },
  "language_info": {
   "codemirror_mode": {
    "name": "ipython",
    "version": 3
   },
   "file_extension": ".py",
   "mimetype": "text/x-python",
   "name": "python",
   "nbconvert_exporter": "python",
   "pygments_lexer": "ipython3",
   "version": "3.8.8"
  },
  "nteract": {
   "version": "0.15.0"
  }
 },
 "nbformat": 4,
 "nbformat_minor": 4
}
