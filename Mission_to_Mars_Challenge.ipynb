{
 "cells": [
  {
   "cell_type": "code",
   "execution_count": 7,
   "source": [
    "# Import Splinter, BeautifulSoup, and Pandas\r\n",
    "from splinter import Browser\r\n",
    "from bs4 import BeautifulSoup as soup\r\n",
    "import pandas as pd\r\n",
    "from webdriver_manager.chrome import ChromeDriverManager"
   ],
   "outputs": [],
   "metadata": {}
  },
  {
   "cell_type": "code",
   "execution_count": 8,
   "source": [
    "# Set the executable path and initialize Splinter\r\n",
    "executable_path = {'executable_path': ChromeDriverManager().install()}\r\n",
    "browser = Browser('chrome', **executable_path, headless=False)"
   ],
   "outputs": [
    {
     "output_type": "stream",
     "name": "stderr",
     "text": [
      "\n",
      "\n",
      "====== WebDriver manager ======\n",
      "Current google-chrome version is 92.0.4515\n",
      "Get LATEST driver version for 92.0.4515\n",
      "Driver [C:\\Users\\morga\\.wdm\\drivers\\chromedriver\\win32\\92.0.4515.107\\chromedriver.exe] found in cache\n"
     ]
    }
   ],
   "metadata": {}
  },
  {
   "cell_type": "markdown",
   "source": [
    "### Visit the NASA Mars News Site"
   ],
   "metadata": {}
  },
  {
   "cell_type": "code",
   "execution_count": 9,
   "source": [
    "# Visit the mars nasa news site\r\n",
    "url = 'https://redplanetscience.com/'\r\n",
    "browser.visit(url)\r\n",
    "\r\n",
    "# Optional delay for loading the page\r\n",
    "browser.is_element_present_by_css('div.list_text', wait_time=1)"
   ],
   "outputs": [
    {
     "output_type": "execute_result",
     "data": {
      "text/plain": [
       "True"
      ]
     },
     "metadata": {},
     "execution_count": 9
    }
   ],
   "metadata": {}
  },
  {
   "cell_type": "code",
   "execution_count": 10,
   "source": [
    "html = browser.html\r\n",
    "html"
   ],
   "outputs": [
    {
     "output_type": "execute_result",
     "data": {
      "text/plain": [
       "'<html><head>\\n      <meta charset=\"utf-8\">\\n      <meta name=\"viewport\" content=\"width=device-width, initial-scale=1\">\\n      <link href=\"https://cdn.jsdelivr.net/npm/bootstrap@5.0.0-beta1/dist/css/bootstrap.min.css\" rel=\"stylesheet\" integrity=\"sha384-giJF6kkoqNQ00vy+HMDP7azOuL0xtbfIcaT9wjKHr8RbDVddVHyTfAAsrekwKmP1\" crossorigin=\"anonymous\">\\n      <link rel=\"stylesheet\" type=\"text/css\" href=\"css/font.css\">\\n      <link rel=\"stylesheet\" type=\"text/css\" href=\"css/app.css\">\\n      <link rel=\"stylesheet\" href=\"https://pro.fontawesome.com/releases/v5.10.0/css/all.css\" integrity=\"sha384-AYmEC3Yw5cVb3ZcuHtOA93w35dYTsvhLPVnYs9eStHfGJvOvKxVfELGroGkvsg+p\" crossorigin=\"anonymous\">\\n      <title>News - Mars Exploration Program</title>\\n   </head>\\n   <body>\\n      <div class=\"col-md-12\">\\n      <div class=\"row\">\\n      <nav class=\"navbar navbar-expand-lg navbar-light fixed-top\">\\n         <div class=\"container-fluid\">\\n            <a class=\"navbar-brand\" href=\"#\"> \\n            <img src=\"image/nasa.png\" width=\"80\"><span class=\"logo\">MARS Planet Science</span>\\n            <span class=\"logo1\">Exploration Program</span>\\n            </a>\\n            <button class=\"navbar-toggler\" type=\"button\" data-bs-toggle=\"collapse\" data-bs-target=\"#navbarNav\" aria-controls=\"navbarNav\" aria-expanded=\"false\" aria-label=\"Toggle navigation\">\\n            <span class=\"navbar-toggler-icon\"></span>\\n            </button>\\n            <div class=\"collapse navbar-collapse justify-content-end\" id=\"navbarNav\">\\n               <ul class=\"navbar-nav\">\\n                  <li class=\"nav-item\">\\n                     <a class=\"nav-link active\" aria-current=\"page\" href=\"#\">The Red Planet</a>\\n                  </li>\\n                  <li class=\"nav-item\">\\n                     <a class=\"nav-link\" href=\"#\">The Program</a>\\n                  </li>\\n                  <li class=\"nav-item\">\\n                     <a class=\"nav-link\" href=\"#\">News &amp; Events</a>\\n                  </li>\\n                  <li class=\"nav-item\">\\n                     <a class=\"nav-link\" href=\"#\">Multimedia</a>\\n                  </li>\\n                  <li class=\"nav-item\">\\n                     <a class=\"nav-link\" href=\"#\">Missions</a>\\n                  </li>\\n                  <li class=\"nav-item\">\\n                     <a class=\"nav-link\" href=\"#\">More</a>\\n                  </li>\\n                  <li class=\"nav-item nav_search\">\\n                     <a class=\"nav-link \" href=\"#\"></a>\\n                  </li>\\n               </ul>\\n            </div>\\n         </div>\\n      </nav>\\n      <section class=\"search\">\\n         <div class=\"container\">\\n            <h1>News</h1>\\n            <div class=\"col-md-12 filter\">\\n               <div class=\"row\">\\n                  <div class=\"col-md-3 search_binder\">\\n                     <input type=\"text\" name=\"search\" class=\"search_field\">\\n                     <input type=\"text\" name=\"search\" class=\"search_submit\">\\n                  </div>\\n                  <div class=\"col-md-3\">\\n                     <select id=\"year\" class=\"form-select \" aria-label=\"Default select example\">\\n                        <option selected=\"\">Latest</option>\\n\\n                     <option>2020</option><option>2019</option></select>\\n                  </div>\\n                  <div class=\"col-md-3\">\\n                     <select id=\"cat\" class=\"form-select \" aria-label=\"Default select example\">\\n                        <option selected=\"\">All Categories</option>\\n\\n                     <option>Press Releases</option><option>Feature Stories</option><option>Status Reports</option></select>\\n                  </div>\\n                  <div class=\"col-md-3\">\\t\\t\\t\\t\\t\\t\\n                  </div>\\n               </div>\\n            </div>\\n         </div>\\n      </section>\\n      <section class=\"image_and_description_container\">\\n         <div id=\"news\" class=\"container \">\\n\\n         \\n\\t\\t\\t\\t\\t\\t\\t\\t<div class=\"col-md-12\">\\n\\t\\t\\t\\t\\t\\t\\t\\t\\t   <hr>\\n\\t\\t\\t\\t\\t\\t\\t\\t\\t   <div class=\"row\">\\n\\t\\t\\t\\t\\t\\t\\t\\t\\t\\t  <div class=\"col-md-4\">\\n\\t\\t\\t\\t\\t\\t\\t\\t\\t\\t\\t <div class=\"list_image\">\\n\\t\\t\\t\\t\\t\\t\\t\\t\\t\\t\\t\\t<img src=\"https://mars.nasa.gov/system/news_items/list_view_images/8645_PIA23824-RoverWithHelicopter-32x24.jpg\">\\n\\t\\t\\t\\t\\t\\t\\t\\t\\t\\t\\t </div>\\n\\t\\t\\t\\t\\t\\t\\t\\t\\t\\t  </div>\\n\\t\\t\\t\\t\\t\\t\\t\\t\\t\\t  <div class=\"col-md-8\">\\n\\t\\t\\t\\t\\t\\t\\t\\t\\t\\t  \\t<div class=\"list_text\">\\n\\t\\t\\t\\t\\t\\t\\t\\t\\t\\t\\t <div class=\"list_date\">August 20, 2021</div>\\n\\t\\t\\t\\t\\t\\t\\t\\t\\t\\t\\t <div class=\"content_title\">Mars Helicopter Attached to NASA\\'s Perseverance Rover</div>\\n\\t\\t\\t\\t\\t\\t\\t\\t\\t\\t\\t <div class=\"article_teaser_body\">The team also fueled the rover\\'s sky crane to get ready for this summer\\'s history-making launch.</div>\\n\\t\\t\\t\\t\\t\\t\\t\\t\\t\\t\\t </div>\\n\\t\\t\\t\\t\\t\\t\\t\\t\\t\\t  </div>\\n\\t\\t\\t\\t\\t\\t\\t\\t\\t   </div>\\n\\t\\t\\t\\t\\t\\t\\t\\t\\t</div>\\n\\t\\t\\t\\t\\t\\t\\n\\t\\t\\t\\t\\t\\t\\t\\t<div class=\"col-md-12\">\\n\\t\\t\\t\\t\\t\\t\\t\\t\\t   <hr>\\n\\t\\t\\t\\t\\t\\t\\t\\t\\t   <div class=\"row\">\\n\\t\\t\\t\\t\\t\\t\\t\\t\\t\\t  <div class=\"col-md-4\">\\n\\t\\t\\t\\t\\t\\t\\t\\t\\t\\t\\t <div class=\"list_image\">\\n\\t\\t\\t\\t\\t\\t\\t\\t\\t\\t\\t\\t<img src=\"https://mars.nasa.gov/system/news_items/list_view_images/8785_PIA24231-320.jpg\">\\n\\t\\t\\t\\t\\t\\t\\t\\t\\t\\t\\t </div>\\n\\t\\t\\t\\t\\t\\t\\t\\t\\t\\t  </div>\\n\\t\\t\\t\\t\\t\\t\\t\\t\\t\\t  <div class=\"col-md-8\">\\n\\t\\t\\t\\t\\t\\t\\t\\t\\t\\t  \\t<div class=\"list_text\">\\n\\t\\t\\t\\t\\t\\t\\t\\t\\t\\t\\t <div class=\"list_date\">August 19, 2021</div>\\n\\t\\t\\t\\t\\t\\t\\t\\t\\t\\t\\t <div class=\"content_title\">NASA\\'s Perseverance Rover Is Midway to Mars </div>\\n\\t\\t\\t\\t\\t\\t\\t\\t\\t\\t\\t <div class=\"article_teaser_body\">Sometimes half measures can be a good thing – especially on a journey this long. The agency\\'s latest rover only has about 146 million miles left to reach its destination.</div>\\n\\t\\t\\t\\t\\t\\t\\t\\t\\t\\t\\t </div>\\n\\t\\t\\t\\t\\t\\t\\t\\t\\t\\t  </div>\\n\\t\\t\\t\\t\\t\\t\\t\\t\\t   </div>\\n\\t\\t\\t\\t\\t\\t\\t\\t\\t</div>\\n\\t\\t\\t\\t\\t\\t\\n\\t\\t\\t\\t\\t\\t\\t\\t<div class=\"col-md-12\">\\n\\t\\t\\t\\t\\t\\t\\t\\t\\t   <hr>\\n\\t\\t\\t\\t\\t\\t\\t\\t\\t   <div class=\"row\">\\n\\t\\t\\t\\t\\t\\t\\t\\t\\t\\t  <div class=\"col-md-4\">\\n\\t\\t\\t\\t\\t\\t\\t\\t\\t\\t\\t <div class=\"list_image\">\\n\\t\\t\\t\\t\\t\\t\\t\\t\\t\\t\\t\\t<img src=\"https://mars.nasa.gov/system/news_items/list_view_images/8536_Mars_chemist_320x240px.jpg\">\\n\\t\\t\\t\\t\\t\\t\\t\\t\\t\\t\\t </div>\\n\\t\\t\\t\\t\\t\\t\\t\\t\\t\\t  </div>\\n\\t\\t\\t\\t\\t\\t\\t\\t\\t\\t  <div class=\"col-md-8\">\\n\\t\\t\\t\\t\\t\\t\\t\\t\\t\\t  \\t<div class=\"list_text\">\\n\\t\\t\\t\\t\\t\\t\\t\\t\\t\\t\\t <div class=\"list_date\">August 19, 2021</div>\\n\\t\\t\\t\\t\\t\\t\\t\\t\\t\\t\\t <div class=\"content_title\">New Selfie Shows Curiosity, the Mars Chemist</div>\\n\\t\\t\\t\\t\\t\\t\\t\\t\\t\\t\\t <div class=\"article_teaser_body\">The NASA rover performed a special chemistry experiment at the location captured in its newest self-portrait.</div>\\n\\t\\t\\t\\t\\t\\t\\t\\t\\t\\t\\t </div>\\n\\t\\t\\t\\t\\t\\t\\t\\t\\t\\t  </div>\\n\\t\\t\\t\\t\\t\\t\\t\\t\\t   </div>\\n\\t\\t\\t\\t\\t\\t\\t\\t\\t</div>\\n\\t\\t\\t\\t\\t\\t\\n\\t\\t\\t\\t\\t\\t\\t\\t<div class=\"col-md-12\">\\n\\t\\t\\t\\t\\t\\t\\t\\t\\t   <hr>\\n\\t\\t\\t\\t\\t\\t\\t\\t\\t   <div class=\"row\">\\n\\t\\t\\t\\t\\t\\t\\t\\t\\t\\t  <div class=\"col-md-4\">\\n\\t\\t\\t\\t\\t\\t\\t\\t\\t\\t\\t <div class=\"list_image\">\\n\\t\\t\\t\\t\\t\\t\\t\\t\\t\\t\\t\\t<img src=\"https://mars.nasa.gov/system/news_items/list_view_images/8712_PIA23720-320x240.jpg\">\\n\\t\\t\\t\\t\\t\\t\\t\\t\\t\\t\\t </div>\\n\\t\\t\\t\\t\\t\\t\\t\\t\\t\\t  </div>\\n\\t\\t\\t\\t\\t\\t\\t\\t\\t\\t  <div class=\"col-md-8\">\\n\\t\\t\\t\\t\\t\\t\\t\\t\\t\\t  \\t<div class=\"list_text\">\\n\\t\\t\\t\\t\\t\\t\\t\\t\\t\\t\\t <div class=\"list_date\">August 19, 2021</div>\\n\\t\\t\\t\\t\\t\\t\\t\\t\\t\\t\\t <div class=\"content_title\">6 Things to Know About NASA\\'s Ingenuity Mars Helicopter</div>\\n\\t\\t\\t\\t\\t\\t\\t\\t\\t\\t\\t <div class=\"article_teaser_body\">The first helicopter attempting to fly on another planet is a marvel of engineering. Get up to speed with these key facts about its plans.</div>\\n\\t\\t\\t\\t\\t\\t\\t\\t\\t\\t\\t </div>\\n\\t\\t\\t\\t\\t\\t\\t\\t\\t\\t  </div>\\n\\t\\t\\t\\t\\t\\t\\t\\t\\t   </div>\\n\\t\\t\\t\\t\\t\\t\\t\\t\\t</div>\\n\\t\\t\\t\\t\\t\\t\\n\\t\\t\\t\\t\\t\\t\\t\\t<div class=\"col-md-12\">\\n\\t\\t\\t\\t\\t\\t\\t\\t\\t   <hr>\\n\\t\\t\\t\\t\\t\\t\\t\\t\\t   <div class=\"row\">\\n\\t\\t\\t\\t\\t\\t\\t\\t\\t\\t  <div class=\"col-md-4\">\\n\\t\\t\\t\\t\\t\\t\\t\\t\\t\\t\\t <div class=\"list_image\">\\n\\t\\t\\t\\t\\t\\t\\t\\t\\t\\t\\t\\t<img src=\"https://mars.nasa.gov/system/news_items/list_view_images/8506_mars-solar-conjunction-th.jpg\">\\n\\t\\t\\t\\t\\t\\t\\t\\t\\t\\t\\t </div>\\n\\t\\t\\t\\t\\t\\t\\t\\t\\t\\t  </div>\\n\\t\\t\\t\\t\\t\\t\\t\\t\\t\\t  <div class=\"col-md-8\">\\n\\t\\t\\t\\t\\t\\t\\t\\t\\t\\t  \\t<div class=\"list_text\">\\n\\t\\t\\t\\t\\t\\t\\t\\t\\t\\t\\t <div class=\"list_date\">August 17, 2021</div>\\n\\t\\t\\t\\t\\t\\t\\t\\t\\t\\t\\t <div class=\"content_title\">What\\'s Mars Solar Conjunction, and Why Does It Matter?</div>\\n\\t\\t\\t\\t\\t\\t\\t\\t\\t\\t\\t <div class=\"article_teaser_body\">NASA spacecraft at Mars are going to be on their own for a few weeks when the Sun comes between Mars and Earth, interrupting communications.</div>\\n\\t\\t\\t\\t\\t\\t\\t\\t\\t\\t\\t </div>\\n\\t\\t\\t\\t\\t\\t\\t\\t\\t\\t  </div>\\n\\t\\t\\t\\t\\t\\t\\t\\t\\t   </div>\\n\\t\\t\\t\\t\\t\\t\\t\\t\\t</div>\\n\\t\\t\\t\\t\\t\\t\\n\\t\\t\\t\\t\\t\\t\\t\\t<div class=\"col-md-12\">\\n\\t\\t\\t\\t\\t\\t\\t\\t\\t   <hr>\\n\\t\\t\\t\\t\\t\\t\\t\\t\\t   <div class=\"row\">\\n\\t\\t\\t\\t\\t\\t\\t\\t\\t\\t  <div class=\"col-md-4\">\\n\\t\\t\\t\\t\\t\\t\\t\\t\\t\\t\\t <div class=\"list_image\">\\n\\t\\t\\t\\t\\t\\t\\t\\t\\t\\t\\t\\t<img src=\"https://mars.nasa.gov/system/news_items/list_view_images/8518_PIA23373-320x240.gif\">\\n\\t\\t\\t\\t\\t\\t\\t\\t\\t\\t\\t </div>\\n\\t\\t\\t\\t\\t\\t\\t\\t\\t\\t  </div>\\n\\t\\t\\t\\t\\t\\t\\t\\t\\t\\t  <div class=\"col-md-8\">\\n\\t\\t\\t\\t\\t\\t\\t\\t\\t\\t  \\t<div class=\"list_text\">\\n\\t\\t\\t\\t\\t\\t\\t\\t\\t\\t\\t <div class=\"list_date\">August 13, 2021</div>\\n\\t\\t\\t\\t\\t\\t\\t\\t\\t\\t\\t <div class=\"content_title\">NASA\\'s Push to Save the Mars InSight Lander\\'s Heat Probe</div>\\n\\t\\t\\t\\t\\t\\t\\t\\t\\t\\t\\t <div class=\"article_teaser_body\">The scoop on the end of the spacecraft\\'s robotic arm will be used to \\'pin\\' the mole against the wall of its hole.</div>\\n\\t\\t\\t\\t\\t\\t\\t\\t\\t\\t\\t </div>\\n\\t\\t\\t\\t\\t\\t\\t\\t\\t\\t  </div>\\n\\t\\t\\t\\t\\t\\t\\t\\t\\t   </div>\\n\\t\\t\\t\\t\\t\\t\\t\\t\\t</div>\\n\\t\\t\\t\\t\\t\\t\\n\\t\\t\\t\\t\\t\\t\\t\\t<div class=\"col-md-12\">\\n\\t\\t\\t\\t\\t\\t\\t\\t\\t   <hr>\\n\\t\\t\\t\\t\\t\\t\\t\\t\\t   <div class=\"row\">\\n\\t\\t\\t\\t\\t\\t\\t\\t\\t\\t  <div class=\"col-md-4\">\\n\\t\\t\\t\\t\\t\\t\\t\\t\\t\\t\\t <div class=\"list_image\">\\n\\t\\t\\t\\t\\t\\t\\t\\t\\t\\t\\t\\t<img src=\"https://mars.nasa.gov/system/news_items/list_view_images/8556_PIA23305_320x240px.jpg\">\\n\\t\\t\\t\\t\\t\\t\\t\\t\\t\\t\\t </div>\\n\\t\\t\\t\\t\\t\\t\\t\\t\\t\\t  </div>\\n\\t\\t\\t\\t\\t\\t\\t\\t\\t\\t  <div class=\"col-md-8\">\\n\\t\\t\\t\\t\\t\\t\\t\\t\\t\\t  \\t<div class=\"list_text\">\\n\\t\\t\\t\\t\\t\\t\\t\\t\\t\\t\\t <div class=\"list_date\">August 2, 2021</div>\\n\\t\\t\\t\\t\\t\\t\\t\\t\\t\\t\\t <div class=\"content_title\">NASA Updates Mars 2020 Mission Environmental Review</div>\\n\\t\\t\\t\\t\\t\\t\\t\\t\\t\\t\\t <div class=\"article_teaser_body\">NASA and the Department of Energy have completed a more detailed risk analysis for the Mars 2020 rover launch from Florida.</div>\\n\\t\\t\\t\\t\\t\\t\\t\\t\\t\\t\\t </div>\\n\\t\\t\\t\\t\\t\\t\\t\\t\\t\\t  </div>\\n\\t\\t\\t\\t\\t\\t\\t\\t\\t   </div>\\n\\t\\t\\t\\t\\t\\t\\t\\t\\t</div>\\n\\t\\t\\t\\t\\t\\t\\n\\t\\t\\t\\t\\t\\t\\t\\t<div class=\"col-md-12\">\\n\\t\\t\\t\\t\\t\\t\\t\\t\\t   <hr>\\n\\t\\t\\t\\t\\t\\t\\t\\t\\t   <div class=\"row\">\\n\\t\\t\\t\\t\\t\\t\\t\\t\\t\\t  <div class=\"col-md-4\">\\n\\t\\t\\t\\t\\t\\t\\t\\t\\t\\t\\t <div class=\"list_image\">\\n\\t\\t\\t\\t\\t\\t\\t\\t\\t\\t\\t\\t<img src=\"https://mars.nasa.gov/system/news_items/list_view_images/8544_Pathfinder-Background-320x240.jpg\">\\n\\t\\t\\t\\t\\t\\t\\t\\t\\t\\t\\t </div>\\n\\t\\t\\t\\t\\t\\t\\t\\t\\t\\t  </div>\\n\\t\\t\\t\\t\\t\\t\\t\\t\\t\\t  <div class=\"col-md-8\">\\n\\t\\t\\t\\t\\t\\t\\t\\t\\t\\t  \\t<div class=\"list_text\">\\n\\t\\t\\t\\t\\t\\t\\t\\t\\t\\t\\t <div class=\"list_date\">August 1, 2021</div>\\n\\t\\t\\t\\t\\t\\t\\t\\t\\t\\t\\t <div class=\"content_title\">Screening Soon: \\'The Pathfinders\\' Trains Lens on Mars</div>\\n\\t\\t\\t\\t\\t\\t\\t\\t\\t\\t\\t <div class=\"article_teaser_body\">With the Mars 2020 mission ramping up, the documentary — the first of four about past JPL missions to the Red Planet to be shown at Caltech — tells a gripping backstory.</div>\\n\\t\\t\\t\\t\\t\\t\\t\\t\\t\\t\\t </div>\\n\\t\\t\\t\\t\\t\\t\\t\\t\\t\\t  </div>\\n\\t\\t\\t\\t\\t\\t\\t\\t\\t   </div>\\n\\t\\t\\t\\t\\t\\t\\t\\t\\t</div>\\n\\t\\t\\t\\t\\t\\t\\n\\t\\t\\t\\t\\t\\t\\t\\t<div class=\"col-md-12\">\\n\\t\\t\\t\\t\\t\\t\\t\\t\\t   <hr>\\n\\t\\t\\t\\t\\t\\t\\t\\t\\t   <div class=\"row\">\\n\\t\\t\\t\\t\\t\\t\\t\\t\\t\\t  <div class=\"col-md-4\">\\n\\t\\t\\t\\t\\t\\t\\t\\t\\t\\t\\t <div class=\"list_image\">\\n\\t\\t\\t\\t\\t\\t\\t\\t\\t\\t\\t\\t<img src=\"https://mars.nasa.gov/system/news_items/list_view_images/8561_MarCO-32x24.jpg\">\\n\\t\\t\\t\\t\\t\\t\\t\\t\\t\\t\\t </div>\\n\\t\\t\\t\\t\\t\\t\\t\\t\\t\\t  </div>\\n\\t\\t\\t\\t\\t\\t\\t\\t\\t\\t  <div class=\"col-md-8\">\\n\\t\\t\\t\\t\\t\\t\\t\\t\\t\\t  \\t<div class=\"list_text\">\\n\\t\\t\\t\\t\\t\\t\\t\\t\\t\\t\\t <div class=\"list_date\">July 29, 2021</div>\\n\\t\\t\\t\\t\\t\\t\\t\\t\\t\\t\\t <div class=\"content_title\">NASA\\'s Briefcase-Size MarCO Satellite Picks Up Honors</div>\\n\\t\\t\\t\\t\\t\\t\\t\\t\\t\\t\\t <div class=\"article_teaser_body\">The twin spacecraft, the first of their kind to fly into deep space, earn a Laureate from Aviation Week &amp; Space Technology.</div>\\n\\t\\t\\t\\t\\t\\t\\t\\t\\t\\t\\t </div>\\n\\t\\t\\t\\t\\t\\t\\t\\t\\t\\t  </div>\\n\\t\\t\\t\\t\\t\\t\\t\\t\\t   </div>\\n\\t\\t\\t\\t\\t\\t\\t\\t\\t</div>\\n\\t\\t\\t\\t\\t\\t\\n\\t\\t\\t\\t\\t\\t\\t\\t<div class=\"col-md-12\">\\n\\t\\t\\t\\t\\t\\t\\t\\t\\t   <hr>\\n\\t\\t\\t\\t\\t\\t\\t\\t\\t   <div class=\"row\">\\n\\t\\t\\t\\t\\t\\t\\t\\t\\t\\t  <div class=\"col-md-4\">\\n\\t\\t\\t\\t\\t\\t\\t\\t\\t\\t\\t <div class=\"list_image\">\\n\\t\\t\\t\\t\\t\\t\\t\\t\\t\\t\\t\\t<img src=\"https://mars.nasa.gov/system/news_items/list_view_images/8666_PIA23776-main-320x240.jpg\">\\n\\t\\t\\t\\t\\t\\t\\t\\t\\t\\t\\t </div>\\n\\t\\t\\t\\t\\t\\t\\t\\t\\t\\t  </div>\\n\\t\\t\\t\\t\\t\\t\\t\\t\\t\\t  <div class=\"col-md-8\">\\n\\t\\t\\t\\t\\t\\t\\t\\t\\t\\t  \\t<div class=\"list_text\">\\n\\t\\t\\t\\t\\t\\t\\t\\t\\t\\t\\t <div class=\"list_date\">July 27, 2021</div>\\n\\t\\t\\t\\t\\t\\t\\t\\t\\t\\t\\t <div class=\"content_title\">NASA Perseverance Mars Rover Scientists Train in the Nevada Desert</div>\\n\\t\\t\\t\\t\\t\\t\\t\\t\\t\\t\\t <div class=\"article_teaser_body\">Team members searched for signs of ancient microscopic life there, just as NASA\\'s latest rover will on the Red Planet next year.</div>\\n\\t\\t\\t\\t\\t\\t\\t\\t\\t\\t\\t </div>\\n\\t\\t\\t\\t\\t\\t\\t\\t\\t\\t  </div>\\n\\t\\t\\t\\t\\t\\t\\t\\t\\t   </div>\\n\\t\\t\\t\\t\\t\\t\\t\\t\\t</div>\\n\\t\\t\\t\\t\\t\\t\\n\\t\\t\\t\\t\\t\\t\\t\\t<div class=\"col-md-12\">\\n\\t\\t\\t\\t\\t\\t\\t\\t\\t   <hr>\\n\\t\\t\\t\\t\\t\\t\\t\\t\\t   <div class=\"row\">\\n\\t\\t\\t\\t\\t\\t\\t\\t\\t\\t  <div class=\"col-md-4\">\\n\\t\\t\\t\\t\\t\\t\\t\\t\\t\\t\\t <div class=\"list_image\">\\n\\t\\t\\t\\t\\t\\t\\t\\t\\t\\t\\t\\t<img src=\"https://mars.nasa.gov/system/news_items/list_view_images/8444_Sol427-437_backcap_push_positioning-320x240.gif\">\\n\\t\\t\\t\\t\\t\\t\\t\\t\\t\\t\\t </div>\\n\\t\\t\\t\\t\\t\\t\\t\\t\\t\\t  </div>\\n\\t\\t\\t\\t\\t\\t\\t\\t\\t\\t  <div class=\"col-md-8\">\\n\\t\\t\\t\\t\\t\\t\\t\\t\\t\\t  \\t<div class=\"list_text\">\\n\\t\\t\\t\\t\\t\\t\\t\\t\\t\\t\\t <div class=\"list_date\">July 26, 2021</div>\\n\\t\\t\\t\\t\\t\\t\\t\\t\\t\\t\\t <div class=\"content_title\">Common Questions about InSight\\'s \\'Mole\\'</div>\\n\\t\\t\\t\\t\\t\\t\\t\\t\\t\\t\\t <div class=\"article_teaser_body\">The following Q&amp;As with members of the team answer some of the most common questions about the burrowing device, part of a science instrument called the Heat Flow and Physical Properties Package (HP3).</div>\\n\\t\\t\\t\\t\\t\\t\\t\\t\\t\\t\\t </div>\\n\\t\\t\\t\\t\\t\\t\\t\\t\\t\\t  </div>\\n\\t\\t\\t\\t\\t\\t\\t\\t\\t   </div>\\n\\t\\t\\t\\t\\t\\t\\t\\t\\t</div>\\n\\t\\t\\t\\t\\t\\t\\n\\t\\t\\t\\t\\t\\t\\t\\t<div class=\"col-md-12\">\\n\\t\\t\\t\\t\\t\\t\\t\\t\\t   <hr>\\n\\t\\t\\t\\t\\t\\t\\t\\t\\t   <div class=\"row\">\\n\\t\\t\\t\\t\\t\\t\\t\\t\\t\\t  <div class=\"col-md-4\">\\n\\t\\t\\t\\t\\t\\t\\t\\t\\t\\t\\t <div class=\"list_image\">\\n\\t\\t\\t\\t\\t\\t\\t\\t\\t\\t\\t\\t<img src=\"https://mars.nasa.gov/system/news_items/list_view_images/8819_24759_PIA23491-web.jpg\">\\n\\t\\t\\t\\t\\t\\t\\t\\t\\t\\t\\t </div>\\n\\t\\t\\t\\t\\t\\t\\t\\t\\t\\t  </div>\\n\\t\\t\\t\\t\\t\\t\\t\\t\\t\\t  <div class=\"col-md-8\">\\n\\t\\t\\t\\t\\t\\t\\t\\t\\t\\t  \\t<div class=\"list_text\">\\n\\t\\t\\t\\t\\t\\t\\t\\t\\t\\t\\t <div class=\"list_date\">July 26, 2021</div>\\n\\t\\t\\t\\t\\t\\t\\t\\t\\t\\t\\t <div class=\"content_title\">NASA Moves Forward With Campaign to Return Mars Samples to Earth</div>\\n\\t\\t\\t\\t\\t\\t\\t\\t\\t\\t\\t <div class=\"article_teaser_body\">During this next phase, the program will mature critical technologies and make critical design decisions as well as assess industry partnerships.</div>\\n\\t\\t\\t\\t\\t\\t\\t\\t\\t\\t\\t </div>\\n\\t\\t\\t\\t\\t\\t\\t\\t\\t\\t  </div>\\n\\t\\t\\t\\t\\t\\t\\t\\t\\t   </div>\\n\\t\\t\\t\\t\\t\\t\\t\\t\\t</div>\\n\\t\\t\\t\\t\\t\\t\\n\\t\\t\\t\\t\\t\\t\\t\\t<div class=\"col-md-12\">\\n\\t\\t\\t\\t\\t\\t\\t\\t\\t   <hr>\\n\\t\\t\\t\\t\\t\\t\\t\\t\\t   <div class=\"row\">\\n\\t\\t\\t\\t\\t\\t\\t\\t\\t\\t  <div class=\"col-md-4\">\\n\\t\\t\\t\\t\\t\\t\\t\\t\\t\\t\\t <div class=\"list_image\">\\n\\t\\t\\t\\t\\t\\t\\t\\t\\t\\t\\t\\t<img src=\"https://mars.nasa.gov/system/news_items/list_view_images/8737_24760_PIA23492-320x240.jpg\">\\n\\t\\t\\t\\t\\t\\t\\t\\t\\t\\t\\t </div>\\n\\t\\t\\t\\t\\t\\t\\t\\t\\t\\t  </div>\\n\\t\\t\\t\\t\\t\\t\\t\\t\\t\\t  <div class=\"col-md-8\">\\n\\t\\t\\t\\t\\t\\t\\t\\t\\t\\t  \\t<div class=\"list_text\">\\n\\t\\t\\t\\t\\t\\t\\t\\t\\t\\t\\t <div class=\"list_date\">July 26, 2021</div>\\n\\t\\t\\t\\t\\t\\t\\t\\t\\t\\t\\t <div class=\"content_title\">NASA Establishes Board to Initially Review Mars Sample Return Plans</div>\\n\\t\\t\\t\\t\\t\\t\\t\\t\\t\\t\\t <div class=\"article_teaser_body\">The board will assist with analysis of current plans and goals for one of the most difficult missions humanity has ever undertaken.</div>\\n\\t\\t\\t\\t\\t\\t\\t\\t\\t\\t\\t </div>\\n\\t\\t\\t\\t\\t\\t\\t\\t\\t\\t  </div>\\n\\t\\t\\t\\t\\t\\t\\t\\t\\t   </div>\\n\\t\\t\\t\\t\\t\\t\\t\\t\\t</div>\\n\\t\\t\\t\\t\\t\\t\\n\\t\\t\\t\\t\\t\\t\\t\\t<div class=\"col-md-12\">\\n\\t\\t\\t\\t\\t\\t\\t\\t\\t   <hr>\\n\\t\\t\\t\\t\\t\\t\\t\\t\\t   <div class=\"row\">\\n\\t\\t\\t\\t\\t\\t\\t\\t\\t\\t  <div class=\"col-md-4\">\\n\\t\\t\\t\\t\\t\\t\\t\\t\\t\\t\\t <div class=\"list_image\">\\n\\t\\t\\t\\t\\t\\t\\t\\t\\t\\t\\t\\t<img src=\"https://mars.nasa.gov/system/news_items/list_view_images/8724_launchscreen-320x240.jpg\">\\n\\t\\t\\t\\t\\t\\t\\t\\t\\t\\t\\t </div>\\n\\t\\t\\t\\t\\t\\t\\t\\t\\t\\t  </div>\\n\\t\\t\\t\\t\\t\\t\\t\\t\\t\\t  <div class=\"col-md-8\">\\n\\t\\t\\t\\t\\t\\t\\t\\t\\t\\t  \\t<div class=\"list_text\">\\n\\t\\t\\t\\t\\t\\t\\t\\t\\t\\t\\t <div class=\"list_date\">July 24, 2021</div>\\n\\t\\t\\t\\t\\t\\t\\t\\t\\t\\t\\t <div class=\"content_title\">NASA, ULA Launch Mars 2020 Perseverance Rover Mission to Red Planet</div>\\n\\t\\t\\t\\t\\t\\t\\t\\t\\t\\t\\t <div class=\"article_teaser_body\">The agency\\'s Mars 2020 mission is on its way. It will land at Jezero Crater in about seven months, on Feb. 18, 2021. </div>\\n\\t\\t\\t\\t\\t\\t\\t\\t\\t\\t\\t </div>\\n\\t\\t\\t\\t\\t\\t\\t\\t\\t\\t  </div>\\n\\t\\t\\t\\t\\t\\t\\t\\t\\t   </div>\\n\\t\\t\\t\\t\\t\\t\\t\\t\\t</div>\\n\\t\\t\\t\\t\\t\\t\\n\\t\\t\\t\\t\\t\\t\\t\\t<div class=\"col-md-12\">\\n\\t\\t\\t\\t\\t\\t\\t\\t\\t   <hr>\\n\\t\\t\\t\\t\\t\\t\\t\\t\\t   <div class=\"row\">\\n\\t\\t\\t\\t\\t\\t\\t\\t\\t\\t  <div class=\"col-md-4\">\\n\\t\\t\\t\\t\\t\\t\\t\\t\\t\\t\\t <div class=\"list_image\">\\n\\t\\t\\t\\t\\t\\t\\t\\t\\t\\t\\t\\t<img src=\"https://mars.nasa.gov/system/news_items/list_view_images/8558_PIA23513-32x24.jpg\">\\n\\t\\t\\t\\t\\t\\t\\t\\t\\t\\t\\t </div>\\n\\t\\t\\t\\t\\t\\t\\t\\t\\t\\t  </div>\\n\\t\\t\\t\\t\\t\\t\\t\\t\\t\\t  <div class=\"col-md-8\">\\n\\t\\t\\t\\t\\t\\t\\t\\t\\t\\t  \\t<div class=\"list_text\">\\n\\t\\t\\t\\t\\t\\t\\t\\t\\t\\t\\t <div class=\"list_date\">July 24, 2021</div>\\n\\t\\t\\t\\t\\t\\t\\t\\t\\t\\t\\t <div class=\"content_title\">Global Storms on Mars Launch Dust Towers Into the Sky</div>\\n\\t\\t\\t\\t\\t\\t\\t\\t\\t\\t\\t <div class=\"article_teaser_body\">A Mars Dust Tower Stands Out Dust storms are common on Mars. But every decade or so, something unpredictable happens: a series of runaway storms break out, covering the entire planet in a dusty haze.</div>\\n\\t\\t\\t\\t\\t\\t\\t\\t\\t\\t\\t </div>\\n\\t\\t\\t\\t\\t\\t\\t\\t\\t\\t  </div>\\n\\t\\t\\t\\t\\t\\t\\t\\t\\t   </div>\\n\\t\\t\\t\\t\\t\\t\\t\\t\\t</div>\\n\\t\\t\\t\\t\\t\\t</div>\\n         <hr class=\"container\" style=\"margin: 25px auto;width: 83%;\">\\n         <button id=\"more\" class=\"btn disable\" onclick=\"populateContent()\">More</button>\\n      </section>\\n      <section class=\"last_news\">\\n         <div class=\"container\">\\n            <div class=\"row\">\\n               <div class=\"col-12\">\\n                  <h2>You Might Also Like</h2>\\n               </div>\\n               <!--  <a class=\" prev\" href=\"#carouselExampleIndicators2\" role=\"button\" data-slide=\"prev\">\\n                  <i class=\"fas fa-angle-left\"></i>\\n                  </a>\\n                  <a class=\" next\" href=\"#carouselExampleIndicators2\" role=\"button\" data-slide=\"next\">\\n                  <i class=\"fas fa-angle-right\"></i>\\n                  </a> -->\\n               <div class=\"col-12\">\\n                  <div id=\"carouselExampleIndicators2\" class=\"carousel slide\" data-ride=\"carousel\">\\n                     <div class=\"carousel-inner\">\\n                        <div class=\"carousel-item active\">\\n                           <div class=\"row\">\\n                              <div class=\"col-md-4 mb-3\">\\n                                 <div class=\"card\">\\n                                    <img class=\"img-fluid\" alt=\"100%x280\" src=\"https://mars.nasa.gov/system/news_items/main_images/8716_PIA23499-16.jpg\">\\n                                    <div class=\"card-body\">\\n                                       <p class=\"card-text\">NASA to Broadcast Mars 2020 Perseverance Launch, Prelaunch Activities</p>\\n                                    </div>\\n                                 </div>\\n                              </div>\\n                              <div class=\"col-md-4 mb-3\">\\n                                 <div class=\"card\">\\n                                    <img class=\"img-fluid\" alt=\"100%x280\" src=\"https://mars.nasa.gov/system/news_items/main_images/8716_PIA23499-16.jpg\">\\n                                    <div class=\"card-body\">\\n                                       <p class=\"card-text\">The Launch Is Approaching for NASA\\'s Next Mars Rover, Perseverance</p>\\n                                    </div>\\n                                 </div>\\n                              </div>\\n                              <div class=\"col-md-4 mb-3\">\\n                                 <div class=\"card\">\\n                                    <img class=\"img-fluid\" alt=\"100%x280\" src=\"https://mars.nasa.gov/system/news_items/main_images/8692_PIA23920-web.jpg\">\\n                                    <div class=\"card-body\">\\n                                       <p class=\"card-text\">NASA to Hold Mars 2020 Perseverance Rover Launch Briefing</p>\\n                                    </div>\\n                                 </div>\\n                              </div>\\n                           </div>\\n                        </div>\\n                        <div class=\"carousel-item\">\\n                           <div class=\"row\">\\n                              <div class=\"col-md-4 mb-3\">\\n                                 <div class=\"card\">\\n                                    <img class=\"img-fluid\" alt=\"100%x280\" src=\"https://images.unsplash.com/photo-1532771098148-525cefe10c23?ixlib=rb-0.3.5&amp;q=80&amp;fm=jpg&amp;crop=entropy&amp;cs=tinysrgb&amp;w=1080&amp;fit=max&amp;ixid=eyJhcHBfaWQiOjMyMDc0fQ&amp;s=3f317c1f7a16116dec454fbc267dd8e4\">\\n                                    <div class=\"card-body\">\\n                                       <p class=\"card-text\">With supporting text below as a natural lead-in to additional content.</p>\\n                                    </div>\\n                                 </div>\\n                              </div>\\n                              <div class=\"col-md-4 mb-3\">\\n                                 <div class=\"card\">\\n                                    <img class=\"img-fluid\" alt=\"100%x280\" src=\"https://images.unsplash.com/photo-1532715088550-62f09305f765?ixlib=rb-0.3.5&amp;q=80&amp;fm=jpg&amp;crop=entropy&amp;cs=tinysrgb&amp;w=1080&amp;fit=max&amp;ixid=eyJhcHBfaWQiOjMyMDc0fQ&amp;s=ebadb044b374504ef8e81bdec4d0e840\">\\n                                    <div class=\"card-body\">\\n                                       <p class=\"card-text\">With supporting text below as a natural lead-in to additional content.</p>\\n                                    </div>\\n                                 </div>\\n                              </div>\\n                              <div class=\"col-md-4 mb-3\">\\n                                 <div class=\"card\">\\n                                    <img class=\"img-fluid\" alt=\"100%x280\" src=\"https://images.unsplash.com/photo-1506197603052-3cc9c3a201bd?ixlib=rb-0.3.5&amp;q=80&amp;fm=jpg&amp;crop=entropy&amp;cs=tinysrgb&amp;w=1080&amp;fit=max&amp;ixid=eyJhcHBfaWQiOjMyMDc0fQ&amp;s=0754ab085804ae8a3b562548e6b4aa2e\">\\n                                    <div class=\"card-body\">\\n                                       <p class=\"card-text\">With supporting text below as a natural lead-in to additional content.</p>\\n                                    </div>\\n                                 </div>\\n                              </div>\\n                           </div>\\n                        </div>\\n                        <div class=\"carousel-item\">\\n                           <div class=\"row\">\\n                              <div class=\"col-md-4 mb-3\">\\n                                 <div class=\"card\">\\n                                    <img class=\"img-fluid\" alt=\"100%x280\" src=\"https://images.unsplash.com/photo-1507525428034-b723cf961d3e?ixlib=rb-0.3.5&amp;q=80&amp;fm=jpg&amp;crop=entropy&amp;cs=tinysrgb&amp;w=1080&amp;fit=max&amp;ixid=eyJhcHBfaWQiOjMyMDc0fQ&amp;s=ee8417f0ea2a50d53a12665820b54e23\">\\n                                    <div class=\"card-body\">\\n                                       <p class=\"card-text\">With supporting text below as a natural lead-in to additional content.</p>\\n                                    </div>\\n                                 </div>\\n                              </div>\\n                              <div class=\"col-md-4 mb-3\">\\n                                 <div class=\"card\">\\n                                    <img class=\"img-fluid\" alt=\"100%x280\" src=\"https://images.unsplash.com/photo-1532777946373-b6783242f211?ixlib=rb-0.3.5&amp;q=80&amp;fm=jpg&amp;crop=entropy&amp;cs=tinysrgb&amp;w=1080&amp;fit=max&amp;ixid=eyJhcHBfaWQiOjMyMDc0fQ&amp;s=8ac55cf3a68785643998730839663129\">\\n                                    <div class=\"card-body\">\\n                                       <p class=\"card-text\">With supporting text below as a natural lead-in to additional content.</p>\\n                                    </div>\\n                                 </div>\\n                              </div>\\n                              <div class=\"col-md-4 mb-3\">\\n                                 <div class=\"card\">\\n                                    <img class=\"img-fluid\" alt=\"100%x280\" src=\"https://images.unsplash.com/photo-1532763303805-529d595877c5?ixlib=rb-0.3.5&amp;q=80&amp;fm=jpg&amp;crop=entropy&amp;cs=tinysrgb&amp;w=1080&amp;fit=max&amp;ixid=eyJhcHBfaWQiOjMyMDc0fQ&amp;s=5ee4fd5d19b40f93eadb21871757eda6\">\\n                                    <div class=\"card-body\">\\n                                       <p class=\"card-text\">With supporting text below as a natural lead-in to additional content.</p>\\n                                    </div>\\n                                 </div>\\n                              </div>\\n                           </div>\\n                        </div>\\n                     </div>\\n                  </div>\\n               </div>\\n            </div>\\n         </div>\\n      </section>\\n      <section class=\"footer\">\\n         <div class=\"container\">\\n            <div class=\"col-md-12\">\\n               <div class=\"row\">\\n                  <div class=\"col-md-3\">\\n                     <h5>The Red Planet</h5>\\n                     <ul>\\n                        <li>Dashboard</li>\\n                        <li>Science Goals</li>\\n                        <li>The Planet</li>\\n                     </ul>\\n                  </div>\\n                  <div class=\"col-md-3\">\\n                     <h5>The Program</h5>\\n                     <ul>\\n                        <li>Mission Statement</li>\\n                        <li>About the Program</li>\\n                        <li>Organization Why Mars?</li>\\n                     </ul>\\n                  </div>\\n                  <div class=\"col-md-3\">\\n                     <h5>Multimedia</h5>\\n                     <ul>\\n                        <li>Images</li>\\n                        <li>Videos</li>\\n                        <li>More Resources</li>\\n                     </ul>\\n                  </div>\\n                  <div class=\"col-md-3\">\\n                     <h5>Missions</h5>\\n                     <ul>\\n                        <li>Past</li>\\n                        <li>Present</li>\\n                        <li>Future</li>\\n                     </ul>\\n                  </div>\\n               </div>\\n            </div>\\n         </div>\\n      </section>\\n      <script type=\"text/javascript\" src=\"https://code.jquery.com/jquery-1.12.4.min.js\"></script>\\n      <script src=\"https://cdn.jsdelivr.net/npm/@popperjs/core@2.5.4/dist/umd/popper.min.js\"></script>\\n      <script src=\"https://cdn.jsdelivr.net/npm/bootstrap@5.0.0-beta1/dist/js/bootstrap.min.js\"></script>\\n      <script src=\"js/app.js\"></script>\\n   \\n</div></div></body></html>'"
      ]
     },
     "metadata": {},
     "execution_count": 10
    }
   ],
   "metadata": {}
  },
  {
   "cell_type": "code",
   "execution_count": 11,
   "source": [
    "# Convert the browser html to a soup object and then quit the browser\r\n",
    "html = browser.html\r\n",
    "news_soup = soup(html, 'html.parser')\r\n",
    "\r\n",
    "slide_elem = news_soup.select_one('div.list_text')\r\n"
   ],
   "outputs": [],
   "metadata": {}
  },
  {
   "cell_type": "code",
   "execution_count": 12,
   "source": [
    "slide_elem = news_soup.find('div', class_='list_text')\r\n",
    "slide_elem"
   ],
   "outputs": [
    {
     "output_type": "execute_result",
     "data": {
      "text/plain": [
       "<div class=\"list_text\">\n",
       "<div class=\"list_date\">August 20, 2021</div>\n",
       "<div class=\"content_title\">Mars Helicopter Attached to NASA's Perseverance Rover</div>\n",
       "<div class=\"article_teaser_body\">The team also fueled the rover's sky crane to get ready for this summer's history-making launch.</div>\n",
       "</div>"
      ]
     },
     "metadata": {},
     "execution_count": 12
    }
   ],
   "metadata": {}
  },
  {
   "cell_type": "code",
   "execution_count": 13,
   "source": [
    "slide_elem.find('div', class_='content_title')"
   ],
   "outputs": [
    {
     "output_type": "execute_result",
     "data": {
      "text/plain": [
       "<div class=\"content_title\">Mars Helicopter Attached to NASA's Perseverance Rover</div>"
      ]
     },
     "metadata": {},
     "execution_count": 13
    }
   ],
   "metadata": {}
  },
  {
   "cell_type": "code",
   "execution_count": 14,
   "source": [
    "# Use the parent element to find the first a tag and save it as `news_title`\r\n",
    "news_title = slide_elem.find('div', class_='content_title').get_text()\r\n",
    "news_title"
   ],
   "outputs": [
    {
     "output_type": "execute_result",
     "data": {
      "text/plain": [
       "\"Mars Helicopter Attached to NASA's Perseverance Rover\""
      ]
     },
     "metadata": {},
     "execution_count": 14
    }
   ],
   "metadata": {}
  },
  {
   "cell_type": "code",
   "execution_count": 15,
   "source": [
    "# Use the parent element to find the paragraph text\r\n",
    "news_p = slide_elem.find('div', class_='article_teaser_body').get_text()\r\n",
    "news_p"
   ],
   "outputs": [
    {
     "output_type": "execute_result",
     "data": {
      "text/plain": [
       "\"The team also fueled the rover's sky crane to get ready for this summer's history-making launch.\""
      ]
     },
     "metadata": {},
     "execution_count": 15
    }
   ],
   "metadata": {}
  },
  {
   "cell_type": "markdown",
   "source": [
    "### JPL Space Images Featured Image"
   ],
   "metadata": {}
  },
  {
   "cell_type": "code",
   "execution_count": 16,
   "source": [
    "# Visit URL\r\n",
    "url = 'https://spaceimages-mars.com'\r\n",
    "browser.visit(url)"
   ],
   "outputs": [],
   "metadata": {}
  },
  {
   "cell_type": "code",
   "execution_count": 17,
   "source": [
    "full_image_elem = browser.find_by_tag('button')\r\n",
    "full_image_elem[0]"
   ],
   "outputs": [
    {
     "output_type": "execute_result",
     "data": {
      "text/plain": [
       "<splinter.driver.webdriver.WebDriverElement at 0x1c21811d490>"
      ]
     },
     "metadata": {},
     "execution_count": 17
    }
   ],
   "metadata": {}
  },
  {
   "cell_type": "code",
   "execution_count": 18,
   "source": [
    "# Find and click the full image button\r\n",
    "full_image_elem = browser.find_by_tag('button')[1]\r\n",
    "full_image_elem.click()"
   ],
   "outputs": [],
   "metadata": {}
  },
  {
   "cell_type": "code",
   "execution_count": 19,
   "source": [
    "# Parse the resulting html with soup\r\n",
    "html = browser.html\r\n",
    "img_soup = soup(html, 'html.parser')\r\n",
    "img_soup"
   ],
   "outputs": [
    {
     "output_type": "execute_result",
     "data": {
      "text/plain": [
       "<html class=\"fancybox-margin fancybox-lock\"><head>\n",
       "<meta charset=\"utf-8\"/>\n",
       "<meta content=\"width=device-width, initial-scale=1\" name=\"viewport\"/>\n",
       "<link href=\"https://maxcdn.bootstrapcdn.com/bootstrap/4.0.0/css/bootstrap.min.css\" rel=\"stylesheet\"/>\n",
       "<!-- <link rel=\"stylesheet\" type=\"text/css\" href=\"css/font.css\"> -->\n",
       "<link href=\"css/app.css\" rel=\"stylesheet\" type=\"text/css\"/>\n",
       "<link href=\"https://stackpath.bootstrapcdn.com/font-awesome/4.7.0/css/font-awesome.min.css\" rel=\"stylesheet\" type=\"text/css\"/>\n",
       "<title>Space Image</title>\n",
       "<style type=\"text/css\">.fancybox-margin{margin-right:17px;}</style></head>\n",
       "<body>\n",
       "<div class=\"header\">\n",
       "<nav class=\"navbar navbar-expand-lg\">\n",
       "<a class=\"navbar-brand\" href=\"#\"><img id=\"logo\" src=\"image/nasa.png\"/><span class=\"logo\">Jet Propulsion Laboratory</span>\n",
       "<span class=\"logo1\">California Institute of Technology</span></a>\n",
       "<button aria-controls=\"navbarNav\" aria-expanded=\"false\" aria-label=\"Toggle navigation\" class=\"navbar-toggler\" data-target=\"#navbarNav\" data-toggle=\"collapse\" type=\"button\">\n",
       "<span class=\"navbar-toggler-icon\"></span>\n",
       "</button>\n",
       "<div class=\"collapse navbar-collapse justify-content-end\" id=\"navbarNav\">\n",
       "<ul class=\"navbar-nav\">\n",
       "<li class=\"nav-item active\">\n",
       "<a class=\"nav-link\" href=\"#\"><i aria-hidden=\"true\" class=\"fa fa-bars\"></i>   MENU   <i aria-hidden=\"true\" class=\"fa fa-search\"></i></a>\n",
       "</li>\n",
       "</ul>\n",
       "</div>\n",
       "</nav>\n",
       "<div class=\"floating_text_area\">\n",
       "<h2 class=\"brand_title\">FEATURED IMAGE</h2>\n",
       "<h1 class=\"media_feature_title\">Dusty Space Cloud</h1>\n",
       "<br/>\n",
       "<a class=\"showimg fancybox-thumbs\" href=\"image/featured/mars2.jpg\" target=\"_blank\"> <button class=\"btn btn-outline-light\"> FULL IMAGE</button></a>\n",
       "</div>\n",
       "<img class=\"headerimage fade-in\" src=\"image/featured/mars2.jpg\"/></div>\n",
       "<div class=\"search sticky\">\n",
       "<div class=\"col-md-12\">\n",
       "<div class=\"row\">\n",
       "<div class=\"col-md-6\">\n",
       "<input name=\"Search\" placeholder=\"Search\" type=\"text\"/>\n",
       "</div>\n",
       "<div class=\"col-md-6\">\n",
       "<select aria-label=\"Default select example\" class=\"form-select\" id=\"options\">\n",
       "<option onchange=\"0\" selected=\"\">Mars</option>\n",
       "<!-- <option data-filter=\"sun\" class=\"button\">Mars</option> -->\n",
       "<option class=\"button\" data-filter=\"Sun\">Sun</option>\n",
       "<option class=\"button\" data-filter=\"earth\">Earth</option>\n",
       "<option class=\"button\" data-filter=\"ida\">Ida</option>\n",
       "<option class=\"button\" data-filter=\"jupiter\">Jupiter</option>\n",
       "<option class=\"button\" data-filter=\"venus\">Venus</option>\n",
       "</select>\n",
       "</div>\n",
       "</div>\n",
       "</div>\n",
       "</div>\n",
       "<div class=\"container mt-5\">\n",
       "<div class=\"col-md-12\">\n",
       "<div class=\"row\">\n",
       "<div class=\"col-md-6\">\n",
       "<h1>Images</h1>\n",
       "</div>\n",
       "<div class=\"col-md-6\" id=\"icon\">\n",
       "<div class=\"icon2\"></div>\n",
       "<div class=\"icon1\"></div>\n",
       "</div>\n",
       "</div>\n",
       "</div>\n",
       "<!-- first div -->\n",
       "<div class=\"div1\" id=\"filter\">\n",
       "<div class=\"thmbgroup\"><a class=\"fancybox-thumbs\" data-fancybox-group=\"thumb\" href=\"image/mars/Icaria Fossae7.jpg\"><div class=\"thmb\"><img alt=\"\" class=\"thumbimg\" src=\"image/mars/Icaria Fossae7.jpg\"/><p class=\"thumbcontent\">January 1, 2020<br/>Icaria Fossae7</p></div></a><a class=\"fancybox-thumbs\" data-fancybox-group=\"thumb\" href=\"image/mars/Proctor Crater Dunes 7.jpg\"><div class=\"thmb\"><img alt=\"\" class=\"thumbimg\" src=\"image/mars/Proctor Crater Dunes 7.jpg\"/><p class=\"thumbcontent\">December 31, 2020<br/>Proctor Crater Dunes</p></div></a><a class=\"fancybox-thumbs\" data-fancybox-group=\"thumb\" href=\"image/mars/Icaria Fossae7.jpg\"><div class=\"thmb\"><img alt=\"\" class=\"thumbimg\" src=\"image/mars/Icaria Fossae7.jpg\"/><p class=\"thumbcontent\">December 31, 2020<br/>Icaria Fossae</p></div></a><a class=\"fancybox-thumbs\" data-fancybox-group=\"thumb\" href=\"image/mars/Proctor Crater Dunes 7.jpg\"><div class=\"thmb\"><img alt=\"\" class=\"thumbimg\" src=\"image/mars/Proctor Crater Dunes 7.jpg\"/><p class=\"thumbcontent\">December 29, 2020<br/>Proctor Crater Dunes</p></div></a><a class=\"fancybox-thumbs\" data-fancybox-group=\"thumb\" href=\"image/mars/Proctor Crater Dunes 7.jpg\"><div class=\"thmb\"><img alt=\"\" class=\"thumbimg\" src=\"image/mars/Proctor Crater Dunes 7.jpg\"/><p class=\"thumbcontent\">December 28, 2020<br/>roctor Crater Dunes</p></div></a><a class=\"fancybox-thumbs\" data-fancybox-group=\"thumb\" href=\"image/mars/Icaria Fossae7.jpg\"><div class=\"thmb\"><img alt=\"\" class=\"thumbimg\" src=\"image/mars/Icaria Fossae7.jpg\"/><p class=\"thumbcontent\">December 22, 2020<br/>Icaria Fossae</p></div></a><a class=\"fancybox-thumbs\" data-fancybox-group=\"thumb\" href=\"image/mars/Icaria Fossae.jpg\"><div class=\"thmb\"><img alt=\"\" class=\"thumbimg\" src=\"image/mars/Icaria Fossae.jpg\"/><p class=\"thumbcontent\">December 21, 2020<br/>Icaria Fossae</p></div></a><a class=\"fancybox-thumbs\" data-fancybox-group=\"thumb\" href=\"image/mars/Ariadnes Colles4.jpg\"><div class=\"thmb\"><img alt=\"\" class=\"thumbimg\" src=\"image/mars/Ariadnes Colles4.jpg\"/><p class=\"thumbcontent\">December 18, 2020<br/>Ariadnes Colles</p></div></a><a class=\"fancybox-thumbs\" data-fancybox-group=\"thumb\" href=\"image/mars/Niger Vallis.jpg\"><div class=\"thmb\"><img alt=\"\" class=\"thumbimg\" src=\"image/mars/Niger Vallis.jpg\"/><p class=\"thumbcontent\">December 17, 2020<br/>Niger Vallis</p></div></a><a class=\"fancybox-thumbs\" data-fancybox-group=\"thumb\" href=\"image/mars/Proctor Crater Dunes.jpg\"><div class=\"thmb\"><img alt=\"\" class=\"thumbimg\" src=\"image/mars/Proctor Crater Dunes.jpg\"/><p class=\"thumbcontent\">December 16, 2020<br/>Proctor Crater Dunes</p></div></a><a class=\"fancybox-thumbs\" data-fancybox-group=\"thumb\" href=\"image/mars/Niger Vallis.jpg\"><div class=\"thmb\"><img alt=\"\" class=\"thumbimg\" src=\"image/mars/Niger Vallis.jpg\"/><p class=\"thumbcontent\">December 15, 2020<br/>Niger Vallis</p></div></a><a class=\"fancybox-thumbs\" data-fancybox-group=\"thumb\" href=\"image/mars/Daedalia Planum.jpg\"><div class=\"thmb\"><img alt=\"\" class=\"thumbimg\" src=\"image/mars/Daedalia Planum.jpg\"/><p class=\"thumbcontent\">December 11, 2020<br/>Daedalia Planum</p></div></a><a class=\"fancybox-thumbs\" data-fancybox-group=\"thumb\" href=\"image/mars/Sirenum Fossae.jpg\"><div class=\"thmb\"><img alt=\"\" class=\"thumbimg\" src=\"image/mars/Sirenum Fossae.jpg\"/><p class=\"thumbcontent\">November,11, 2020<br/>Sirenum Fossae</p></div></a><a class=\"fancybox-thumbs\" data-fancybox-group=\"thumb\" href=\"image/mars/Ariadnes Colles4.jpg\"><div class=\"thmb\"><img alt=\"\" class=\"thumbimg\" src=\"image/mars/Ariadnes Colles4.jpg\"/><p class=\"thumbcontent\">November,13, 2020<br/>Ariadnes Colles</p></div></a><a class=\"fancybox-thumbs\" data-fancybox-group=\"thumb\" href=\"image/mars/South Polar Cap.jpg\"><div class=\"thmb\"><img alt=\"\" class=\"thumbimg\" src=\"image/mars/South Polar Cap.jpg\"/><p class=\"thumbcontent\">November,14, 2020<br/>South Polar Cap</p></div></a><a class=\"fancybox-thumbs\" data-fancybox-group=\"thumb\" href=\"image/mars/Daedalia Planum.jpg\"><div class=\"thmb\"><img alt=\"\" class=\"thumbimg\" src=\"image/mars/Daedalia Planum.jpg\"/><p class=\"thumbcontent\">November,17, 2020<br/>Daedalia Planum</p></div></a><a class=\"fancybox-thumbs\" data-fancybox-group=\"thumb\" href=\"image/mars/Ariadnes Colles3.jpg\"><div class=\"thmb\"><img alt=\"\" class=\"thumbimg\" src=\"image/mars/Ariadnes Colles3.jpg\"/><p class=\"thumbcontent\">November,11, 2020<br/>Ariadnes Colles</p></div></a><a class=\"fancybox-thumbs\" data-fancybox-group=\"thumb\" href=\"image/mars/Atlantis Chaos.jpg\"><div class=\"thmb\"><img alt=\"\" class=\"thumbimg\" src=\"image/mars/Atlantis Chaos.jpg\"/><p class=\"thumbcontent\">November,09, 2020<br/>Atlantis Chaos</p></div></a><a class=\"fancybox-thumbs\" data-fancybox-group=\"thumb\" href=\"image/mars/Daedalia Planum.jpg\"><div class=\"thmb\"><img alt=\"\" class=\"thumbimg\" src=\"image/mars/Daedalia Planum.jpg\"/><p class=\"thumbcontent\">January 1, 2020<br/>Daedalia Planum</p></div></a><a class=\"fancybox-thumbs\" data-fancybox-group=\"thumb\" href=\"image/mars/Icaria Fossae.jpg\"><div class=\"thmb\"><img alt=\"\" class=\"thumbimg\" src=\"image/mars/Icaria Fossae.jpg\"/><p class=\"thumbcontent\">January 1, 2020<br/>Icaria Fossae</p></div></a><a class=\"fancybox-thumbs\" data-fancybox-group=\"thumb\" href=\"image/mars/Niger Vallis.jpg\"><div class=\"thmb\"><img alt=\"\" class=\"thumbimg\" src=\"image/mars/Niger Vallis.jpg\"/><p class=\"thumbcontent\">January 1, 2020<br/>Niger Vallis</p></div></a><a class=\"fancybox-thumbs\" data-fancybox-group=\"thumb\" href=\"image/mars/Proctor Crater Dunes.jpg\"><div class=\"thmb\"><img alt=\"\" class=\"thumbimg\" src=\"image/mars/Proctor Crater Dunes.jpg\"/><p class=\"thumbcontent\">January 1, 2020<br/>Proctor Crater Dunes</p></div></a><a class=\"fancybox-thumbs\" data-fancybox-group=\"thumb\" href=\"image/mars/Reull Vallis.jpg\"><div class=\"thmb\"><img alt=\"\" class=\"thumbimg\" src=\"image/mars/Reull Vallis.jpg\"/><p class=\"thumbcontent\">January 1, 2020<br/>Reull Vallis</p></div></a><a class=\"fancybox-thumbs\" data-fancybox-group=\"thumb\" href=\"image/mars/Ariadnes Colles3.jpg\"><div class=\"thmb\"><img alt=\"\" class=\"thumbimg\" src=\"image/mars/Ariadnes Colles3.jpg\"/><p class=\"thumbcontent\">January 1, 2020<br/>Ariadnes Colles</p></div></a><a class=\"fancybox-thumbs\" data-fancybox-group=\"thumb\" href=\"image/mars/Sirenum Fossae.jpg\"><div class=\"thmb\"><img alt=\"\" class=\"thumbimg\" src=\"image/mars/Sirenum Fossae.jpg\"/><p class=\"thumbcontent\">January 1, 2020<br/>Sirenum Fossae</p></div></a><a class=\"fancybox-thumbs\" data-fancybox-group=\"thumb\" href=\"image/mars/South Polar Cap.jpg\"><div class=\"thmb\"><img alt=\"\" class=\"thumbimg\" src=\"image/mars/South Polar Cap.jpg\"/><p class=\"thumbcontent\">January 1, 2020<br/>South Polar Cap</p></div></a><a class=\"fancybox-thumbs\" data-fancybox-group=\"thumb\" href=\"image/mars/Niger Vallis.jpg\"><div class=\"thmb\"><img alt=\"\" class=\"thumbimg\" src=\"image/mars/Niger Vallis.jpg\"/><p class=\"thumbcontent\">January 1, 2020<br/>Niger Vallis</p></div></a><a class=\"fancybox-thumbs\" data-fancybox-group=\"thumb\" href=\"image/mars/Daedalia Planum.jpg\"><div class=\"thmb\"><img alt=\"\" class=\"thumbimg\" src=\"image/mars/Daedalia Planum.jpg\"/><p class=\"thumbcontent\">January 1, 2020<br/>Daedalia Planum</p></div></a><a class=\"fancybox-thumbs\" data-fancybox-group=\"thumb\" href=\"image/mars/Icaria Fossae.jpg\"><div class=\"thmb\"><img alt=\"\" class=\"thumbimg\" src=\"image/mars/Icaria Fossae.jpg\"/><p class=\"thumbcontent\">January 1, 2020<br/>Icaria Fossae</p></div></a><a class=\"fancybox-thumbs\" data-fancybox-group=\"thumb\" href=\"image/mars/Ariadnes Colles4.jpg\"><div class=\"thmb\"><img alt=\"\" class=\"thumbimg\" src=\"image/mars/Ariadnes Colles4.jpg\"/><p class=\"thumbcontent\">January 1, 2020<br/>Ariadnes Colles</p></div></a><a class=\"fancybox-thumbs\" data-fancybox-group=\"thumb\" href=\"image/mars/South Polar Cap.jpg\"><div class=\"thmb\"><img alt=\"\" class=\"thumbimg\" src=\"image/mars/South Polar Cap.jpg\"/><p class=\"thumbcontent\">January 1, 2020<br/>South Polar Cap</p></div></a><a class=\"fancybox-thumbs\" data-fancybox-group=\"thumb\" href=\"image/mars/Daedalia Planum.jpg\"><div class=\"thmb\"><img alt=\"\" class=\"thumbimg\" src=\"image/mars/Daedalia Planum.jpg\"/><p class=\"thumbcontent\">January 1, 2020<br/>Daedalia Planum</p></div></a></div>\n",
       "</div>\n",
       "<!-- first div ends -->\n",
       "<!-- second div starts -->\n",
       "<div class=\"col-md-12 grid-margin\" id=\"column\">\n",
       "<ul class=\"post-list\">\n",
       "<li class=\"post-heading\"></li>\n",
       "</ul>\n",
       "</div>\n",
       "<!-- second div starts -->\n",
       "</div>\n",
       "<div class=\"first imgcontainer mt-3\">\n",
       "<div class=\"col-md-12\">\n",
       "<div class=\"row\">\n",
       "<div class=\"col-md-3\">\n",
       "<img id=\"pic\" src=\"\"/>\n",
       "</div>\n",
       "</div>\n",
       "</div>\n",
       "</div>\n",
       "<!-- end -->\n",
       "<div class=\"module_gallery container\">\n",
       "<div class=\"col-md-12\">\n",
       "<div class=\"row\">\n",
       "<div class=\"col-md-6\">\n",
       "<div class=\"card\">\n",
       "<img alt=\"Card image cap\" class=\"card-img-top\" src=\"https://www.jpl.nasa.gov/assets/images/content/tmp/images/jpl_photojournal(3x1).jpg\"/>\n",
       "<div class=\"card-body\">\n",
       "<h5 class=\"card-title\">JPL Photojournal</h5>\n",
       "<p class=\"card-text\">Access to the full library of publicly released images from various Solar System exploration programs</p>\n",
       "</div>\n",
       "</div>\n",
       "</div>\n",
       "<div class=\"col-md-6\">\n",
       "<div class=\"card\">\n",
       "<img alt=\"Card image cap\" class=\"card-img-top\" src=\"https://www.jpl.nasa.gov/assets/images/content/tmp/images/nasa_images(3x1).jpg\"/>\n",
       "<div class=\"card-body\">\n",
       "<h5 class=\"card-title\">Great images in NASA</h5>\n",
       "<p class=\"card-text\">A selection of the best-known images from a half-century of exploration and discovery</p>\n",
       "</div>\n",
       "</div>\n",
       "</div>\n",
       "</div>\n",
       "</div>\n",
       "</div>\n",
       "<div class=\"multi_teaser\">\n",
       "<div class=\"container\">\n",
       "<h1>You Might Also Like</h1>\n",
       "<div class=\"col-md-12 mt-5\">\n",
       "<div class=\"row\">\n",
       "<div class=\"col-md-4\">\n",
       "<div class=\"card\">\n",
       "<img alt=\"Card image cap\" class=\"card-img-top\" src=\"https://imagecache.jpl.nasa.gov/images/640x350/C1-PIA24304---CatScanMars-16-640x350.gif\"/>\n",
       "<div class=\"card-body\">\n",
       "<p class=\"card-text\">Access to the full library of publicly released images from various Solar System exploration programs</p>\n",
       "</div>\n",
       "</div>\n",
       "</div>\n",
       "<div class=\"col-md-4\">\n",
       "<div class=\"card\">\n",
       "<img alt=\"Card image cap\" class=\"card-img-top\" src=\"https://imagecache.jpl.nasa.gov/images/640x350/PIA23491-16-640x350.jpg\"/>\n",
       "<div class=\"card-body\">\n",
       "<p class=\"card-text\">Access to the full library of publicly released images from various Solar System exploration programs</p>\n",
       "</div>\n",
       "</div>\n",
       "</div>\n",
       "<div class=\"col-md-4\">\n",
       "<div class=\"card\">\n",
       "<img alt=\"Card image cap\" class=\"card-img-top\" src=\"https://imagecache.jpl.nasa.gov/images/640x350/C1-PIA23180-16-640x350.gif\"/>\n",
       "<div class=\"card-body\">\n",
       "<p class=\"card-text\">Access to the full library of publicly released images from various Solar System exploration programs</p>\n",
       "</div>\n",
       "</div>\n",
       "</div>\n",
       "</div>\n",
       "</div>\n",
       "</div>\n",
       "</div>\n",
       "<div class=\"footer\">\n",
       "<div class=\"container\">\n",
       "<div class=\"col-md-12\">\n",
       "<div class=\"row\">\n",
       "<div class=\"col-md-3\">\n",
       "<h4>About JPL</h4>\n",
       "<ul>\n",
       "<li>About JPL</li>\n",
       "<li>JPL Vision</li>\n",
       "<li>Executive Council</li>\n",
       "<li>History</li>\n",
       "</ul>\n",
       "</div>\n",
       "<div class=\"col-md-3\">\n",
       "<h4>Education</h4>\n",
       "<ul>\n",
       "<li>Intern</li>\n",
       "<li>Learn</li>\n",
       "<li>Teach</li>\n",
       "<li>News</li>\n",
       "</ul>\n",
       "</div>\n",
       "<div class=\"col-md-3\">\n",
       "<h4>Our Sites</h4>\n",
       "<ul>\n",
       "<li>Asteroid Watch</li>\n",
       "<li>Basics of Spaceflight</li>\n",
       "<li>Cassini - Mission to Saturn</li>\n",
       "<li>Climate Kids</li>\n",
       "</ul>\n",
       "</div>\n",
       "<div class=\"col-md-3\">\n",
       "<h4>Galleries</h4>\n",
       "<ul>\n",
       "<li>JPL Space Images</li>\n",
       "<li>Videos</li>\n",
       "<li>Infographics</li>\n",
       "<li>Photojournal</li>\n",
       "</ul>\n",
       "</div>\n",
       "</div>\n",
       "</div>\n",
       "</div>\n",
       "</div>\n",
       "<!--<div class=\"showFullimage\">\n",
       "\t<button class=\"btn btn-outline-light hideimage\" onclick=hideimage()> Close</button>\n",
       "\t<img class=\"fullimage fade-in\" src=\"\">\n",
       "</div>-->\n",
       "<!-- <script src=\"js/jquery.easeScroll.js\"></script>  -->\n",
       "<script src=\"js/jquery-3.5.1.min.js\"></script>\n",
       "<!-- <script src=\"js/jquery-3.2.1.slim.min.js\"></script> -->\n",
       "<script src=\"js/demo.js\"></script>\n",
       "<!-- <script src=\"js/app.js\"></script> -->\n",
       "<script src=\"https://cdnjs.cloudflare.com/ajax/libs/popper.js/1.12.9/umd/popper.min.js\"></script>\n",
       "<script src=\"https://maxcdn.bootstrapcdn.com/bootstrap/4.0.0/js/bootstrap.min.js\"></script>\n",
       "<script src=\"js/fancyBox/jquery.fancybox.pack.js?v=2.1.5\" type=\"text/javascript\"></script>\n",
       "<link href=\"js/fancyBox/jquery.fancybox.css?v=2.1.5\" media=\"screen\" rel=\"stylesheet\" type=\"text/css\"/>\n",
       "<link href=\"js/fancyBox/helpers/jquery.fancybox-thumbs.css?v=1.0.7\" rel=\"stylesheet\" type=\"text/css\"/>\n",
       "<script src=\"js/fancyBox/helpers/jquery.fancybox-thumbs.js?v=1.0.7\" type=\"text/javascript\"></script>\n",
       "<div class=\"fancybox-overlay fancybox-overlay-fixed\" style=\"width: auto; height: auto; display: block;\"><div class=\"fancybox-wrap fancybox-desktop fancybox-type-image fancybox-opened\" style=\"width: 670px; height: auto; position: absolute; top: 74px; left: 174px; opacity: 1; overflow: visible;\" tabindex=\"-1\"><div class=\"fancybox-skin\" style=\"padding: 15px; width: auto; height: auto;\"><div class=\"fancybox-outer\"><div class=\"fancybox-inner\" style=\"overflow: visible; width: 640px; height: 350px;\"><img alt=\"\" class=\"fancybox-image\" src=\"image/featured/mars2.jpg\"/></div></div><a class=\"fancybox-item fancybox-close\" href=\"javascript:;\" title=\"Close\"></a></div></div></div></body></html>"
      ]
     },
     "metadata": {},
     "execution_count": 19
    }
   ],
   "metadata": {
    "scrolled": true
   }
  },
  {
   "cell_type": "code",
   "execution_count": 20,
   "source": [
    "# find the relative image url\r\n",
    "img_url_rel = img_soup.find('img', class_='fancybox-image').get('src')\r\n",
    "img_url_rel"
   ],
   "outputs": [
    {
     "output_type": "execute_result",
     "data": {
      "text/plain": [
       "'image/featured/mars2.jpg'"
      ]
     },
     "metadata": {},
     "execution_count": 20
    }
   ],
   "metadata": {}
  },
  {
   "cell_type": "code",
   "execution_count": 21,
   "source": [
    "# Use the base url to create an absolute url\r\n",
    "img_url = f'https://spaceimages-mars.com/{img_url_rel}'\r\n",
    "img_url"
   ],
   "outputs": [
    {
     "output_type": "execute_result",
     "data": {
      "text/plain": [
       "'https://spaceimages-mars.com/image/featured/mars2.jpg'"
      ]
     },
     "metadata": {},
     "execution_count": 21
    }
   ],
   "metadata": {}
  },
  {
   "cell_type": "markdown",
   "source": [
    "### Mars Facts"
   ],
   "metadata": {}
  },
  {
   "cell_type": "code",
   "execution_count": 22,
   "source": [
    "df = pd.read_html('https://galaxyfacts-mars.com')[0]\r\n",
    "df.head()"
   ],
   "outputs": [
    {
     "output_type": "execute_result",
     "data": {
      "text/plain": [
       "                         0                1                2\n",
       "0  Mars - Earth Comparison             Mars            Earth\n",
       "1                Diameter:         6,779 km        12,742 km\n",
       "2                    Mass:  6.39 × 10^23 kg  5.97 × 10^24 kg\n",
       "3                   Moons:                2                1\n",
       "4       Distance from Sun:   227,943,824 km   149,598,262 km"
      ],
      "text/html": [
       "<div>\n",
       "<style scoped>\n",
       "    .dataframe tbody tr th:only-of-type {\n",
       "        vertical-align: middle;\n",
       "    }\n",
       "\n",
       "    .dataframe tbody tr th {\n",
       "        vertical-align: top;\n",
       "    }\n",
       "\n",
       "    .dataframe thead th {\n",
       "        text-align: right;\n",
       "    }\n",
       "</style>\n",
       "<table border=\"1\" class=\"dataframe\">\n",
       "  <thead>\n",
       "    <tr style=\"text-align: right;\">\n",
       "      <th></th>\n",
       "      <th>0</th>\n",
       "      <th>1</th>\n",
       "      <th>2</th>\n",
       "    </tr>\n",
       "  </thead>\n",
       "  <tbody>\n",
       "    <tr>\n",
       "      <th>0</th>\n",
       "      <td>Mars - Earth Comparison</td>\n",
       "      <td>Mars</td>\n",
       "      <td>Earth</td>\n",
       "    </tr>\n",
       "    <tr>\n",
       "      <th>1</th>\n",
       "      <td>Diameter:</td>\n",
       "      <td>6,779 km</td>\n",
       "      <td>12,742 km</td>\n",
       "    </tr>\n",
       "    <tr>\n",
       "      <th>2</th>\n",
       "      <td>Mass:</td>\n",
       "      <td>6.39 × 10^23 kg</td>\n",
       "      <td>5.97 × 10^24 kg</td>\n",
       "    </tr>\n",
       "    <tr>\n",
       "      <th>3</th>\n",
       "      <td>Moons:</td>\n",
       "      <td>2</td>\n",
       "      <td>1</td>\n",
       "    </tr>\n",
       "    <tr>\n",
       "      <th>4</th>\n",
       "      <td>Distance from Sun:</td>\n",
       "      <td>227,943,824 km</td>\n",
       "      <td>149,598,262 km</td>\n",
       "    </tr>\n",
       "  </tbody>\n",
       "</table>\n",
       "</div>"
      ]
     },
     "metadata": {},
     "execution_count": 22
    }
   ],
   "metadata": {}
  },
  {
   "cell_type": "code",
   "execution_count": 23,
   "source": [
    "df.columns=['Description', 'Mars', 'Earth']\r\n",
    "df.set_index('Description', inplace=True)\r\n",
    "df"
   ],
   "outputs": [
    {
     "output_type": "execute_result",
     "data": {
      "text/plain": [
       "                                    Mars            Earth\n",
       "Description                                              \n",
       "Mars - Earth Comparison             Mars            Earth\n",
       "Diameter:                       6,779 km        12,742 km\n",
       "Mass:                    6.39 × 10^23 kg  5.97 × 10^24 kg\n",
       "Moons:                                 2                1\n",
       "Distance from Sun:        227,943,824 km   149,598,262 km\n",
       "Length of Year:           687 Earth days      365.24 days\n",
       "Temperature:                -87 to -5 °C      -88 to 58°C"
      ],
      "text/html": [
       "<div>\n",
       "<style scoped>\n",
       "    .dataframe tbody tr th:only-of-type {\n",
       "        vertical-align: middle;\n",
       "    }\n",
       "\n",
       "    .dataframe tbody tr th {\n",
       "        vertical-align: top;\n",
       "    }\n",
       "\n",
       "    .dataframe thead th {\n",
       "        text-align: right;\n",
       "    }\n",
       "</style>\n",
       "<table border=\"1\" class=\"dataframe\">\n",
       "  <thead>\n",
       "    <tr style=\"text-align: right;\">\n",
       "      <th></th>\n",
       "      <th>Mars</th>\n",
       "      <th>Earth</th>\n",
       "    </tr>\n",
       "    <tr>\n",
       "      <th>Description</th>\n",
       "      <th></th>\n",
       "      <th></th>\n",
       "    </tr>\n",
       "  </thead>\n",
       "  <tbody>\n",
       "    <tr>\n",
       "      <th>Mars - Earth Comparison</th>\n",
       "      <td>Mars</td>\n",
       "      <td>Earth</td>\n",
       "    </tr>\n",
       "    <tr>\n",
       "      <th>Diameter:</th>\n",
       "      <td>6,779 km</td>\n",
       "      <td>12,742 km</td>\n",
       "    </tr>\n",
       "    <tr>\n",
       "      <th>Mass:</th>\n",
       "      <td>6.39 × 10^23 kg</td>\n",
       "      <td>5.97 × 10^24 kg</td>\n",
       "    </tr>\n",
       "    <tr>\n",
       "      <th>Moons:</th>\n",
       "      <td>2</td>\n",
       "      <td>1</td>\n",
       "    </tr>\n",
       "    <tr>\n",
       "      <th>Distance from Sun:</th>\n",
       "      <td>227,943,824 km</td>\n",
       "      <td>149,598,262 km</td>\n",
       "    </tr>\n",
       "    <tr>\n",
       "      <th>Length of Year:</th>\n",
       "      <td>687 Earth days</td>\n",
       "      <td>365.24 days</td>\n",
       "    </tr>\n",
       "    <tr>\n",
       "      <th>Temperature:</th>\n",
       "      <td>-87 to -5 °C</td>\n",
       "      <td>-88 to 58°C</td>\n",
       "    </tr>\n",
       "  </tbody>\n",
       "</table>\n",
       "</div>"
      ]
     },
     "metadata": {},
     "execution_count": 23
    }
   ],
   "metadata": {}
  },
  {
   "cell_type": "code",
   "execution_count": 24,
   "source": [
    "df.to_html()"
   ],
   "outputs": [
    {
     "output_type": "execute_result",
     "data": {
      "text/plain": [
       "'<table border=\"1\" class=\"dataframe\">\\n  <thead>\\n    <tr style=\"text-align: right;\">\\n      <th></th>\\n      <th>Mars</th>\\n      <th>Earth</th>\\n    </tr>\\n    <tr>\\n      <th>Description</th>\\n      <th></th>\\n      <th></th>\\n    </tr>\\n  </thead>\\n  <tbody>\\n    <tr>\\n      <th>Mars - Earth Comparison</th>\\n      <td>Mars</td>\\n      <td>Earth</td>\\n    </tr>\\n    <tr>\\n      <th>Diameter:</th>\\n      <td>6,779 km</td>\\n      <td>12,742 km</td>\\n    </tr>\\n    <tr>\\n      <th>Mass:</th>\\n      <td>6.39 × 10^23 kg</td>\\n      <td>5.97 × 10^24 kg</td>\\n    </tr>\\n    <tr>\\n      <th>Moons:</th>\\n      <td>2</td>\\n      <td>1</td>\\n    </tr>\\n    <tr>\\n      <th>Distance from Sun:</th>\\n      <td>227,943,824 km</td>\\n      <td>149,598,262 km</td>\\n    </tr>\\n    <tr>\\n      <th>Length of Year:</th>\\n      <td>687 Earth days</td>\\n      <td>365.24 days</td>\\n    </tr>\\n    <tr>\\n      <th>Temperature:</th>\\n      <td>-87 to -5 °C</td>\\n      <td>-88 to 58°C</td>\\n    </tr>\\n  </tbody>\\n</table>'"
      ]
     },
     "metadata": {},
     "execution_count": 24
    }
   ],
   "metadata": {}
  },
  {
   "cell_type": "markdown",
   "source": [
    "# D1: Scrape High-Resolution Mars’ Hemisphere Images and Titles"
   ],
   "metadata": {}
  },
  {
   "cell_type": "markdown",
   "source": [
    "### Hemispheres"
   ],
   "metadata": {}
  },
  {
   "cell_type": "code",
   "execution_count": 41,
   "source": [
    "# 1. Use browser to visit the URL \r\n",
    "url = 'https://marshemispheres.com/'\r\n",
    "\r\n",
    "browser.visit(url)"
   ],
   "outputs": [],
   "metadata": {}
  },
  {
   "cell_type": "code",
   "execution_count": 42,
   "source": [
    "# 2. Create a list to hold the images and titles.\r\n",
    "hemisphere_image_urls = []\r\n",
    "\r\n",
    "# 3. Write code to retrieve the image urls and titles for each hemisphere.\r\n",
    "for i in range(4):\r\n",
    "#     print(i)\r\n",
    "\r\n",
    "    hemisphere={}\r\n",
    "    browser.find_by_css('a.product-item img')[i].click()\r\n",
    "    # Next, we find the Sample image anchor tag and extract the href\r\n",
    "    sample_elem = browser.links.find_by_text('Sample').first\r\n",
    "    hemisphere['img_url'] = sample_elem['href']\r\n",
    "    # Get Hemisphere title\r\n",
    "    hemisphere['title'] = browser.find_by_css('h2.title').text\r\n",
    "    # Append hemisphere object to list\r\n",
    "    hemisphere_image_urls.append(hemisphere)\r\n",
    "    # Finally, we navigate backwards\r\n",
    "    browser.back()\r\n"
   ],
   "outputs": [],
   "metadata": {}
  },
  {
   "cell_type": "code",
   "execution_count": 39,
   "source": [
    "# 4. Print the list that holds the dictionary of each image url and title.\r\n",
    "hemisphere_image_urls"
   ],
   "outputs": [
    {
     "output_type": "execute_result",
     "data": {
      "text/plain": [
       "[{'img_url': 'https://marshemispheres.com/images/full.jpg',\n",
       "  'title': 'Cerberus Hemisphere Enhanced'},\n",
       " {'img_url': 'https://marshemispheres.com/images/schiaparelli_enhanced-full.jpg',\n",
       "  'title': 'Schiaparelli Hemisphere Enhanced'},\n",
       " {'img_url': 'https://marshemispheres.com/images/syrtis_major_enhanced-full.jpg',\n",
       "  'title': 'Syrtis Major Hemisphere Enhanced'},\n",
       " {'img_url': 'https://marshemispheres.com/images/valles_marineris_enhanced-full.jpg',\n",
       "  'title': 'Valles Marineris Hemisphere Enhanced'}]"
      ]
     },
     "metadata": {},
     "execution_count": 39
    }
   ],
   "metadata": {}
  },
  {
   "cell_type": "code",
   "execution_count": 43,
   "source": [
    "# 5. Quit the browser\r\n",
    "browser.quit()"
   ],
   "outputs": [],
   "metadata": {}
  },
  {
   "cell_type": "code",
   "execution_count": null,
   "source": [],
   "outputs": [],
   "metadata": {}
  }
 ],
 "metadata": {
  "kernelspec": {
   "display_name": "PythonData",
   "language": "python",
   "name": "pythondata"
  },
  "language_info": {
   "codemirror_mode": {
    "name": "ipython",
    "version": 3
   },
   "file_extension": ".py",
   "mimetype": "text/x-python",
   "name": "python",
   "nbconvert_exporter": "python",
   "pygments_lexer": "ipython3",
   "version": "3.8.8"
  },
  "nteract": {
   "version": "0.15.0"
  }
 },
 "nbformat": 4,
 "nbformat_minor": 4
}